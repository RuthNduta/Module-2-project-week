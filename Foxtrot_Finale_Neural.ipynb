{
  "nbformat": 4,
  "nbformat_minor": 0,
  "metadata": {
    "colab": {
      "name": "william Foxtrot Finale",
      "provenance": [],
      "collapsed_sections": []
    },
    "kernelspec": {
      "name": "python3",
      "display_name": "Python 3"
    }
  },
  "cells": [
    {
      "cell_type": "markdown",
      "metadata": {
        "id": "XIbgOtyWBkZ3"
      },
      "source": [
        "## 1.0 Defining the Question"
      ]
    },
    {
      "cell_type": "markdown",
      "metadata": {
        "id": "zI3uEbooHtEr"
      },
      "source": [
        "A resort and Lisbon City Hotel are 2 hotels located in Portugal. The two hotels wish to get the best model to predict whether their reservations will be canceled or not so that they can adequately plan themselves in terms of supplies and staffing. This will ensure that they are able to cater to their guests more efficiently.bold text\n",
        "\n",
        "\n",
        "\n"
      ]
    },
    {
      "cell_type": "markdown",
      "metadata": {
        "id": "0Cz3pP6FV574"
      },
      "source": [
        "**Dataset provided**\r\n",
        "\r\n",
        "hotel booking dataset  [link](https://www.kaggle.com/jessemostipak/hotel-booking-demand)\r\n",
        "\r\n",
        "Data grossary\r\n",
        "\r\n",
        "* **Hotel:** (H1 = Resort Hotel or H2 = City Hotel)\r\n",
        "* is_canceled: Value indicating if the booking was canceled (1) or not (0)\r\n",
        "* **lead_time:** Number of days that elapsed between the entering date of the booking into the PMS and the arrival date\r\n",
        "* **arrival_date_year:** Year of arrival date\r\n",
        "* **arrival_date_month**: Month of arrival date\r\n",
        "* **arrival_date_week_number:** Week number of year for arrival date\r\n",
        "* **arrival_date_day_of_month:** Day of arrival date\r\n",
        "* **stays_in_weekend_nights**:Number of weekend nights (Saturday or Sunday) the guest stayed or booked to stay at the hotel\r\n",
        "* **stays_in_week_night:** Number of week nights (Monday to Friday) the guest stayed or booked to stay at the hotel\r\n",
        "* **adults:** Number of adults\r\n",
        "* **deposit_type;** whether the customer paid deposit or not.\r\n",
        "* **agent:** agent id\r\n",
        "* **company:** company reversation or not \r\n",
        "* **days_in_waiting_list:** time it takes for the client booking to be accepted.\r\n",
        "* **customer_type:** type of the customer\r\n",
        "* **adr:** client address\r\n",
        "* **required_car_parking_spaces**: car parking space\r\n",
        "* **total_of_special_requests:** number of special guests\r\n",
        "* **reservation_status:** reservation status(checked in, checked out)\r\n",
        "* **reservation_status_date:** date of reservation.\r\n",
        "\r\n",
        "\r\n",
        "\r\n",
        "\r\n",
        "\r\n"
      ]
    },
    {
      "cell_type": "markdown",
      "metadata": {
        "id": "l5YHH3bFit9S"
      },
      "source": [
        "###1.1 Specifying the data analytic question"
      ]
    },
    {
      "cell_type": "markdown",
      "metadata": {
        "id": "byvGWWCqi44F"
      },
      "source": [
        "To predict if the client who made the hotel reservation will cancel or not cancel.\r\n",
        "\r\n",
        "\r\n"
      ]
    },
    {
      "cell_type": "markdown",
      "metadata": {
        "id": "2wEAs7d0ju3Q"
      },
      "source": [
        "### 1.2 Defining the metric for success\r\n",
        "\r\n",
        "identify the best model with over 80% accuracy to be used to predict on whether the hotel reservation will be canceled or not cancelled."
      ]
    },
    {
      "cell_type": "markdown",
      "metadata": {
        "id": "wDDelhKbkYzl"
      },
      "source": [
        "### 1.3 Understanding the Context\r\n",
        "\r\n",
        "Algarve resort and Lisbon City Hotel are 2 hotels located in Portugal. The two hotels receive the clients during the whole year. reservation flactuates during the year where some months register high bookings than others.\r\n",
        "Reservation cancelation is common and there is a need to minimize on this issue."
      ]
    },
    {
      "cell_type": "markdown",
      "metadata": {
        "id": "Bo0R0PJKmvFk"
      },
      "source": [
        "### 1.4 Recording the Experimental Design\r\n",
        "\r\n",
        "* upload and read our csv files\r\n",
        "* clean our dataset\r\n",
        "* perfom EDA\r\n",
        "* build our models using\r\n",
        "   * Logistic Reg\r\n",
        "   * Random Forest\r\n",
        "   * Gradient Boosted Trees\r\n",
        "   * Naive Bayes Classifier\r\n",
        "   * Neural Network\r\n",
        "   * k-NN classifier\r\n",
        "   * SVM\r\n",
        "* challenge our solution\r\n",
        "* Evaluate their performance on the dataset at hand and then provide observations and recommendations on the suitability of each of the tested models on their appropriateness of solving the given problem."
      ]
    },
    {
      "cell_type": "markdown",
      "metadata": {
        "id": "K0kkHIkboCdt"
      },
      "source": [
        "### 1.5 Assessing the Relevance of the \r\n",
        "\r\n",
        "the dataset is relevant since it has all the features related to hotel activities"
      ]
    },
    {
      "cell_type": "markdown",
      "metadata": {
        "id": "S997ZD17Bx78"
      },
      "source": [
        "## 2.Loading and reading Our Datasets"
      ]
    },
    {
      "cell_type": "code",
      "metadata": {
        "id": "-QgjKOJlIAvp"
      },
      "source": [
        "# Importing important libraries\n",
        "\n",
        "import pandas as pd\n",
        "import numpy as np\n",
        "import seaborn as sns\n",
        "import matplotlib.pyplot as plt"
      ],
      "execution_count": null,
      "outputs": []
    },
    {
      "cell_type": "code",
      "metadata": {
        "id": "Q0FbhTB8H_dy",
        "colab": {
          "base_uri": "https://localhost:8080/",
          "height": 309
        },
        "outputId": "1d00eccb-def1-47da-d4f6-afca7f635c89"
      },
      "source": [
        "# Loading the datasets\n",
        "names = ['hotel', 'is_canceled', 'lead_time', 'arrival_date_year',\n",
        "       'arrival_date_month', 'arrival_date_week_number',\n",
        "       'arrival_date_day_of_month', 'stays_in_weekend_nights',\n",
        "       'stays_in_week_nights', 'adults', 'children', 'babies', 'meal',\n",
        "       'country', 'market_segment', 'distribution_channel',\n",
        "       'is_repeated_guest', 'previous_cancellations',\n",
        "       'previous_bookings_not_canceled', 'reserved_room_type',\n",
        "       'assigned_room_type', 'booking_changes', 'deposit_type', 'agent',\n",
        "       'company', 'days_in_waiting_list', 'customer_type', 'adr',\n",
        "       'required_car_parking_spaces', 'total_of_special_requests',\n",
        "       'reservation_status', 'reservation_status_date']\n",
        "hotel_df = pd.read_csv('hotel_bookings.csv', usecols=names)\n",
        "hotel_df.head()"
      ],
      "execution_count": null,
      "outputs": [
        {
          "output_type": "execute_result",
          "data": {
            "text/html": [
              "<div>\n",
              "<style scoped>\n",
              "    .dataframe tbody tr th:only-of-type {\n",
              "        vertical-align: middle;\n",
              "    }\n",
              "\n",
              "    .dataframe tbody tr th {\n",
              "        vertical-align: top;\n",
              "    }\n",
              "\n",
              "    .dataframe thead th {\n",
              "        text-align: right;\n",
              "    }\n",
              "</style>\n",
              "<table border=\"1\" class=\"dataframe\">\n",
              "  <thead>\n",
              "    <tr style=\"text-align: right;\">\n",
              "      <th></th>\n",
              "      <th>hotel</th>\n",
              "      <th>is_canceled</th>\n",
              "      <th>lead_time</th>\n",
              "      <th>arrival_date_year</th>\n",
              "      <th>arrival_date_month</th>\n",
              "      <th>arrival_date_week_number</th>\n",
              "      <th>arrival_date_day_of_month</th>\n",
              "      <th>stays_in_weekend_nights</th>\n",
              "      <th>stays_in_week_nights</th>\n",
              "      <th>adults</th>\n",
              "      <th>children</th>\n",
              "      <th>babies</th>\n",
              "      <th>meal</th>\n",
              "      <th>country</th>\n",
              "      <th>market_segment</th>\n",
              "      <th>distribution_channel</th>\n",
              "      <th>is_repeated_guest</th>\n",
              "      <th>previous_cancellations</th>\n",
              "      <th>previous_bookings_not_canceled</th>\n",
              "      <th>reserved_room_type</th>\n",
              "      <th>assigned_room_type</th>\n",
              "      <th>booking_changes</th>\n",
              "      <th>deposit_type</th>\n",
              "      <th>agent</th>\n",
              "      <th>company</th>\n",
              "      <th>days_in_waiting_list</th>\n",
              "      <th>customer_type</th>\n",
              "      <th>adr</th>\n",
              "      <th>required_car_parking_spaces</th>\n",
              "      <th>total_of_special_requests</th>\n",
              "      <th>reservation_status</th>\n",
              "      <th>reservation_status_date</th>\n",
              "    </tr>\n",
              "  </thead>\n",
              "  <tbody>\n",
              "    <tr>\n",
              "      <th>0</th>\n",
              "      <td>Resort Hotel</td>\n",
              "      <td>0</td>\n",
              "      <td>342</td>\n",
              "      <td>2015</td>\n",
              "      <td>July</td>\n",
              "      <td>27</td>\n",
              "      <td>1</td>\n",
              "      <td>0</td>\n",
              "      <td>0</td>\n",
              "      <td>2</td>\n",
              "      <td>0.0</td>\n",
              "      <td>0</td>\n",
              "      <td>BB</td>\n",
              "      <td>PRT</td>\n",
              "      <td>Direct</td>\n",
              "      <td>Direct</td>\n",
              "      <td>0</td>\n",
              "      <td>0</td>\n",
              "      <td>0</td>\n",
              "      <td>C</td>\n",
              "      <td>C</td>\n",
              "      <td>3</td>\n",
              "      <td>No Deposit</td>\n",
              "      <td>NaN</td>\n",
              "      <td>NaN</td>\n",
              "      <td>0</td>\n",
              "      <td>Transient</td>\n",
              "      <td>0.0</td>\n",
              "      <td>0</td>\n",
              "      <td>0</td>\n",
              "      <td>Check-Out</td>\n",
              "      <td>2015-07-01</td>\n",
              "    </tr>\n",
              "    <tr>\n",
              "      <th>1</th>\n",
              "      <td>Resort Hotel</td>\n",
              "      <td>0</td>\n",
              "      <td>737</td>\n",
              "      <td>2015</td>\n",
              "      <td>July</td>\n",
              "      <td>27</td>\n",
              "      <td>1</td>\n",
              "      <td>0</td>\n",
              "      <td>0</td>\n",
              "      <td>2</td>\n",
              "      <td>0.0</td>\n",
              "      <td>0</td>\n",
              "      <td>BB</td>\n",
              "      <td>PRT</td>\n",
              "      <td>Direct</td>\n",
              "      <td>Direct</td>\n",
              "      <td>0</td>\n",
              "      <td>0</td>\n",
              "      <td>0</td>\n",
              "      <td>C</td>\n",
              "      <td>C</td>\n",
              "      <td>4</td>\n",
              "      <td>No Deposit</td>\n",
              "      <td>NaN</td>\n",
              "      <td>NaN</td>\n",
              "      <td>0</td>\n",
              "      <td>Transient</td>\n",
              "      <td>0.0</td>\n",
              "      <td>0</td>\n",
              "      <td>0</td>\n",
              "      <td>Check-Out</td>\n",
              "      <td>2015-07-01</td>\n",
              "    </tr>\n",
              "    <tr>\n",
              "      <th>2</th>\n",
              "      <td>Resort Hotel</td>\n",
              "      <td>0</td>\n",
              "      <td>7</td>\n",
              "      <td>2015</td>\n",
              "      <td>July</td>\n",
              "      <td>27</td>\n",
              "      <td>1</td>\n",
              "      <td>0</td>\n",
              "      <td>1</td>\n",
              "      <td>1</td>\n",
              "      <td>0.0</td>\n",
              "      <td>0</td>\n",
              "      <td>BB</td>\n",
              "      <td>GBR</td>\n",
              "      <td>Direct</td>\n",
              "      <td>Direct</td>\n",
              "      <td>0</td>\n",
              "      <td>0</td>\n",
              "      <td>0</td>\n",
              "      <td>A</td>\n",
              "      <td>C</td>\n",
              "      <td>0</td>\n",
              "      <td>No Deposit</td>\n",
              "      <td>NaN</td>\n",
              "      <td>NaN</td>\n",
              "      <td>0</td>\n",
              "      <td>Transient</td>\n",
              "      <td>75.0</td>\n",
              "      <td>0</td>\n",
              "      <td>0</td>\n",
              "      <td>Check-Out</td>\n",
              "      <td>2015-07-02</td>\n",
              "    </tr>\n",
              "    <tr>\n",
              "      <th>3</th>\n",
              "      <td>Resort Hotel</td>\n",
              "      <td>0</td>\n",
              "      <td>13</td>\n",
              "      <td>2015</td>\n",
              "      <td>July</td>\n",
              "      <td>27</td>\n",
              "      <td>1</td>\n",
              "      <td>0</td>\n",
              "      <td>1</td>\n",
              "      <td>1</td>\n",
              "      <td>0.0</td>\n",
              "      <td>0</td>\n",
              "      <td>BB</td>\n",
              "      <td>GBR</td>\n",
              "      <td>Corporate</td>\n",
              "      <td>Corporate</td>\n",
              "      <td>0</td>\n",
              "      <td>0</td>\n",
              "      <td>0</td>\n",
              "      <td>A</td>\n",
              "      <td>A</td>\n",
              "      <td>0</td>\n",
              "      <td>No Deposit</td>\n",
              "      <td>304.0</td>\n",
              "      <td>NaN</td>\n",
              "      <td>0</td>\n",
              "      <td>Transient</td>\n",
              "      <td>75.0</td>\n",
              "      <td>0</td>\n",
              "      <td>0</td>\n",
              "      <td>Check-Out</td>\n",
              "      <td>2015-07-02</td>\n",
              "    </tr>\n",
              "    <tr>\n",
              "      <th>4</th>\n",
              "      <td>Resort Hotel</td>\n",
              "      <td>0</td>\n",
              "      <td>14</td>\n",
              "      <td>2015</td>\n",
              "      <td>July</td>\n",
              "      <td>27</td>\n",
              "      <td>1</td>\n",
              "      <td>0</td>\n",
              "      <td>2</td>\n",
              "      <td>2</td>\n",
              "      <td>0.0</td>\n",
              "      <td>0</td>\n",
              "      <td>BB</td>\n",
              "      <td>GBR</td>\n",
              "      <td>Online TA</td>\n",
              "      <td>TA/TO</td>\n",
              "      <td>0</td>\n",
              "      <td>0</td>\n",
              "      <td>0</td>\n",
              "      <td>A</td>\n",
              "      <td>A</td>\n",
              "      <td>0</td>\n",
              "      <td>No Deposit</td>\n",
              "      <td>240.0</td>\n",
              "      <td>NaN</td>\n",
              "      <td>0</td>\n",
              "      <td>Transient</td>\n",
              "      <td>98.0</td>\n",
              "      <td>0</td>\n",
              "      <td>1</td>\n",
              "      <td>Check-Out</td>\n",
              "      <td>2015-07-03</td>\n",
              "    </tr>\n",
              "  </tbody>\n",
              "</table>\n",
              "</div>"
            ],
            "text/plain": [
              "          hotel  is_canceled  ...  reservation_status  reservation_status_date\n",
              "0  Resort Hotel            0  ...           Check-Out               2015-07-01\n",
              "1  Resort Hotel            0  ...           Check-Out               2015-07-01\n",
              "2  Resort Hotel            0  ...           Check-Out               2015-07-02\n",
              "3  Resort Hotel            0  ...           Check-Out               2015-07-02\n",
              "4  Resort Hotel            0  ...           Check-Out               2015-07-03\n",
              "\n",
              "[5 rows x 32 columns]"
            ]
          },
          "metadata": {
            "tags": []
          },
          "execution_count": 2
        }
      ]
    },
    {
      "cell_type": "markdown",
      "metadata": {
        "id": "eqbSuKeBI4Jc"
      },
      "source": [
        "### 3. Checking the Data"
      ]
    },
    {
      "cell_type": "code",
      "metadata": {
        "id": "IGNEFhaII7t3",
        "colab": {
          "base_uri": "https://localhost:8080/"
        },
        "outputId": "e996f4a2-b62f-4bc2-8a53-a93e465a8503"
      },
      "source": [
        "# Determing the number of records in our dataset\n",
        "hotel_df.shape"
      ],
      "execution_count": null,
      "outputs": [
        {
          "output_type": "execute_result",
          "data": {
            "text/plain": [
              "(119390, 32)"
            ]
          },
          "metadata": {
            "tags": []
          },
          "execution_count": 3
        }
      ]
    },
    {
      "cell_type": "code",
      "metadata": {
        "id": "HQi_ZRMMJBC9",
        "colab": {
          "base_uri": "https://localhost:8080/",
          "height": 309
        },
        "outputId": "2016e583-99af-42d8-9820-70a80604b92b"
      },
      "source": [
        "# Previewing the first records of our dataset\n",
        "hotel_df.head()"
      ],
      "execution_count": null,
      "outputs": [
        {
          "output_type": "execute_result",
          "data": {
            "text/html": [
              "<div>\n",
              "<style scoped>\n",
              "    .dataframe tbody tr th:only-of-type {\n",
              "        vertical-align: middle;\n",
              "    }\n",
              "\n",
              "    .dataframe tbody tr th {\n",
              "        vertical-align: top;\n",
              "    }\n",
              "\n",
              "    .dataframe thead th {\n",
              "        text-align: right;\n",
              "    }\n",
              "</style>\n",
              "<table border=\"1\" class=\"dataframe\">\n",
              "  <thead>\n",
              "    <tr style=\"text-align: right;\">\n",
              "      <th></th>\n",
              "      <th>hotel</th>\n",
              "      <th>is_canceled</th>\n",
              "      <th>lead_time</th>\n",
              "      <th>arrival_date_year</th>\n",
              "      <th>arrival_date_month</th>\n",
              "      <th>arrival_date_week_number</th>\n",
              "      <th>arrival_date_day_of_month</th>\n",
              "      <th>stays_in_weekend_nights</th>\n",
              "      <th>stays_in_week_nights</th>\n",
              "      <th>adults</th>\n",
              "      <th>children</th>\n",
              "      <th>babies</th>\n",
              "      <th>meal</th>\n",
              "      <th>country</th>\n",
              "      <th>market_segment</th>\n",
              "      <th>distribution_channel</th>\n",
              "      <th>is_repeated_guest</th>\n",
              "      <th>previous_cancellations</th>\n",
              "      <th>previous_bookings_not_canceled</th>\n",
              "      <th>reserved_room_type</th>\n",
              "      <th>assigned_room_type</th>\n",
              "      <th>booking_changes</th>\n",
              "      <th>deposit_type</th>\n",
              "      <th>agent</th>\n",
              "      <th>company</th>\n",
              "      <th>days_in_waiting_list</th>\n",
              "      <th>customer_type</th>\n",
              "      <th>adr</th>\n",
              "      <th>required_car_parking_spaces</th>\n",
              "      <th>total_of_special_requests</th>\n",
              "      <th>reservation_status</th>\n",
              "      <th>reservation_status_date</th>\n",
              "    </tr>\n",
              "  </thead>\n",
              "  <tbody>\n",
              "    <tr>\n",
              "      <th>0</th>\n",
              "      <td>Resort Hotel</td>\n",
              "      <td>0</td>\n",
              "      <td>342</td>\n",
              "      <td>2015</td>\n",
              "      <td>July</td>\n",
              "      <td>27</td>\n",
              "      <td>1</td>\n",
              "      <td>0</td>\n",
              "      <td>0</td>\n",
              "      <td>2</td>\n",
              "      <td>0.0</td>\n",
              "      <td>0</td>\n",
              "      <td>BB</td>\n",
              "      <td>PRT</td>\n",
              "      <td>Direct</td>\n",
              "      <td>Direct</td>\n",
              "      <td>0</td>\n",
              "      <td>0</td>\n",
              "      <td>0</td>\n",
              "      <td>C</td>\n",
              "      <td>C</td>\n",
              "      <td>3</td>\n",
              "      <td>No Deposit</td>\n",
              "      <td>NaN</td>\n",
              "      <td>NaN</td>\n",
              "      <td>0</td>\n",
              "      <td>Transient</td>\n",
              "      <td>0.0</td>\n",
              "      <td>0</td>\n",
              "      <td>0</td>\n",
              "      <td>Check-Out</td>\n",
              "      <td>2015-07-01</td>\n",
              "    </tr>\n",
              "    <tr>\n",
              "      <th>1</th>\n",
              "      <td>Resort Hotel</td>\n",
              "      <td>0</td>\n",
              "      <td>737</td>\n",
              "      <td>2015</td>\n",
              "      <td>July</td>\n",
              "      <td>27</td>\n",
              "      <td>1</td>\n",
              "      <td>0</td>\n",
              "      <td>0</td>\n",
              "      <td>2</td>\n",
              "      <td>0.0</td>\n",
              "      <td>0</td>\n",
              "      <td>BB</td>\n",
              "      <td>PRT</td>\n",
              "      <td>Direct</td>\n",
              "      <td>Direct</td>\n",
              "      <td>0</td>\n",
              "      <td>0</td>\n",
              "      <td>0</td>\n",
              "      <td>C</td>\n",
              "      <td>C</td>\n",
              "      <td>4</td>\n",
              "      <td>No Deposit</td>\n",
              "      <td>NaN</td>\n",
              "      <td>NaN</td>\n",
              "      <td>0</td>\n",
              "      <td>Transient</td>\n",
              "      <td>0.0</td>\n",
              "      <td>0</td>\n",
              "      <td>0</td>\n",
              "      <td>Check-Out</td>\n",
              "      <td>2015-07-01</td>\n",
              "    </tr>\n",
              "    <tr>\n",
              "      <th>2</th>\n",
              "      <td>Resort Hotel</td>\n",
              "      <td>0</td>\n",
              "      <td>7</td>\n",
              "      <td>2015</td>\n",
              "      <td>July</td>\n",
              "      <td>27</td>\n",
              "      <td>1</td>\n",
              "      <td>0</td>\n",
              "      <td>1</td>\n",
              "      <td>1</td>\n",
              "      <td>0.0</td>\n",
              "      <td>0</td>\n",
              "      <td>BB</td>\n",
              "      <td>GBR</td>\n",
              "      <td>Direct</td>\n",
              "      <td>Direct</td>\n",
              "      <td>0</td>\n",
              "      <td>0</td>\n",
              "      <td>0</td>\n",
              "      <td>A</td>\n",
              "      <td>C</td>\n",
              "      <td>0</td>\n",
              "      <td>No Deposit</td>\n",
              "      <td>NaN</td>\n",
              "      <td>NaN</td>\n",
              "      <td>0</td>\n",
              "      <td>Transient</td>\n",
              "      <td>75.0</td>\n",
              "      <td>0</td>\n",
              "      <td>0</td>\n",
              "      <td>Check-Out</td>\n",
              "      <td>2015-07-02</td>\n",
              "    </tr>\n",
              "    <tr>\n",
              "      <th>3</th>\n",
              "      <td>Resort Hotel</td>\n",
              "      <td>0</td>\n",
              "      <td>13</td>\n",
              "      <td>2015</td>\n",
              "      <td>July</td>\n",
              "      <td>27</td>\n",
              "      <td>1</td>\n",
              "      <td>0</td>\n",
              "      <td>1</td>\n",
              "      <td>1</td>\n",
              "      <td>0.0</td>\n",
              "      <td>0</td>\n",
              "      <td>BB</td>\n",
              "      <td>GBR</td>\n",
              "      <td>Corporate</td>\n",
              "      <td>Corporate</td>\n",
              "      <td>0</td>\n",
              "      <td>0</td>\n",
              "      <td>0</td>\n",
              "      <td>A</td>\n",
              "      <td>A</td>\n",
              "      <td>0</td>\n",
              "      <td>No Deposit</td>\n",
              "      <td>304.0</td>\n",
              "      <td>NaN</td>\n",
              "      <td>0</td>\n",
              "      <td>Transient</td>\n",
              "      <td>75.0</td>\n",
              "      <td>0</td>\n",
              "      <td>0</td>\n",
              "      <td>Check-Out</td>\n",
              "      <td>2015-07-02</td>\n",
              "    </tr>\n",
              "    <tr>\n",
              "      <th>4</th>\n",
              "      <td>Resort Hotel</td>\n",
              "      <td>0</td>\n",
              "      <td>14</td>\n",
              "      <td>2015</td>\n",
              "      <td>July</td>\n",
              "      <td>27</td>\n",
              "      <td>1</td>\n",
              "      <td>0</td>\n",
              "      <td>2</td>\n",
              "      <td>2</td>\n",
              "      <td>0.0</td>\n",
              "      <td>0</td>\n",
              "      <td>BB</td>\n",
              "      <td>GBR</td>\n",
              "      <td>Online TA</td>\n",
              "      <td>TA/TO</td>\n",
              "      <td>0</td>\n",
              "      <td>0</td>\n",
              "      <td>0</td>\n",
              "      <td>A</td>\n",
              "      <td>A</td>\n",
              "      <td>0</td>\n",
              "      <td>No Deposit</td>\n",
              "      <td>240.0</td>\n",
              "      <td>NaN</td>\n",
              "      <td>0</td>\n",
              "      <td>Transient</td>\n",
              "      <td>98.0</td>\n",
              "      <td>0</td>\n",
              "      <td>1</td>\n",
              "      <td>Check-Out</td>\n",
              "      <td>2015-07-03</td>\n",
              "    </tr>\n",
              "  </tbody>\n",
              "</table>\n",
              "</div>"
            ],
            "text/plain": [
              "          hotel  is_canceled  ...  reservation_status  reservation_status_date\n",
              "0  Resort Hotel            0  ...           Check-Out               2015-07-01\n",
              "1  Resort Hotel            0  ...           Check-Out               2015-07-01\n",
              "2  Resort Hotel            0  ...           Check-Out               2015-07-02\n",
              "3  Resort Hotel            0  ...           Check-Out               2015-07-02\n",
              "4  Resort Hotel            0  ...           Check-Out               2015-07-03\n",
              "\n",
              "[5 rows x 32 columns]"
            ]
          },
          "metadata": {
            "tags": []
          },
          "execution_count": 4
        }
      ]
    },
    {
      "cell_type": "code",
      "metadata": {
        "id": "o2Q6GjCJJDrh",
        "colab": {
          "base_uri": "https://localhost:8080/",
          "height": 309
        },
        "outputId": "a2ad3de6-8b2e-4df6-b2ac-ea37d0638249"
      },
      "source": [
        "# Previewing the last records of our dataset\n",
        "hotel_df.tail()"
      ],
      "execution_count": null,
      "outputs": [
        {
          "output_type": "execute_result",
          "data": {
            "text/html": [
              "<div>\n",
              "<style scoped>\n",
              "    .dataframe tbody tr th:only-of-type {\n",
              "        vertical-align: middle;\n",
              "    }\n",
              "\n",
              "    .dataframe tbody tr th {\n",
              "        vertical-align: top;\n",
              "    }\n",
              "\n",
              "    .dataframe thead th {\n",
              "        text-align: right;\n",
              "    }\n",
              "</style>\n",
              "<table border=\"1\" class=\"dataframe\">\n",
              "  <thead>\n",
              "    <tr style=\"text-align: right;\">\n",
              "      <th></th>\n",
              "      <th>hotel</th>\n",
              "      <th>is_canceled</th>\n",
              "      <th>lead_time</th>\n",
              "      <th>arrival_date_year</th>\n",
              "      <th>arrival_date_month</th>\n",
              "      <th>arrival_date_week_number</th>\n",
              "      <th>arrival_date_day_of_month</th>\n",
              "      <th>stays_in_weekend_nights</th>\n",
              "      <th>stays_in_week_nights</th>\n",
              "      <th>adults</th>\n",
              "      <th>children</th>\n",
              "      <th>babies</th>\n",
              "      <th>meal</th>\n",
              "      <th>country</th>\n",
              "      <th>market_segment</th>\n",
              "      <th>distribution_channel</th>\n",
              "      <th>is_repeated_guest</th>\n",
              "      <th>previous_cancellations</th>\n",
              "      <th>previous_bookings_not_canceled</th>\n",
              "      <th>reserved_room_type</th>\n",
              "      <th>assigned_room_type</th>\n",
              "      <th>booking_changes</th>\n",
              "      <th>deposit_type</th>\n",
              "      <th>agent</th>\n",
              "      <th>company</th>\n",
              "      <th>days_in_waiting_list</th>\n",
              "      <th>customer_type</th>\n",
              "      <th>adr</th>\n",
              "      <th>required_car_parking_spaces</th>\n",
              "      <th>total_of_special_requests</th>\n",
              "      <th>reservation_status</th>\n",
              "      <th>reservation_status_date</th>\n",
              "    </tr>\n",
              "  </thead>\n",
              "  <tbody>\n",
              "    <tr>\n",
              "      <th>119385</th>\n",
              "      <td>City Hotel</td>\n",
              "      <td>0</td>\n",
              "      <td>23</td>\n",
              "      <td>2017</td>\n",
              "      <td>August</td>\n",
              "      <td>35</td>\n",
              "      <td>30</td>\n",
              "      <td>2</td>\n",
              "      <td>5</td>\n",
              "      <td>2</td>\n",
              "      <td>0.0</td>\n",
              "      <td>0</td>\n",
              "      <td>BB</td>\n",
              "      <td>BEL</td>\n",
              "      <td>Offline TA/TO</td>\n",
              "      <td>TA/TO</td>\n",
              "      <td>0</td>\n",
              "      <td>0</td>\n",
              "      <td>0</td>\n",
              "      <td>A</td>\n",
              "      <td>A</td>\n",
              "      <td>0</td>\n",
              "      <td>No Deposit</td>\n",
              "      <td>394.0</td>\n",
              "      <td>NaN</td>\n",
              "      <td>0</td>\n",
              "      <td>Transient</td>\n",
              "      <td>96.14</td>\n",
              "      <td>0</td>\n",
              "      <td>0</td>\n",
              "      <td>Check-Out</td>\n",
              "      <td>2017-09-06</td>\n",
              "    </tr>\n",
              "    <tr>\n",
              "      <th>119386</th>\n",
              "      <td>City Hotel</td>\n",
              "      <td>0</td>\n",
              "      <td>102</td>\n",
              "      <td>2017</td>\n",
              "      <td>August</td>\n",
              "      <td>35</td>\n",
              "      <td>31</td>\n",
              "      <td>2</td>\n",
              "      <td>5</td>\n",
              "      <td>3</td>\n",
              "      <td>0.0</td>\n",
              "      <td>0</td>\n",
              "      <td>BB</td>\n",
              "      <td>FRA</td>\n",
              "      <td>Online TA</td>\n",
              "      <td>TA/TO</td>\n",
              "      <td>0</td>\n",
              "      <td>0</td>\n",
              "      <td>0</td>\n",
              "      <td>E</td>\n",
              "      <td>E</td>\n",
              "      <td>0</td>\n",
              "      <td>No Deposit</td>\n",
              "      <td>9.0</td>\n",
              "      <td>NaN</td>\n",
              "      <td>0</td>\n",
              "      <td>Transient</td>\n",
              "      <td>225.43</td>\n",
              "      <td>0</td>\n",
              "      <td>2</td>\n",
              "      <td>Check-Out</td>\n",
              "      <td>2017-09-07</td>\n",
              "    </tr>\n",
              "    <tr>\n",
              "      <th>119387</th>\n",
              "      <td>City Hotel</td>\n",
              "      <td>0</td>\n",
              "      <td>34</td>\n",
              "      <td>2017</td>\n",
              "      <td>August</td>\n",
              "      <td>35</td>\n",
              "      <td>31</td>\n",
              "      <td>2</td>\n",
              "      <td>5</td>\n",
              "      <td>2</td>\n",
              "      <td>0.0</td>\n",
              "      <td>0</td>\n",
              "      <td>BB</td>\n",
              "      <td>DEU</td>\n",
              "      <td>Online TA</td>\n",
              "      <td>TA/TO</td>\n",
              "      <td>0</td>\n",
              "      <td>0</td>\n",
              "      <td>0</td>\n",
              "      <td>D</td>\n",
              "      <td>D</td>\n",
              "      <td>0</td>\n",
              "      <td>No Deposit</td>\n",
              "      <td>9.0</td>\n",
              "      <td>NaN</td>\n",
              "      <td>0</td>\n",
              "      <td>Transient</td>\n",
              "      <td>157.71</td>\n",
              "      <td>0</td>\n",
              "      <td>4</td>\n",
              "      <td>Check-Out</td>\n",
              "      <td>2017-09-07</td>\n",
              "    </tr>\n",
              "    <tr>\n",
              "      <th>119388</th>\n",
              "      <td>City Hotel</td>\n",
              "      <td>0</td>\n",
              "      <td>109</td>\n",
              "      <td>2017</td>\n",
              "      <td>August</td>\n",
              "      <td>35</td>\n",
              "      <td>31</td>\n",
              "      <td>2</td>\n",
              "      <td>5</td>\n",
              "      <td>2</td>\n",
              "      <td>0.0</td>\n",
              "      <td>0</td>\n",
              "      <td>BB</td>\n",
              "      <td>GBR</td>\n",
              "      <td>Online TA</td>\n",
              "      <td>TA/TO</td>\n",
              "      <td>0</td>\n",
              "      <td>0</td>\n",
              "      <td>0</td>\n",
              "      <td>A</td>\n",
              "      <td>A</td>\n",
              "      <td>0</td>\n",
              "      <td>No Deposit</td>\n",
              "      <td>89.0</td>\n",
              "      <td>NaN</td>\n",
              "      <td>0</td>\n",
              "      <td>Transient</td>\n",
              "      <td>104.40</td>\n",
              "      <td>0</td>\n",
              "      <td>0</td>\n",
              "      <td>Check-Out</td>\n",
              "      <td>2017-09-07</td>\n",
              "    </tr>\n",
              "    <tr>\n",
              "      <th>119389</th>\n",
              "      <td>City Hotel</td>\n",
              "      <td>0</td>\n",
              "      <td>205</td>\n",
              "      <td>2017</td>\n",
              "      <td>August</td>\n",
              "      <td>35</td>\n",
              "      <td>29</td>\n",
              "      <td>2</td>\n",
              "      <td>7</td>\n",
              "      <td>2</td>\n",
              "      <td>0.0</td>\n",
              "      <td>0</td>\n",
              "      <td>HB</td>\n",
              "      <td>DEU</td>\n",
              "      <td>Online TA</td>\n",
              "      <td>TA/TO</td>\n",
              "      <td>0</td>\n",
              "      <td>0</td>\n",
              "      <td>0</td>\n",
              "      <td>A</td>\n",
              "      <td>A</td>\n",
              "      <td>0</td>\n",
              "      <td>No Deposit</td>\n",
              "      <td>9.0</td>\n",
              "      <td>NaN</td>\n",
              "      <td>0</td>\n",
              "      <td>Transient</td>\n",
              "      <td>151.20</td>\n",
              "      <td>0</td>\n",
              "      <td>2</td>\n",
              "      <td>Check-Out</td>\n",
              "      <td>2017-09-07</td>\n",
              "    </tr>\n",
              "  </tbody>\n",
              "</table>\n",
              "</div>"
            ],
            "text/plain": [
              "             hotel  is_canceled  ...  reservation_status  reservation_status_date\n",
              "119385  City Hotel            0  ...           Check-Out               2017-09-06\n",
              "119386  City Hotel            0  ...           Check-Out               2017-09-07\n",
              "119387  City Hotel            0  ...           Check-Out               2017-09-07\n",
              "119388  City Hotel            0  ...           Check-Out               2017-09-07\n",
              "119389  City Hotel            0  ...           Check-Out               2017-09-07\n",
              "\n",
              "[5 rows x 32 columns]"
            ]
          },
          "metadata": {
            "tags": []
          },
          "execution_count": 5
        }
      ]
    },
    {
      "cell_type": "code",
      "metadata": {
        "id": "ApZZdwahJHYa",
        "colab": {
          "base_uri": "https://localhost:8080/"
        },
        "outputId": "f7b1f79a-3132-4506-8ede-ccbf96dc432e"
      },
      "source": [
        "#consice summary of train dataset\n",
        "hotel_df.info()"
      ],
      "execution_count": null,
      "outputs": [
        {
          "output_type": "stream",
          "text": [
            "<class 'pandas.core.frame.DataFrame'>\n",
            "RangeIndex: 119390 entries, 0 to 119389\n",
            "Data columns (total 32 columns):\n",
            " #   Column                          Non-Null Count   Dtype  \n",
            "---  ------                          --------------   -----  \n",
            " 0   hotel                           119390 non-null  object \n",
            " 1   is_canceled                     119390 non-null  int64  \n",
            " 2   lead_time                       119390 non-null  int64  \n",
            " 3   arrival_date_year               119390 non-null  int64  \n",
            " 4   arrival_date_month              119390 non-null  object \n",
            " 5   arrival_date_week_number        119390 non-null  int64  \n",
            " 6   arrival_date_day_of_month       119390 non-null  int64  \n",
            " 7   stays_in_weekend_nights         119390 non-null  int64  \n",
            " 8   stays_in_week_nights            119390 non-null  int64  \n",
            " 9   adults                          119390 non-null  int64  \n",
            " 10  children                        119386 non-null  float64\n",
            " 11  babies                          119390 non-null  int64  \n",
            " 12  meal                            119390 non-null  object \n",
            " 13  country                         118902 non-null  object \n",
            " 14  market_segment                  119390 non-null  object \n",
            " 15  distribution_channel            119390 non-null  object \n",
            " 16  is_repeated_guest               119390 non-null  int64  \n",
            " 17  previous_cancellations          119390 non-null  int64  \n",
            " 18  previous_bookings_not_canceled  119390 non-null  int64  \n",
            " 19  reserved_room_type              119390 non-null  object \n",
            " 20  assigned_room_type              119390 non-null  object \n",
            " 21  booking_changes                 119390 non-null  int64  \n",
            " 22  deposit_type                    119390 non-null  object \n",
            " 23  agent                           103050 non-null  float64\n",
            " 24  company                         6797 non-null    float64\n",
            " 25  days_in_waiting_list            119390 non-null  int64  \n",
            " 26  customer_type                   119390 non-null  object \n",
            " 27  adr                             119390 non-null  float64\n",
            " 28  required_car_parking_spaces     119390 non-null  int64  \n",
            " 29  total_of_special_requests       119390 non-null  int64  \n",
            " 30  reservation_status              119390 non-null  object \n",
            " 31  reservation_status_date         119390 non-null  object \n",
            "dtypes: float64(4), int64(16), object(12)\n",
            "memory usage: 29.1+ MB\n"
          ],
          "name": "stdout"
        }
      ]
    },
    {
      "cell_type": "markdown",
      "metadata": {
        "id": "7iWkgIZaBRQ-"
      },
      "source": [
        "**observation**: our datset has 119390 observations and 32 variables, it has 4 floats, 16int and 12 object datatype."
      ]
    },
    {
      "cell_type": "code",
      "metadata": {
        "colab": {
          "base_uri": "https://localhost:8080/"
        },
        "id": "_NHFh4IKQBaN",
        "outputId": "dfd191ce-e86c-4879-fc9e-6c4ef2ac1e88"
      },
      "source": [
        "# checking the target variable\r\n",
        "hotel_df.is_canceled.value_counts() "
      ],
      "execution_count": null,
      "outputs": [
        {
          "output_type": "execute_result",
          "data": {
            "text/plain": [
              "0    75166\n",
              "1    44224\n",
              "Name: is_canceled, dtype: int64"
            ]
          },
          "metadata": {
            "tags": []
          },
          "execution_count": 7
        }
      ]
    },
    {
      "cell_type": "code",
      "metadata": {
        "colab": {
          "base_uri": "https://localhost:8080/"
        },
        "id": "64-PHl_7QTtE",
        "outputId": "b8bfb8f0-7af5-47fc-c69b-3981bfb127dd"
      },
      "source": [
        "#getting the above in parcentage\r\n",
        "#\r\n",
        "hotel_df.is_canceled.value_counts() / len(hotel_df) * 100 "
      ],
      "execution_count": null,
      "outputs": [
        {
          "output_type": "execute_result",
          "data": {
            "text/plain": [
              "0    62.958372\n",
              "1    37.041628\n",
              "Name: is_canceled, dtype: float64"
            ]
          },
          "metadata": {
            "tags": []
          },
          "execution_count": 8
        }
      ]
    },
    {
      "cell_type": "markdown",
      "metadata": {
        "id": "jib-BnYCqGZK"
      },
      "source": [
        "## 4. External Data Source Validation"
      ]
    },
    {
      "cell_type": "markdown",
      "metadata": {
        "id": "i2l9kJuAqAD0"
      },
      "source": [
        "### a. Validation\r\n",
        "\r\n",
        "* the data is valid since it can be confirmed on Kaggle which is the trusted open data source, and also based on other international publications."
      ]
    },
    {
      "cell_type": "markdown",
      "metadata": {
        "id": "UlXfdm19JUdi"
      },
      "source": [
        "## 5. Tidying the Dataset\r\n",
        "\r\n",
        "\r\n"
      ]
    },
    {
      "cell_type": "code",
      "metadata": {
        "id": "o7pyMWGIOgKy",
        "colab": {
          "base_uri": "https://localhost:8080/",
          "height": 309
        },
        "outputId": "17670b29-58cb-4a9d-c627-125b7f71de8b"
      },
      "source": [
        "#creating a copy of the dataset to be be used on cleaning process\n",
        "hotel_df1=hotel_df.copy()\n",
        "#\n",
        "#getting the irrelevant varaibles\n",
        "columns = ['arrival_date_year','agent','arrival_date_week_number','lead_time', 'market_segment', 'distribution_channel','booking_changes','days_in_waiting_list', 'adr','reservation_status_date']\n",
        "#\n",
        "#dropping the irrelevant colunms\n",
        "drop_colunms= hotel_df1.drop(columns, axis = 1, inplace=True)\n",
        "#\n",
        "#previewing the dataset\n",
        "hotel_df1.head()"
      ],
      "execution_count": null,
      "outputs": [
        {
          "output_type": "execute_result",
          "data": {
            "text/html": [
              "<div>\n",
              "<style scoped>\n",
              "    .dataframe tbody tr th:only-of-type {\n",
              "        vertical-align: middle;\n",
              "    }\n",
              "\n",
              "    .dataframe tbody tr th {\n",
              "        vertical-align: top;\n",
              "    }\n",
              "\n",
              "    .dataframe thead th {\n",
              "        text-align: right;\n",
              "    }\n",
              "</style>\n",
              "<table border=\"1\" class=\"dataframe\">\n",
              "  <thead>\n",
              "    <tr style=\"text-align: right;\">\n",
              "      <th></th>\n",
              "      <th>hotel</th>\n",
              "      <th>is_canceled</th>\n",
              "      <th>arrival_date_month</th>\n",
              "      <th>arrival_date_day_of_month</th>\n",
              "      <th>stays_in_weekend_nights</th>\n",
              "      <th>stays_in_week_nights</th>\n",
              "      <th>adults</th>\n",
              "      <th>children</th>\n",
              "      <th>babies</th>\n",
              "      <th>meal</th>\n",
              "      <th>country</th>\n",
              "      <th>is_repeated_guest</th>\n",
              "      <th>previous_cancellations</th>\n",
              "      <th>previous_bookings_not_canceled</th>\n",
              "      <th>reserved_room_type</th>\n",
              "      <th>assigned_room_type</th>\n",
              "      <th>deposit_type</th>\n",
              "      <th>company</th>\n",
              "      <th>customer_type</th>\n",
              "      <th>required_car_parking_spaces</th>\n",
              "      <th>total_of_special_requests</th>\n",
              "      <th>reservation_status</th>\n",
              "    </tr>\n",
              "  </thead>\n",
              "  <tbody>\n",
              "    <tr>\n",
              "      <th>0</th>\n",
              "      <td>Resort Hotel</td>\n",
              "      <td>0</td>\n",
              "      <td>July</td>\n",
              "      <td>1</td>\n",
              "      <td>0</td>\n",
              "      <td>0</td>\n",
              "      <td>2</td>\n",
              "      <td>0.0</td>\n",
              "      <td>0</td>\n",
              "      <td>BB</td>\n",
              "      <td>PRT</td>\n",
              "      <td>0</td>\n",
              "      <td>0</td>\n",
              "      <td>0</td>\n",
              "      <td>C</td>\n",
              "      <td>C</td>\n",
              "      <td>No Deposit</td>\n",
              "      <td>NaN</td>\n",
              "      <td>Transient</td>\n",
              "      <td>0</td>\n",
              "      <td>0</td>\n",
              "      <td>Check-Out</td>\n",
              "    </tr>\n",
              "    <tr>\n",
              "      <th>1</th>\n",
              "      <td>Resort Hotel</td>\n",
              "      <td>0</td>\n",
              "      <td>July</td>\n",
              "      <td>1</td>\n",
              "      <td>0</td>\n",
              "      <td>0</td>\n",
              "      <td>2</td>\n",
              "      <td>0.0</td>\n",
              "      <td>0</td>\n",
              "      <td>BB</td>\n",
              "      <td>PRT</td>\n",
              "      <td>0</td>\n",
              "      <td>0</td>\n",
              "      <td>0</td>\n",
              "      <td>C</td>\n",
              "      <td>C</td>\n",
              "      <td>No Deposit</td>\n",
              "      <td>NaN</td>\n",
              "      <td>Transient</td>\n",
              "      <td>0</td>\n",
              "      <td>0</td>\n",
              "      <td>Check-Out</td>\n",
              "    </tr>\n",
              "    <tr>\n",
              "      <th>2</th>\n",
              "      <td>Resort Hotel</td>\n",
              "      <td>0</td>\n",
              "      <td>July</td>\n",
              "      <td>1</td>\n",
              "      <td>0</td>\n",
              "      <td>1</td>\n",
              "      <td>1</td>\n",
              "      <td>0.0</td>\n",
              "      <td>0</td>\n",
              "      <td>BB</td>\n",
              "      <td>GBR</td>\n",
              "      <td>0</td>\n",
              "      <td>0</td>\n",
              "      <td>0</td>\n",
              "      <td>A</td>\n",
              "      <td>C</td>\n",
              "      <td>No Deposit</td>\n",
              "      <td>NaN</td>\n",
              "      <td>Transient</td>\n",
              "      <td>0</td>\n",
              "      <td>0</td>\n",
              "      <td>Check-Out</td>\n",
              "    </tr>\n",
              "    <tr>\n",
              "      <th>3</th>\n",
              "      <td>Resort Hotel</td>\n",
              "      <td>0</td>\n",
              "      <td>July</td>\n",
              "      <td>1</td>\n",
              "      <td>0</td>\n",
              "      <td>1</td>\n",
              "      <td>1</td>\n",
              "      <td>0.0</td>\n",
              "      <td>0</td>\n",
              "      <td>BB</td>\n",
              "      <td>GBR</td>\n",
              "      <td>0</td>\n",
              "      <td>0</td>\n",
              "      <td>0</td>\n",
              "      <td>A</td>\n",
              "      <td>A</td>\n",
              "      <td>No Deposit</td>\n",
              "      <td>NaN</td>\n",
              "      <td>Transient</td>\n",
              "      <td>0</td>\n",
              "      <td>0</td>\n",
              "      <td>Check-Out</td>\n",
              "    </tr>\n",
              "    <tr>\n",
              "      <th>4</th>\n",
              "      <td>Resort Hotel</td>\n",
              "      <td>0</td>\n",
              "      <td>July</td>\n",
              "      <td>1</td>\n",
              "      <td>0</td>\n",
              "      <td>2</td>\n",
              "      <td>2</td>\n",
              "      <td>0.0</td>\n",
              "      <td>0</td>\n",
              "      <td>BB</td>\n",
              "      <td>GBR</td>\n",
              "      <td>0</td>\n",
              "      <td>0</td>\n",
              "      <td>0</td>\n",
              "      <td>A</td>\n",
              "      <td>A</td>\n",
              "      <td>No Deposit</td>\n",
              "      <td>NaN</td>\n",
              "      <td>Transient</td>\n",
              "      <td>0</td>\n",
              "      <td>1</td>\n",
              "      <td>Check-Out</td>\n",
              "    </tr>\n",
              "  </tbody>\n",
              "</table>\n",
              "</div>"
            ],
            "text/plain": [
              "          hotel  is_canceled  ... total_of_special_requests  reservation_status\n",
              "0  Resort Hotel            0  ...                         0           Check-Out\n",
              "1  Resort Hotel            0  ...                         0           Check-Out\n",
              "2  Resort Hotel            0  ...                         0           Check-Out\n",
              "3  Resort Hotel            0  ...                         0           Check-Out\n",
              "4  Resort Hotel            0  ...                         1           Check-Out\n",
              "\n",
              "[5 rows x 22 columns]"
            ]
          },
          "metadata": {
            "tags": []
          },
          "execution_count": 9
        }
      ]
    },
    {
      "cell_type": "code",
      "metadata": {
        "id": "7Y5-6ftxMehV",
        "colab": {
          "base_uri": "https://localhost:8080/"
        },
        "outputId": "29e58685-2ff2-4114-ac91-3b8e7586c45d"
      },
      "source": [
        "# Check for missing values\n",
        "#\n",
        "hotel_df1.isnull().sum()"
      ],
      "execution_count": null,
      "outputs": [
        {
          "output_type": "execute_result",
          "data": {
            "text/plain": [
              "hotel                                  0\n",
              "is_canceled                            0\n",
              "arrival_date_month                     0\n",
              "arrival_date_day_of_month              0\n",
              "stays_in_weekend_nights                0\n",
              "stays_in_week_nights                   0\n",
              "adults                                 0\n",
              "children                               4\n",
              "babies                                 0\n",
              "meal                                   0\n",
              "country                              488\n",
              "is_repeated_guest                      0\n",
              "previous_cancellations                 0\n",
              "previous_bookings_not_canceled         0\n",
              "reserved_room_type                     0\n",
              "assigned_room_type                     0\n",
              "deposit_type                           0\n",
              "company                           112593\n",
              "customer_type                          0\n",
              "required_car_parking_spaces            0\n",
              "total_of_special_requests              0\n",
              "reservation_status                     0\n",
              "dtype: int64"
            ]
          },
          "metadata": {
            "tags": []
          },
          "execution_count": 10
        }
      ]
    },
    {
      "cell_type": "code",
      "metadata": {
        "id": "9q7crEJu-ZVO",
        "colab": {
          "base_uri": "https://localhost:8080/"
        },
        "outputId": "90ea8bbc-44da-4490-cce3-351a38dee73a"
      },
      "source": [
        "#getting the percentage of missing data in each column\n",
        "#\n",
        "hotel_df1.isnull().sum()/len(hotel_df1)* 100 \n",
        "\n"
      ],
      "execution_count": null,
      "outputs": [
        {
          "output_type": "execute_result",
          "data": {
            "text/plain": [
              "hotel                              0.000000\n",
              "is_canceled                        0.000000\n",
              "arrival_date_month                 0.000000\n",
              "arrival_date_day_of_month          0.000000\n",
              "stays_in_weekend_nights            0.000000\n",
              "stays_in_week_nights               0.000000\n",
              "adults                             0.000000\n",
              "children                           0.003350\n",
              "babies                             0.000000\n",
              "meal                               0.000000\n",
              "country                            0.408744\n",
              "is_repeated_guest                  0.000000\n",
              "previous_cancellations             0.000000\n",
              "previous_bookings_not_canceled     0.000000\n",
              "reserved_room_type                 0.000000\n",
              "assigned_room_type                 0.000000\n",
              "deposit_type                       0.000000\n",
              "company                           94.306893\n",
              "customer_type                      0.000000\n",
              "required_car_parking_spaces        0.000000\n",
              "total_of_special_requests          0.000000\n",
              "reservation_status                 0.000000\n",
              "dtype: float64"
            ]
          },
          "metadata": {
            "tags": []
          },
          "execution_count": 11
        }
      ]
    },
    {
      "cell_type": "code",
      "metadata": {
        "colab": {
          "base_uri": "https://localhost:8080/"
        },
        "id": "pmbTRkCHRvtx",
        "outputId": "f7a4aef9-988e-4de0-b5ba-f5ff81ac64e3"
      },
      "source": [
        "# as a role of thumb, drop any colunm with more than 25% of the missing data.\r\n",
        "#\r\n",
        "hotel_df1 = hotel_df1[hotel_df1.columns[hotel_df1.isnull().mean() < 0.25]]\r\n",
        "hotel_df1.shape"
      ],
      "execution_count": null,
      "outputs": [
        {
          "output_type": "execute_result",
          "data": {
            "text/plain": [
              "(119390, 21)"
            ]
          },
          "metadata": {
            "tags": []
          },
          "execution_count": 12
        }
      ]
    },
    {
      "cell_type": "code",
      "metadata": {
        "id": "p2Na8U-Nibmc",
        "colab": {
          "base_uri": "https://localhost:8080/"
        },
        "outputId": "43f690a5-79ba-43c6-98e5-cb15be65fefa"
      },
      "source": [
        "hotel_df1.isnull().sum()"
      ],
      "execution_count": null,
      "outputs": [
        {
          "output_type": "execute_result",
          "data": {
            "text/plain": [
              "hotel                               0\n",
              "is_canceled                         0\n",
              "arrival_date_month                  0\n",
              "arrival_date_day_of_month           0\n",
              "stays_in_weekend_nights             0\n",
              "stays_in_week_nights                0\n",
              "adults                              0\n",
              "children                            4\n",
              "babies                              0\n",
              "meal                                0\n",
              "country                           488\n",
              "is_repeated_guest                   0\n",
              "previous_cancellations              0\n",
              "previous_bookings_not_canceled      0\n",
              "reserved_room_type                  0\n",
              "assigned_room_type                  0\n",
              "deposit_type                        0\n",
              "customer_type                       0\n",
              "required_car_parking_spaces         0\n",
              "total_of_special_requests           0\n",
              "reservation_status                  0\n",
              "dtype: int64"
            ]
          },
          "metadata": {
            "tags": []
          },
          "execution_count": 13
        }
      ]
    },
    {
      "cell_type": "markdown",
      "metadata": {
        "id": "tqrLfU6KFcpa"
      },
      "source": [
        "**observation**: the data type are appropriate now and there is a clue that we have null values."
      ]
    },
    {
      "cell_type": "code",
      "metadata": {
        "id": "yl3vmAloWEvS"
      },
      "source": [
        "#filling the missing values of children variable with the mean\r\n",
        "#\r\n",
        "hotel_df1['children']= hotel_df1['children'].fillna(hotel_df1['children'].mean(), axis = 0)"
      ],
      "execution_count": null,
      "outputs": []
    },
    {
      "cell_type": "code",
      "metadata": {
        "id": "FEupuJl0wnoQ"
      },
      "source": [
        "#filling the missing values in the country variable with mode\r\n",
        "#\r\n",
        "hotel_df1.fillna({'country': hotel_df1['country'].mode()[0]}, inplace=True)"
      ],
      "execution_count": null,
      "outputs": []
    },
    {
      "cell_type": "code",
      "metadata": {
        "colab": {
          "base_uri": "https://localhost:8080/"
        },
        "id": "jnHWKO1b8VVA",
        "outputId": "0fa1ed91-1826-4b38-8bc2-e5f58c430dc6"
      },
      "source": [
        "hotel_df1.columns"
      ],
      "execution_count": null,
      "outputs": [
        {
          "output_type": "execute_result",
          "data": {
            "text/plain": [
              "Index(['hotel', 'is_canceled', 'arrival_date_month',\n",
              "       'arrival_date_day_of_month', 'stays_in_weekend_nights',\n",
              "       'stays_in_week_nights', 'adults', 'children', 'babies', 'meal',\n",
              "       'country', 'is_repeated_guest', 'previous_cancellations',\n",
              "       'previous_bookings_not_canceled', 'reserved_room_type',\n",
              "       'assigned_room_type', 'deposit_type', 'customer_type',\n",
              "       'required_car_parking_spaces', 'total_of_special_requests',\n",
              "       'reservation_status'],\n",
              "      dtype='object')"
            ]
          },
          "metadata": {
            "tags": []
          },
          "execution_count": 16
        }
      ]
    },
    {
      "cell_type": "code",
      "metadata": {
        "colab": {
          "base_uri": "https://localhost:8080/"
        },
        "id": "YxKam3kmauUf",
        "outputId": "fb7147b5-4ca4-4016-dacb-e5e5b3e31917"
      },
      "source": [
        "#confriming no missing values.\r\n",
        "#\r\n",
        "hotel_df1.isnull().sum().any()"
      ],
      "execution_count": null,
      "outputs": [
        {
          "output_type": "execute_result",
          "data": {
            "text/plain": [
              "False"
            ]
          },
          "metadata": {
            "tags": []
          },
          "execution_count": 17
        }
      ]
    },
    {
      "cell_type": "code",
      "metadata": {
        "id": "v8iLOu9v_95A",
        "colab": {
          "base_uri": "https://localhost:8080/"
        },
        "outputId": "81cb50c5-cc30-45d4-9786-951e5c3a5de0"
      },
      "source": [
        "# Checking if there are duplicates\n",
        "#\n",
        "hotel_df1.duplicated().sum()"
      ],
      "execution_count": null,
      "outputs": [
        {
          "output_type": "execute_result",
          "data": {
            "text/plain": [
              "38125"
            ]
          },
          "metadata": {
            "tags": []
          },
          "execution_count": 18
        }
      ]
    },
    {
      "cell_type": "code",
      "metadata": {
        "id": "j6TQDnf7C_el",
        "colab": {
          "base_uri": "https://localhost:8080/"
        },
        "outputId": "c69b2b49-0b5f-4893-90fc-061b35f40fba"
      },
      "source": [
        "# Dropping duplicates\n",
        "hotel_df1.drop_duplicates(inplace=True)\n",
        "#\n",
        "#confirm no duplicates\n",
        "#\n",
        "hotel_df1.duplicated().any()"
      ],
      "execution_count": null,
      "outputs": [
        {
          "output_type": "execute_result",
          "data": {
            "text/plain": [
              "False"
            ]
          },
          "metadata": {
            "tags": []
          },
          "execution_count": 19
        }
      ]
    },
    {
      "cell_type": "code",
      "metadata": {
        "id": "PiIC8lhTD4rR",
        "colab": {
          "base_uri": "https://localhost:8080/"
        },
        "outputId": "adff52a0-9aba-4599-db44-2287abfe715d"
      },
      "source": [
        "#To remove white spaces in our columns\n",
        "hotel_df1.columns.str.replace(\" \",\" \")"
      ],
      "execution_count": null,
      "outputs": [
        {
          "output_type": "execute_result",
          "data": {
            "text/plain": [
              "Index(['hotel', 'is_canceled', 'arrival_date_month',\n",
              "       'arrival_date_day_of_month', 'stays_in_weekend_nights',\n",
              "       'stays_in_week_nights', 'adults', 'children', 'babies', 'meal',\n",
              "       'country', 'is_repeated_guest', 'previous_cancellations',\n",
              "       'previous_bookings_not_canceled', 'reserved_room_type',\n",
              "       'assigned_room_type', 'deposit_type', 'customer_type',\n",
              "       'required_car_parking_spaces', 'total_of_special_requests',\n",
              "       'reservation_status'],\n",
              "      dtype='object')"
            ]
          },
          "metadata": {
            "tags": []
          },
          "execution_count": 20
        }
      ]
    },
    {
      "cell_type": "code",
      "metadata": {
        "id": "8AACuQOzRfNv",
        "colab": {
          "base_uri": "https://localhost:8080/",
          "height": 1000
        },
        "outputId": "acb1da12-9045-4038-94a4-13fd176d0728"
      },
      "source": [
        "# To check for outliers through boxplots\n",
        "#\n",
        "\n",
        "fig, ((ax1, ax2), (ax3, ax4),(ax5, ax6), (ax7, ax8)) = plt.subplots(4,2, figsize=(15, 15))\n",
        "\n",
        "fig.suptitle('Boxplots')\n",
        "sns.boxplot(hotel_df1['stays_in_weekend_nights'], ax=ax1)\n",
        "sns.boxplot(hotel_df1['stays_in_week_nights'], ax=ax2)\n",
        "sns.boxplot(hotel_df1['adults'], ax=ax3)\n",
        "sns.boxplot(hotel_df1['babies'], ax=ax4)\n",
        "sns.boxplot(hotel_df1['is_repeated_guest'], ax=ax5)\n",
        "sns.boxplot(hotel_df1['previous_cancellations'], ax=ax6)\n",
        "sns.boxplot(hotel_df1['previous_bookings_not_canceled'], ax=ax7)\n",
        "plt.show()"
      ],
      "execution_count": null,
      "outputs": [
        {
          "output_type": "stream",
          "text": [
            "/usr/local/lib/python3.6/dist-packages/seaborn/_decorators.py:43: FutureWarning: Pass the following variable as a keyword arg: x. From version 0.12, the only valid positional argument will be `data`, and passing other arguments without an explicit keyword will result in an error or misinterpretation.\n",
            "  FutureWarning\n",
            "/usr/local/lib/python3.6/dist-packages/seaborn/_decorators.py:43: FutureWarning: Pass the following variable as a keyword arg: x. From version 0.12, the only valid positional argument will be `data`, and passing other arguments without an explicit keyword will result in an error or misinterpretation.\n",
            "  FutureWarning\n",
            "/usr/local/lib/python3.6/dist-packages/seaborn/_decorators.py:43: FutureWarning: Pass the following variable as a keyword arg: x. From version 0.12, the only valid positional argument will be `data`, and passing other arguments without an explicit keyword will result in an error or misinterpretation.\n",
            "  FutureWarning\n",
            "/usr/local/lib/python3.6/dist-packages/seaborn/_decorators.py:43: FutureWarning: Pass the following variable as a keyword arg: x. From version 0.12, the only valid positional argument will be `data`, and passing other arguments without an explicit keyword will result in an error or misinterpretation.\n",
            "  FutureWarning\n",
            "/usr/local/lib/python3.6/dist-packages/seaborn/_decorators.py:43: FutureWarning: Pass the following variable as a keyword arg: x. From version 0.12, the only valid positional argument will be `data`, and passing other arguments without an explicit keyword will result in an error or misinterpretation.\n",
            "  FutureWarning\n",
            "/usr/local/lib/python3.6/dist-packages/seaborn/_decorators.py:43: FutureWarning: Pass the following variable as a keyword arg: x. From version 0.12, the only valid positional argument will be `data`, and passing other arguments without an explicit keyword will result in an error or misinterpretation.\n",
            "  FutureWarning\n",
            "/usr/local/lib/python3.6/dist-packages/seaborn/_decorators.py:43: FutureWarning: Pass the following variable as a keyword arg: x. From version 0.12, the only valid positional argument will be `data`, and passing other arguments without an explicit keyword will result in an error or misinterpretation.\n",
            "  FutureWarning\n"
          ],
          "name": "stderr"
        },
        {
          "output_type": "display_data",
          "data": {
            "image/png": "[encoded data removed]",
            "text/plain": [
              "<Figure size 1080x1080 with 8 Axes>"
            ]
          },
          "metadata": {
            "tags": [],
            "needs_background": "light"
          }
        }
      ]
    },
    {
      "cell_type": "code",
      "metadata": {
        "id": "axYlnoU2PMIL",
        "colab": {
          "base_uri": "https://localhost:8080/"
        },
        "outputId": "1a4806eb-ae6a-4661-d97c-06ff7812e158"
      },
      "source": [
        "# Check for outliers through IQR Score\n",
        "\n",
        "# we first get the interquantile range for each column\n",
        "Q1 = hotel_df1.quantile(0.25)\n",
        "Q3 = hotel_df1.quantile(0.75)\n",
        "IQR = Q3 - Q1\n",
        "print(IQR)"
      ],
      "execution_count": null,
      "outputs": [
        {
          "output_type": "stream",
          "text": [
            "is_canceled                        1.0\n",
            "arrival_date_day_of_month         15.0\n",
            "stays_in_weekend_nights            2.0\n",
            "stays_in_week_nights               3.0\n",
            "adults                             0.0\n",
            "children                           0.0\n",
            "babies                             0.0\n",
            "is_repeated_guest                  0.0\n",
            "previous_cancellations             0.0\n",
            "previous_bookings_not_canceled     0.0\n",
            "required_car_parking_spaces        0.0\n",
            "total_of_special_requests          1.0\n",
            "dtype: float64\n"
          ],
          "name": "stdout"
        }
      ]
    },
    {
      "cell_type": "code",
      "metadata": {
        "id": "i1k9hHIBP-e1",
        "colab": {
          "base_uri": "https://localhost:8080/",
          "height": 439
        },
        "outputId": "fd3f3b7f-c759-44a5-f8d2-f45575b54116"
      },
      "source": [
        "# We then get the outliers as follows:\n",
        "# True means presence of outliers\n",
        "\n",
        "(hotel_df1 < (Q1 - 1.5 * IQR)) |(hotel_df1 > (Q3 + 1.5 * IQR))"
      ],
      "execution_count": null,
      "outputs": [
        {
          "output_type": "execute_result",
          "data": {
            "text/html": [
              "<div>\n",
              "<style scoped>\n",
              "    .dataframe tbody tr th:only-of-type {\n",
              "        vertical-align: middle;\n",
              "    }\n",
              "\n",
              "    .dataframe tbody tr th {\n",
              "        vertical-align: top;\n",
              "    }\n",
              "\n",
              "    .dataframe thead th {\n",
              "        text-align: right;\n",
              "    }\n",
              "</style>\n",
              "<table border=\"1\" class=\"dataframe\">\n",
              "  <thead>\n",
              "    <tr style=\"text-align: right;\">\n",
              "      <th></th>\n",
              "      <th>adults</th>\n",
              "      <th>arrival_date_day_of_month</th>\n",
              "      <th>arrival_date_month</th>\n",
              "      <th>assigned_room_type</th>\n",
              "      <th>babies</th>\n",
              "      <th>children</th>\n",
              "      <th>country</th>\n",
              "      <th>customer_type</th>\n",
              "      <th>deposit_type</th>\n",
              "      <th>hotel</th>\n",
              "      <th>is_canceled</th>\n",
              "      <th>is_repeated_guest</th>\n",
              "      <th>meal</th>\n",
              "      <th>previous_bookings_not_canceled</th>\n",
              "      <th>previous_cancellations</th>\n",
              "      <th>required_car_parking_spaces</th>\n",
              "      <th>reservation_status</th>\n",
              "      <th>reserved_room_type</th>\n",
              "      <th>stays_in_week_nights</th>\n",
              "      <th>stays_in_weekend_nights</th>\n",
              "      <th>total_of_special_requests</th>\n",
              "    </tr>\n",
              "  </thead>\n",
              "  <tbody>\n",
              "    <tr>\n",
              "      <th>0</th>\n",
              "      <td>False</td>\n",
              "      <td>False</td>\n",
              "      <td>False</td>\n",
              "      <td>False</td>\n",
              "      <td>False</td>\n",
              "      <td>False</td>\n",
              "      <td>False</td>\n",
              "      <td>False</td>\n",
              "      <td>False</td>\n",
              "      <td>False</td>\n",
              "      <td>False</td>\n",
              "      <td>False</td>\n",
              "      <td>False</td>\n",
              "      <td>False</td>\n",
              "      <td>False</td>\n",
              "      <td>False</td>\n",
              "      <td>False</td>\n",
              "      <td>False</td>\n",
              "      <td>False</td>\n",
              "      <td>False</td>\n",
              "      <td>False</td>\n",
              "    </tr>\n",
              "    <tr>\n",
              "      <th>2</th>\n",
              "      <td>True</td>\n",
              "      <td>False</td>\n",
              "      <td>False</td>\n",
              "      <td>False</td>\n",
              "      <td>False</td>\n",
              "      <td>False</td>\n",
              "      <td>False</td>\n",
              "      <td>False</td>\n",
              "      <td>False</td>\n",
              "      <td>False</td>\n",
              "      <td>False</td>\n",
              "      <td>False</td>\n",
              "      <td>False</td>\n",
              "      <td>False</td>\n",
              "      <td>False</td>\n",
              "      <td>False</td>\n",
              "      <td>False</td>\n",
              "      <td>False</td>\n",
              "      <td>False</td>\n",
              "      <td>False</td>\n",
              "      <td>False</td>\n",
              "    </tr>\n",
              "    <tr>\n",
              "      <th>3</th>\n",
              "      <td>True</td>\n",
              "      <td>False</td>\n",
              "      <td>False</td>\n",
              "      <td>False</td>\n",
              "      <td>False</td>\n",
              "      <td>False</td>\n",
              "      <td>False</td>\n",
              "      <td>False</td>\n",
              "      <td>False</td>\n",
              "      <td>False</td>\n",
              "      <td>False</td>\n",
              "      <td>False</td>\n",
              "      <td>False</td>\n",
              "      <td>False</td>\n",
              "      <td>False</td>\n",
              "      <td>False</td>\n",
              "      <td>False</td>\n",
              "      <td>False</td>\n",
              "      <td>False</td>\n",
              "      <td>False</td>\n",
              "      <td>False</td>\n",
              "    </tr>\n",
              "    <tr>\n",
              "      <th>4</th>\n",
              "      <td>False</td>\n",
              "      <td>False</td>\n",
              "      <td>False</td>\n",
              "      <td>False</td>\n",
              "      <td>False</td>\n",
              "      <td>False</td>\n",
              "      <td>False</td>\n",
              "      <td>False</td>\n",
              "      <td>False</td>\n",
              "      <td>False</td>\n",
              "      <td>False</td>\n",
              "      <td>False</td>\n",
              "      <td>False</td>\n",
              "      <td>False</td>\n",
              "      <td>False</td>\n",
              "      <td>False</td>\n",
              "      <td>False</td>\n",
              "      <td>False</td>\n",
              "      <td>False</td>\n",
              "      <td>False</td>\n",
              "      <td>False</td>\n",
              "    </tr>\n",
              "    <tr>\n",
              "      <th>6</th>\n",
              "      <td>False</td>\n",
              "      <td>False</td>\n",
              "      <td>False</td>\n",
              "      <td>False</td>\n",
              "      <td>False</td>\n",
              "      <td>False</td>\n",
              "      <td>False</td>\n",
              "      <td>False</td>\n",
              "      <td>False</td>\n",
              "      <td>False</td>\n",
              "      <td>False</td>\n",
              "      <td>False</td>\n",
              "      <td>False</td>\n",
              "      <td>False</td>\n",
              "      <td>False</td>\n",
              "      <td>False</td>\n",
              "      <td>False</td>\n",
              "      <td>False</td>\n",
              "      <td>False</td>\n",
              "      <td>False</td>\n",
              "      <td>False</td>\n",
              "    </tr>\n",
              "    <tr>\n",
              "      <th>...</th>\n",
              "      <td>...</td>\n",
              "      <td>...</td>\n",
              "      <td>...</td>\n",
              "      <td>...</td>\n",
              "      <td>...</td>\n",
              "      <td>...</td>\n",
              "      <td>...</td>\n",
              "      <td>...</td>\n",
              "      <td>...</td>\n",
              "      <td>...</td>\n",
              "      <td>...</td>\n",
              "      <td>...</td>\n",
              "      <td>...</td>\n",
              "      <td>...</td>\n",
              "      <td>...</td>\n",
              "      <td>...</td>\n",
              "      <td>...</td>\n",
              "      <td>...</td>\n",
              "      <td>...</td>\n",
              "      <td>...</td>\n",
              "      <td>...</td>\n",
              "    </tr>\n",
              "    <tr>\n",
              "      <th>119385</th>\n",
              "      <td>False</td>\n",
              "      <td>False</td>\n",
              "      <td>False</td>\n",
              "      <td>False</td>\n",
              "      <td>False</td>\n",
              "      <td>False</td>\n",
              "      <td>False</td>\n",
              "      <td>False</td>\n",
              "      <td>False</td>\n",
              "      <td>False</td>\n",
              "      <td>False</td>\n",
              "      <td>False</td>\n",
              "      <td>False</td>\n",
              "      <td>False</td>\n",
              "      <td>False</td>\n",
              "      <td>False</td>\n",
              "      <td>False</td>\n",
              "      <td>False</td>\n",
              "      <td>False</td>\n",
              "      <td>False</td>\n",
              "      <td>False</td>\n",
              "    </tr>\n",
              "    <tr>\n",
              "      <th>119386</th>\n",
              "      <td>True</td>\n",
              "      <td>False</td>\n",
              "      <td>False</td>\n",
              "      <td>False</td>\n",
              "      <td>False</td>\n",
              "      <td>False</td>\n",
              "      <td>False</td>\n",
              "      <td>False</td>\n",
              "      <td>False</td>\n",
              "      <td>False</td>\n",
              "      <td>False</td>\n",
              "      <td>False</td>\n",
              "      <td>False</td>\n",
              "      <td>False</td>\n",
              "      <td>False</td>\n",
              "      <td>False</td>\n",
              "      <td>False</td>\n",
              "      <td>False</td>\n",
              "      <td>False</td>\n",
              "      <td>False</td>\n",
              "      <td>False</td>\n",
              "    </tr>\n",
              "    <tr>\n",
              "      <th>119387</th>\n",
              "      <td>False</td>\n",
              "      <td>False</td>\n",
              "      <td>False</td>\n",
              "      <td>False</td>\n",
              "      <td>False</td>\n",
              "      <td>False</td>\n",
              "      <td>False</td>\n",
              "      <td>False</td>\n",
              "      <td>False</td>\n",
              "      <td>False</td>\n",
              "      <td>False</td>\n",
              "      <td>False</td>\n",
              "      <td>False</td>\n",
              "      <td>False</td>\n",
              "      <td>False</td>\n",
              "      <td>False</td>\n",
              "      <td>False</td>\n",
              "      <td>False</td>\n",
              "      <td>False</td>\n",
              "      <td>False</td>\n",
              "      <td>True</td>\n",
              "    </tr>\n",
              "    <tr>\n",
              "      <th>119388</th>\n",
              "      <td>False</td>\n",
              "      <td>False</td>\n",
              "      <td>False</td>\n",
              "      <td>False</td>\n",
              "      <td>False</td>\n",
              "      <td>False</td>\n",
              "      <td>False</td>\n",
              "      <td>False</td>\n",
              "      <td>False</td>\n",
              "      <td>False</td>\n",
              "      <td>False</td>\n",
              "      <td>False</td>\n",
              "      <td>False</td>\n",
              "      <td>False</td>\n",
              "      <td>False</td>\n",
              "      <td>False</td>\n",
              "      <td>False</td>\n",
              "      <td>False</td>\n",
              "      <td>False</td>\n",
              "      <td>False</td>\n",
              "      <td>False</td>\n",
              "    </tr>\n",
              "    <tr>\n",
              "      <th>119389</th>\n",
              "      <td>False</td>\n",
              "      <td>False</td>\n",
              "      <td>False</td>\n",
              "      <td>False</td>\n",
              "      <td>False</td>\n",
              "      <td>False</td>\n",
              "      <td>False</td>\n",
              "      <td>False</td>\n",
              "      <td>False</td>\n",
              "      <td>False</td>\n",
              "      <td>False</td>\n",
              "      <td>False</td>\n",
              "      <td>False</td>\n",
              "      <td>False</td>\n",
              "      <td>False</td>\n",
              "      <td>False</td>\n",
              "      <td>False</td>\n",
              "      <td>False</td>\n",
              "      <td>False</td>\n",
              "      <td>False</td>\n",
              "      <td>False</td>\n",
              "    </tr>\n",
              "  </tbody>\n",
              "</table>\n",
              "<p>81265 rows × 21 columns</p>\n",
              "</div>"
            ],
            "text/plain": [
              "        adults  ...  total_of_special_requests\n",
              "0        False  ...                      False\n",
              "2         True  ...                      False\n",
              "3         True  ...                      False\n",
              "4        False  ...                      False\n",
              "6        False  ...                      False\n",
              "...        ...  ...                        ...\n",
              "119385   False  ...                      False\n",
              "119386    True  ...                      False\n",
              "119387   False  ...                       True\n",
              "119388   False  ...                      False\n",
              "119389   False  ...                      False\n",
              "\n",
              "[81265 rows x 21 columns]"
            ]
          },
          "metadata": {
            "tags": []
          },
          "execution_count": 23
        }
      ]
    },
    {
      "cell_type": "code",
      "metadata": {
        "id": "Ij1NdDpyRGTR",
        "colab": {
          "base_uri": "https://localhost:8080/"
        },
        "outputId": "eea88812-a9da-48d1-a416-1cacfd440fca"
      },
      "source": [
        "# We then filter out outliers and remain with valid values as follows\n",
        "\n",
        "df_clean = hotel_df1[~((hotel_df1 < (Q1 - 1.5 * IQR)) |(hotel_df1 > (Q3 + 1.5 * IQR))).any(axis=1)]\n",
        "df_clean.shape"
      ],
      "execution_count": null,
      "outputs": [
        {
          "output_type": "execute_result",
          "data": {
            "text/plain": [
              "(43962, 21)"
            ]
          },
          "metadata": {
            "tags": []
          },
          "execution_count": 24
        }
      ]
    },
    {
      "cell_type": "markdown",
      "metadata": {
        "id": "4rKTmfSanKl0"
      },
      "source": [
        "**observation**: clean dataset has 43962 records and 21 variables."
      ]
    },
    {
      "cell_type": "code",
      "metadata": {
        "id": "LsIWJfgaGIEN",
        "colab": {
          "base_uri": "https://localhost:8080/"
        },
        "outputId": "803a27f5-8855-4511-d564-6a696937224e"
      },
      "source": [
        "#converting the data to the correct datatype- float\r\n",
        "#\r\n",
        "df_clean[[\"is_canceled\", \"arrival_date_day_of_month\", \"stays_in_weekend_nights\", \"adults\", \"adults\", \"previous_cancellations\",\"previous_cancellations\", \"previous_bookings_not_canceled\",\"required_car_parking_spaces\", \"total_of_special_requests\" ]] = df_clean[[\"is_canceled\", \"arrival_date_day_of_month\", \"stays_in_weekend_nights\", \"adults\", \"adults\", \"previous_cancellations\",\"previous_cancellations\", \"previous_bookings_not_canceled\",\"required_car_parking_spaces\", \"total_of_special_requests\"]].astype(float)\r\n",
        "#\r\n",
        "\r\n",
        "#converting categorical variables to the correct datatype-category\r\n",
        "#\r\n",
        "df_clean[[\"hotel\",\"arrival_date_month\",\"meal\", \"country\", \"reserved_room_type\",\"assigned_room_type\", \"deposit_type\", \"customer_type\", \"reservation_status\" ]] = df_clean[[\"hotel\",\"arrival_date_month\",\"meal\", \"country\", \"reserved_room_type\",\"assigned_room_type\", \"deposit_type\", \"customer_type\", \"reservation_status\"]].astype('category')"
      ],
      "execution_count": null,
      "outputs": [
        {
          "output_type": "stream",
          "text": [
            "/usr/local/lib/python3.6/dist-packages/pandas/core/frame.py:3069: SettingWithCopyWarning: \n",
            "A value is trying to be set on a copy of a slice from a DataFrame.\n",
            "Try using .loc[row_indexer,col_indexer] = value instead\n",
            "\n",
            "See the caveats in the documentation: https://pandas.pydata.org/pandas-docs/stable/user_guide/indexing.html#returning-a-view-versus-a-copy\n",
            "  self[k1] = value[k2]\n"
          ],
          "name": "stderr"
        }
      ]
    },
    {
      "cell_type": "code",
      "metadata": {
        "colab": {
          "base_uri": "https://localhost:8080/"
        },
        "id": "PhJTTxDGGLPp",
        "outputId": "3fddcd8b-e127-46ad-8cae-b88d0e88b050"
      },
      "source": [
        "df_clean.info()"
      ],
      "execution_count": null,
      "outputs": [
        {
          "output_type": "stream",
          "text": [
            "<class 'pandas.core.frame.DataFrame'>\n",
            "Int64Index: 43962 entries, 0 to 119389\n",
            "Data columns (total 21 columns):\n",
            " #   Column                          Non-Null Count  Dtype   \n",
            "---  ------                          --------------  -----   \n",
            " 0   hotel                           43962 non-null  category\n",
            " 1   is_canceled                     43962 non-null  float64 \n",
            " 2   arrival_date_month              43962 non-null  category\n",
            " 3   arrival_date_day_of_month       43962 non-null  float64 \n",
            " 4   stays_in_weekend_nights         43962 non-null  float64 \n",
            " 5   stays_in_week_nights            43962 non-null  int64   \n",
            " 6   adults                          43962 non-null  float64 \n",
            " 7   children                        43962 non-null  float64 \n",
            " 8   babies                          43962 non-null  int64   \n",
            " 9   meal                            43962 non-null  category\n",
            " 10  country                         43962 non-null  category\n",
            " 11  is_repeated_guest               43962 non-null  int64   \n",
            " 12  previous_cancellations          43962 non-null  float64 \n",
            " 13  previous_bookings_not_canceled  43962 non-null  float64 \n",
            " 14  reserved_room_type              43962 non-null  category\n",
            " 15  assigned_room_type              43962 non-null  category\n",
            " 16  deposit_type                    43962 non-null  category\n",
            " 17  customer_type                   43962 non-null  category\n",
            " 18  required_car_parking_spaces     43962 non-null  float64 \n",
            " 19  total_of_special_requests       43962 non-null  float64 \n",
            " 20  reservation_status              43962 non-null  category\n",
            "dtypes: category(9), float64(9), int64(3)\n",
            "memory usage: 4.8 MB\n"
          ],
          "name": "stdout"
        }
      ]
    },
    {
      "cell_type": "markdown",
      "metadata": {
        "id": "17-CD9dReEB9"
      },
      "source": [
        "## 6. Exploratory Data Analysis"
      ]
    },
    {
      "cell_type": "markdown",
      "metadata": {
        "id": "GLN657i9CLgo"
      },
      "source": [
        "## 6a. Univariate analysis\n",
        "\n",
        "We will now perform univariate analysis. This is a type of analysis done only one variable. This type of analysis will be helpful in understanding the characteristics of each variables.\n",
        "\n",
        "\n",
        "\n",
        "\n"
      ]
    },
    {
      "cell_type": "code",
      "metadata": {
        "id": "TqoCnLnOGRb1",
        "colab": {
          "base_uri": "https://localhost:8080/",
          "height": 309
        },
        "outputId": "ca2613e8-d159-4f53-b43a-9761c16c52d3"
      },
      "source": [
        "# preview of our dataset\r\n",
        "#\r\n",
        "df_clean.head()"
      ],
      "execution_count": null,
      "outputs": [
        {
          "output_type": "execute_result",
          "data": {
            "text/html": [
              "<div>\n",
              "<style scoped>\n",
              "    .dataframe tbody tr th:only-of-type {\n",
              "        vertical-align: middle;\n",
              "    }\n",
              "\n",
              "    .dataframe tbody tr th {\n",
              "        vertical-align: top;\n",
              "    }\n",
              "\n",
              "    .dataframe thead th {\n",
              "        text-align: right;\n",
              "    }\n",
              "</style>\n",
              "<table border=\"1\" class=\"dataframe\">\n",
              "  <thead>\n",
              "    <tr style=\"text-align: right;\">\n",
              "      <th></th>\n",
              "      <th>hotel</th>\n",
              "      <th>is_canceled</th>\n",
              "      <th>arrival_date_month</th>\n",
              "      <th>arrival_date_day_of_month</th>\n",
              "      <th>stays_in_weekend_nights</th>\n",
              "      <th>stays_in_week_nights</th>\n",
              "      <th>adults</th>\n",
              "      <th>children</th>\n",
              "      <th>babies</th>\n",
              "      <th>meal</th>\n",
              "      <th>country</th>\n",
              "      <th>is_repeated_guest</th>\n",
              "      <th>previous_cancellations</th>\n",
              "      <th>previous_bookings_not_canceled</th>\n",
              "      <th>reserved_room_type</th>\n",
              "      <th>assigned_room_type</th>\n",
              "      <th>deposit_type</th>\n",
              "      <th>customer_type</th>\n",
              "      <th>required_car_parking_spaces</th>\n",
              "      <th>total_of_special_requests</th>\n",
              "      <th>reservation_status</th>\n",
              "    </tr>\n",
              "  </thead>\n",
              "  <tbody>\n",
              "    <tr>\n",
              "      <th>0</th>\n",
              "      <td>Resort Hotel</td>\n",
              "      <td>0.0</td>\n",
              "      <td>July</td>\n",
              "      <td>1.0</td>\n",
              "      <td>0.0</td>\n",
              "      <td>0</td>\n",
              "      <td>2.0</td>\n",
              "      <td>0.0</td>\n",
              "      <td>0</td>\n",
              "      <td>BB</td>\n",
              "      <td>PRT</td>\n",
              "      <td>0</td>\n",
              "      <td>0.0</td>\n",
              "      <td>0.0</td>\n",
              "      <td>C</td>\n",
              "      <td>C</td>\n",
              "      <td>No Deposit</td>\n",
              "      <td>Transient</td>\n",
              "      <td>0.0</td>\n",
              "      <td>0.0</td>\n",
              "      <td>Check-Out</td>\n",
              "    </tr>\n",
              "    <tr>\n",
              "      <th>4</th>\n",
              "      <td>Resort Hotel</td>\n",
              "      <td>0.0</td>\n",
              "      <td>July</td>\n",
              "      <td>1.0</td>\n",
              "      <td>0.0</td>\n",
              "      <td>2</td>\n",
              "      <td>2.0</td>\n",
              "      <td>0.0</td>\n",
              "      <td>0</td>\n",
              "      <td>BB</td>\n",
              "      <td>GBR</td>\n",
              "      <td>0</td>\n",
              "      <td>0.0</td>\n",
              "      <td>0.0</td>\n",
              "      <td>A</td>\n",
              "      <td>A</td>\n",
              "      <td>No Deposit</td>\n",
              "      <td>Transient</td>\n",
              "      <td>0.0</td>\n",
              "      <td>1.0</td>\n",
              "      <td>Check-Out</td>\n",
              "    </tr>\n",
              "    <tr>\n",
              "      <th>6</th>\n",
              "      <td>Resort Hotel</td>\n",
              "      <td>0.0</td>\n",
              "      <td>July</td>\n",
              "      <td>1.0</td>\n",
              "      <td>0.0</td>\n",
              "      <td>2</td>\n",
              "      <td>2.0</td>\n",
              "      <td>0.0</td>\n",
              "      <td>0</td>\n",
              "      <td>BB</td>\n",
              "      <td>PRT</td>\n",
              "      <td>0</td>\n",
              "      <td>0.0</td>\n",
              "      <td>0.0</td>\n",
              "      <td>C</td>\n",
              "      <td>C</td>\n",
              "      <td>No Deposit</td>\n",
              "      <td>Transient</td>\n",
              "      <td>0.0</td>\n",
              "      <td>0.0</td>\n",
              "      <td>Check-Out</td>\n",
              "    </tr>\n",
              "    <tr>\n",
              "      <th>7</th>\n",
              "      <td>Resort Hotel</td>\n",
              "      <td>0.0</td>\n",
              "      <td>July</td>\n",
              "      <td>1.0</td>\n",
              "      <td>0.0</td>\n",
              "      <td>2</td>\n",
              "      <td>2.0</td>\n",
              "      <td>0.0</td>\n",
              "      <td>0</td>\n",
              "      <td>FB</td>\n",
              "      <td>PRT</td>\n",
              "      <td>0</td>\n",
              "      <td>0.0</td>\n",
              "      <td>0.0</td>\n",
              "      <td>C</td>\n",
              "      <td>C</td>\n",
              "      <td>No Deposit</td>\n",
              "      <td>Transient</td>\n",
              "      <td>0.0</td>\n",
              "      <td>1.0</td>\n",
              "      <td>Check-Out</td>\n",
              "    </tr>\n",
              "    <tr>\n",
              "      <th>8</th>\n",
              "      <td>Resort Hotel</td>\n",
              "      <td>1.0</td>\n",
              "      <td>July</td>\n",
              "      <td>1.0</td>\n",
              "      <td>0.0</td>\n",
              "      <td>3</td>\n",
              "      <td>2.0</td>\n",
              "      <td>0.0</td>\n",
              "      <td>0</td>\n",
              "      <td>BB</td>\n",
              "      <td>PRT</td>\n",
              "      <td>0</td>\n",
              "      <td>0.0</td>\n",
              "      <td>0.0</td>\n",
              "      <td>A</td>\n",
              "      <td>A</td>\n",
              "      <td>No Deposit</td>\n",
              "      <td>Transient</td>\n",
              "      <td>0.0</td>\n",
              "      <td>1.0</td>\n",
              "      <td>Canceled</td>\n",
              "    </tr>\n",
              "  </tbody>\n",
              "</table>\n",
              "</div>"
            ],
            "text/plain": [
              "          hotel  is_canceled  ... total_of_special_requests  reservation_status\n",
              "0  Resort Hotel          0.0  ...                       0.0           Check-Out\n",
              "4  Resort Hotel          0.0  ...                       1.0           Check-Out\n",
              "6  Resort Hotel          0.0  ...                       0.0           Check-Out\n",
              "7  Resort Hotel          0.0  ...                       1.0           Check-Out\n",
              "8  Resort Hotel          1.0  ...                       1.0            Canceled\n",
              "\n",
              "[5 rows x 21 columns]"
            ]
          },
          "metadata": {
            "tags": []
          },
          "execution_count": 27
        }
      ]
    },
    {
      "cell_type": "code",
      "metadata": {
        "colab": {
          "base_uri": "https://localhost:8080/",
          "height": 357
        },
        "id": "2gvdZEpgkj83",
        "outputId": "56657864-c2b1-41c2-eca4-54971ca19db3"
      },
      "source": [
        "#univariate analysis: hotel variable piechart\r\n",
        "#\r\n",
        "plt.figure(figsize = (6, 6))\r\n",
        "df_clean.hotel.value_counts().plot(kind = 'pie', autopct = '%0.1f%%')\r\n",
        "plt.show()"
      ],
      "execution_count": null,
      "outputs": [
        {
          "output_type": "display_data",
          "data": {
            "image/png": "[encoded data removed]",
            "text/plain": [
              "<Figure size 432x432 with 1 Axes>"
            ]
          },
          "metadata": {
            "tags": []
          }
        }
      ]
    },
    {
      "cell_type": "markdown",
      "metadata": {
        "id": "Z17Keoj4lPwz"
      },
      "source": [
        "**observation**: city hotel registered a higher reservation of 63.7%"
      ]
    },
    {
      "cell_type": "code",
      "metadata": {
        "colab": {
          "base_uri": "https://localhost:8080/",
          "height": 357
        },
        "id": "zTEV-DE4k7Xn",
        "outputId": "a73b516f-4181-4a70-e224-46123287673e"
      },
      "source": [
        "#univariate analysis: is cancelled variable piechart\r\n",
        "#\r\n",
        "plt.figure(figsize = (6, 6))\r\n",
        "df_clean.is_canceled.value_counts().plot(kind = 'pie', autopct = '%0.1f%%')\r\n",
        "plt.show()\r\n",
        "\r\n",
        "#0=> not cancelled\r\n",
        "#1=> cancelled"
      ],
      "execution_count": null,
      "outputs": [
        {
          "output_type": "display_data",
          "data": {
            "image/png": "[encoded data removed]",
            "text/plain": [
              "<Figure size 432x432 with 1 Axes>"
            ]
          },
          "metadata": {
            "tags": []
          }
        }
      ]
    },
    {
      "cell_type": "markdown",
      "metadata": {
        "id": "0RogISm6lFXy"
      },
      "source": [
        "**observation**: only 31% of reversation was cancelled."
      ]
    },
    {
      "cell_type": "code",
      "metadata": {
        "colab": {
          "base_uri": "https://localhost:8080/",
          "height": 340
        },
        "id": "0UGW0vopk2-D",
        "outputId": "f6332981-0c6e-49b3-982d-2e7b43c41d21"
      },
      "source": [
        "# univariate analysis: month of arrival variable histogram\r\n",
        "#\r\n",
        "plt.hist(df_clean['arrival_date_month'], bins=12, histtype='bar', rwidth=0.9)\r\n",
        "plt.xticks(rotation=90)\r\n",
        "plt.xlabel('months')\r\n",
        "plt.ylabel('frequency')\r\n",
        "plt.title('Histogram of months of the year') \r\n",
        "plt.show()"
      ],
      "execution_count": null,
      "outputs": [
        {
          "output_type": "display_data",
          "data": {
            "image/png": "[encoded data removed]",
            "text/plain": [
              "<Figure size 432x288 with 1 Axes>"
            ]
          },
          "metadata": {
            "tags": [],
            "needs_background": "light"
          }
        }
      ]
    },
    {
      "cell_type": "markdown",
      "metadata": {
        "id": "pJNwB2fJmn2G"
      },
      "source": [
        "**observation**: The most popular months of travel were between May and August with the peak being recorded at August."
      ]
    },
    {
      "cell_type": "code",
      "metadata": {
        "colab": {
          "base_uri": "https://localhost:8080/",
          "height": 265
        },
        "id": "R78f2JdzooBA",
        "outputId": "5e0c1167-458b-4baa-cb8a-9578cec2e817"
      },
      "source": [
        "# univariate analysis: meal variable bar graph\r\n",
        "df_clean.meal.value_counts().plot(kind = 'bar', rot = 0)\r\n",
        "plt.show()"
      ],
      "execution_count": null,
      "outputs": [
        {
          "output_type": "display_data",
          "data": {
            "image/png": "[encoded data removed]",
            "text/plain": [
              "<Figure size 432x288 with 1 Axes>"
            ]
          },
          "metadata": {
            "tags": [],
            "needs_background": "light"
          }
        }
      ]
    },
    {
      "cell_type": "markdown",
      "metadata": {
        "id": "UzsG95DypXxA"
      },
      "source": [
        "**observation**: many guests went for bed and breakfast option."
      ]
    },
    {
      "cell_type": "code",
      "metadata": {
        "colab": {
          "base_uri": "https://localhost:8080/"
        },
        "id": "GVgXqetQqh3O",
        "outputId": "290bfea7-0443-4463-8ce1-740b5b4beb95"
      },
      "source": [
        "# univariate analysis: month of arrival frequency count\r\n",
        "# \r\n",
        "df_clean.country.value_counts(ascending=False) "
      ],
      "execution_count": null,
      "outputs": [
        {
          "output_type": "execute_result",
          "data": {
            "text/plain": [
              "PRT    11009\n",
              "GBR     6035\n",
              "FRA     5082\n",
              "ESP     3490\n",
              "DEU     3203\n",
              "       ...  \n",
              "CYM        1\n",
              "NPL        1\n",
              "JAM        1\n",
              "PYF        1\n",
              "ABW        1\n",
              "Name: country, Length: 163, dtype: int64"
            ]
          },
          "metadata": {
            "tags": []
          },
          "execution_count": 32
        }
      ]
    },
    {
      "cell_type": "markdown",
      "metadata": {
        "id": "BYp2NR83rApy"
      },
      "source": [
        "**observation**: Most of the hotel guests came from Portugal and Great Britain."
      ]
    },
    {
      "cell_type": "code",
      "metadata": {
        "colab": {
          "base_uri": "https://localhost:8080/",
          "height": 265
        },
        "id": "ZDy3xUeNr-_F",
        "outputId": "9d8f9e08-51fd-4cec-d660-783043e82e8c"
      },
      "source": [
        "# univariate analysis: customer type variable bar graph\r\n",
        "df_clean.customer_type.value_counts().plot(kind = 'bar', rot = 0)\r\n",
        "plt.show()"
      ],
      "execution_count": null,
      "outputs": [
        {
          "output_type": "display_data",
          "data": {
            "image/png": "[encoded data removed]",
            "text/plain": [
              "<Figure size 432x288 with 1 Axes>"
            ]
          },
          "metadata": {
            "tags": [],
            "needs_background": "light"
          }
        }
      ]
    },
    {
      "cell_type": "markdown",
      "metadata": {
        "id": "yk0frRsssVLN"
      },
      "source": [
        "**observation**:The most frequent type of guest was the transient."
      ]
    },
    {
      "cell_type": "markdown",
      "metadata": {
        "id": "q0vFbvODusLB"
      },
      "source": [
        "**observation**: Most popular arrival dates for customers is 17th and  2nd early of the month mostly because that's when people get their salaries"
      ]
    },
    {
      "cell_type": "code",
      "metadata": {
        "colab": {
          "base_uri": "https://localhost:8080/",
          "height": 265
        },
        "id": "OmBucu9txoy4",
        "outputId": "77ecaf45-46ed-4138-c04e-187e083b2b5a"
      },
      "source": [
        "# univariate analysis: room type variable bar graph\r\n",
        "df_clean.assigned_room_type.value_counts().plot(kind = 'bar', rot = 0)\r\n",
        "plt.show()"
      ],
      "execution_count": null,
      "outputs": [
        {
          "output_type": "display_data",
          "data": {
            "image/png": "[encoded data removed]",
            "text/plain": [
              "<Figure size 432x288 with 1 Axes>"
            ]
          },
          "metadata": {
            "tags": [],
            "needs_background": "light"
          }
        }
      ]
    },
    {
      "cell_type": "markdown",
      "metadata": {
        "id": "rqUCJL1Dx5vF"
      },
      "source": [
        "**observation**: most of the clients went for romm type A"
      ]
    },
    {
      "cell_type": "markdown",
      "metadata": {
        "id": "V7D-LXAyeLFu"
      },
      "source": [
        "## Observations from Univariate Analysis\n",
        "1. Guests preferred the city hotels to the resort hotels\n",
        "2. Most guests went for the Bed and Break fast option while the Full board option had the least customers\n",
        "3.Most of the hotel guests came from Portugal and Great Britain while very few came from Germany\n",
        "4.The most frequent type of guest was the transient type who came for a short term visit while the group type of guests were the least\n",
        "5.The most popular months of travel were between May and August with the peak being recorded at July mainly because it is summer in Europe during these months\n",
        "6.Most popular arrival dates for customers is during end month mostly because that's when people get their salaries \n",
        "7.The most popular room type both for bookings and reservations is Type A while the least popular L"
      ]
    },
    {
      "cell_type": "markdown",
      "metadata": {
        "id": "0BqebItwW5EO"
      },
      "source": [
        "### Bivariate analysis"
      ]
    },
    {
      "cell_type": "markdown",
      "metadata": {
        "id": "kc9j1QmeHnhh"
      },
      "source": [
        "### Bar Charts to show the relationship between booking cancellation status and other variables"
      ]
    },
    {
      "cell_type": "code",
      "metadata": {
        "id": "uo2h_RG6rtQw",
        "colab": {
          "base_uri": "https://localhost:8080/"
        },
        "outputId": "6470ccd3-737f-4a99-94e7-209fe5db22b5"
      },
      "source": [
        "df_clean['is_canceled'].value_counts()\n",
        "\n",
        "# 0 = not canceled\n",
        "# 1 = canceled"
      ],
      "execution_count": null,
      "outputs": [
        {
          "output_type": "execute_result",
          "data": {
            "text/plain": [
              "0.0    30532\n",
              "1.0    13430\n",
              "Name: is_canceled, dtype: int64"
            ]
          },
          "metadata": {
            "tags": []
          },
          "execution_count": 35
        }
      ]
    },
    {
      "cell_type": "code",
      "metadata": {
        "id": "GNN3QrhXAsjX",
        "colab": {
          "base_uri": "https://localhost:8080/",
          "height": 1000
        },
        "outputId": "48f1628f-3f8c-4d3f-c0a4-9bc4dd66f3e9"
      },
      "source": [
        "#plotting the target variable against other features.\n",
        "# ignoring the warnings\n",
        "import warnings\n",
        "warnings.filterwarnings('ignore')\n",
        "\n",
        "f, axes = plt.subplots(7, 1, figsize=[5, 25])\n",
        "\n",
        "sns.countplot('hotel', hue= 'is_canceled', data=df_clean, ax=axes[0])\n",
        "sns.countplot('customer_type', hue= 'is_canceled', data=df_clean, ax=axes[1])\n",
        "sns.countplot('deposit_type', hue= 'is_canceled', data=df_clean, ax=axes[2])\n",
        "sns.countplot('is_repeated_guest', hue= 'is_canceled', data=df_clean, ax=axes[3])\n",
        "sns.countplot('previous_cancellations', hue= 'is_canceled', data=df_clean, ax=axes[4])\n",
        "sns.countplot('previous_bookings_not_canceled', hue= 'is_canceled', data=df_clean, ax=axes[5])\n",
        "sns.countplot('required_car_parking_spaces', hue= 'is_canceled', data=df_clean, ax=axes[6])"
      ],
      "execution_count": null,
      "outputs": [
        {
          "output_type": "execute_result",
          "data": {
            "text/plain": [
              "<matplotlib.axes._subplots.AxesSubplot at 0x7f9f2a21e4a8>"
            ]
          },
          "metadata": {
            "tags": []
          },
          "execution_count": 36
        },
        {
          "output_type": "display_data",
          "data": {
            "image/png": "[encoded data removed]",
            "text/plain": [
              "<Figure size 360x1800 with 7 Axes>"
            ]
          },
          "metadata": {
            "tags": [],
            "needs_background": "light"
          }
        }
      ]
    },
    {
      "cell_type": "code",
      "metadata": {
        "colab": {
          "base_uri": "https://localhost:8080/",
          "height": 460
        },
        "id": "ynrKApNg78YX",
        "outputId": "54cbd852-ce85-46aa-c771-9a68b3430253"
      },
      "source": [
        "#Distribution of cancellation and Deposit Type¶\r\n",
        "\r\n",
        "plt.figure(figsize=(7,7))\r\n",
        "sns.barplot(x=df_clean['deposit_type'], y=df_clean['is_canceled'], palette=sns.color_palette(\"icefire\"))\r\n",
        "\r\n",
        "#It Seems more bookings were non refundable and were cancelled more as well"
      ],
      "execution_count": null,
      "outputs": [
        {
          "output_type": "execute_result",
          "data": {
            "text/plain": [
              "<matplotlib.axes._subplots.AxesSubplot at 0x7f9f2a669ef0>"
            ]
          },
          "metadata": {
            "tags": []
          },
          "execution_count": 37
        },
        {
          "output_type": "display_data",
          "data": {
            "image/png": "[encoded data removed]",
            "text/plain": [
              "<Figure size 504x504 with 1 Axes>"
            ]
          },
          "metadata": {
            "tags": [],
            "needs_background": "light"
          }
        }
      ]
    },
    {
      "cell_type": "code",
      "metadata": {
        "colab": {
          "base_uri": "https://localhost:8080/",
          "height": 318
        },
        "id": "I68jHxO388HN",
        "outputId": "2dbb93fd-db35-4eb4-e5f4-e8cea7e5205f"
      },
      "source": [
        "# Special and non Special Request of the guest\r\n",
        "fig, ax = plt.subplots(1, 2, figsize=[25, 6])\r\n",
        "\r\n",
        "special = df_clean[df_clean.total_of_special_requests != 0]\r\n",
        "non_special = df_clean[df_clean.total_of_special_requests == 0]\r\n",
        "special\r\n",
        "\r\n",
        "# Plots\r\n",
        "spec = sns.countplot(special.reservation_status, ax = ax[0], palette = 'winter')\r\n",
        "spec.set(title = 'Guest with special requests', xlabel = 'Reservation_status')\r\n",
        "\r\n",
        "n_spec = sns.countplot(non_special.reservation_status, ax = ax[1], palette = 'winter')\r\n",
        "n_spec.set(title = 'Guest without special requests', ylabel = \"\", xlabel = 'Reservation_status')"
      ],
      "execution_count": null,
      "outputs": [
        {
          "output_type": "execute_result",
          "data": {
            "text/plain": [
              "[Text(0, 0.5, ''),\n",
              " Text(0.5, 0, 'Reservation_status'),\n",
              " Text(0.5, 1.0, 'Guest without special requests')]"
            ]
          },
          "metadata": {
            "tags": []
          },
          "execution_count": 38
        },
        {
          "output_type": "display_data",
          "data": {
            "image/png": "[encoded data removed]",
            "text/plain": [
              "<Figure size 1800x432 with 2 Axes>"
            ]
          },
          "metadata": {
            "tags": [],
            "needs_background": "light"
          }
        }
      ]
    },
    {
      "cell_type": "code",
      "metadata": {
        "colab": {
          "base_uri": "https://localhost:8080/",
          "height": 467
        },
        "id": "ezsAqTM18_q4",
        "outputId": "f180008e-514d-4181-f124-258d960106a6"
      },
      "source": [
        "#Stays in weekend Nights and Week Nights for Cancelled and non cancelled bookings\r\n",
        "\r\n",
        "fig, ax = plt.subplots(1, 2, figsize=[18, 8])\r\n",
        "\r\n",
        "sns.violinplot( x=df_clean[\"is_canceled\"], y=df_clean[\"stays_in_weekend_nights\"], ax = ax[0] )\r\n",
        "sns.violinplot( x=df_clean[\"is_canceled\"], y=df_clean[\"stays_in_week_nights\"], ax = ax[1] )"
      ],
      "execution_count": null,
      "outputs": [
        {
          "output_type": "execute_result",
          "data": {
            "text/plain": [
              "<matplotlib.axes._subplots.AxesSubplot at 0x7f9f29f5d898>"
            ]
          },
          "metadata": {
            "tags": []
          },
          "execution_count": 39
        },
        {
          "output_type": "display_data",
          "data": {
            "image/png": "[encoded data removed]",
            "text/plain": [
              "<Figure size 1296x576 with 2 Axes>"
            ]
          },
          "metadata": {
            "tags": [],
            "needs_background": "light"
          }
        }
      ]
    },
    {
      "cell_type": "code",
      "metadata": {
        "id": "CiJOCzCeKan3"
      },
      "source": [
        "#sns.pairplot(df_clean,kind=\"scatter\", diag_kind=\"kde\", hue=\"is_canceled\")"
      ],
      "execution_count": null,
      "outputs": []
    },
    {
      "cell_type": "code",
      "metadata": {
        "id": "Oam01mbOKq5-"
      },
      "source": [
        "# Computing the correlation matrix \r\n",
        "#\r\n",
        "# This is the association between numerical variables in the dataset\r\n",
        "#"
      ],
      "execution_count": null,
      "outputs": []
    },
    {
      "cell_type": "markdown",
      "metadata": {
        "id": "9H7GunOJf3Bl"
      },
      "source": [
        "## Observations from the Bivariate Analysis\n",
        "1. We see that it is more likely for customers from the city hotel to cancel their booking than the ones from the resort hotel\n",
        "\n",
        "2. For customer type, the transient customers were most likely to cancel while groups cancelled least\n",
        "\n",
        "3. We also saw that the guests who put no deposit were very likely to cancel because they had nothing to lose while the ones who put a refundable deposit didn't cancel at all \n",
        "\n",
        "4. The bivariate analysis also shows that it was by far less likely for repeated guests to cancel compared to their new counterparts\n"
      ]
    },
    {
      "cell_type": "code",
      "metadata": {
        "id": "iLq2-OlMiaez"
      },
      "source": [
        "df_clean2= df_clean.copy()"
      ],
      "execution_count": null,
      "outputs": []
    },
    {
      "cell_type": "code",
      "metadata": {
        "id": "7uytij4g72s3",
        "colab": {
          "base_uri": "https://localhost:8080/",
          "height": 439
        },
        "outputId": "89be1247-724d-4f35-e7c8-7b5021f330cb"
      },
      "source": [
        "# Label encoding to change our categorical variables to numerical to be able to create our correlation matrix\n",
        "\n",
        "from sklearn.preprocessing import LabelEncoder\n",
        "en = LabelEncoder()\n",
        "df_clean['hotel'] = en.fit_transform(df_clean['hotel'])\n",
        "df_clean['arrival_date_month'] = en.fit_transform(df_clean['arrival_date_month'])\n",
        "df_clean['country'] = en.fit_transform(df_clean['country'])\n",
        "df_clean['meal'] = en.fit_transform(df_clean['meal'])\n",
        "df_clean['reserved_room_type'] = en.fit_transform(df_clean['reserved_room_type'])\n",
        "df_clean['assigned_room_type'] = en.fit_transform(df_clean['assigned_room_type'])\n",
        "df_clean['deposit_type'] = en.fit_transform(df_clean['deposit_type'])\n",
        "df_clean['customer_type'] = en.fit_transform(df_clean['customer_type'])\n",
        "df_clean['reservation_status'] = en.fit_transform(df_clean['reservation_status'])\n",
        "df_clean"
      ],
      "execution_count": null,
      "outputs": [
        {
          "output_type": "execute_result",
          "data": {
            "text/html": [
              "<div>\n",
              "<style scoped>\n",
              "    .dataframe tbody tr th:only-of-type {\n",
              "        vertical-align: middle;\n",
              "    }\n",
              "\n",
              "    .dataframe tbody tr th {\n",
              "        vertical-align: top;\n",
              "    }\n",
              "\n",
              "    .dataframe thead th {\n",
              "        text-align: right;\n",
              "    }\n",
              "</style>\n",
              "<table border=\"1\" class=\"dataframe\">\n",
              "  <thead>\n",
              "    <tr style=\"text-align: right;\">\n",
              "      <th></th>\n",
              "      <th>hotel</th>\n",
              "      <th>is_canceled</th>\n",
              "      <th>arrival_date_month</th>\n",
              "      <th>arrival_date_day_of_month</th>\n",
              "      <th>stays_in_weekend_nights</th>\n",
              "      <th>stays_in_week_nights</th>\n",
              "      <th>adults</th>\n",
              "      <th>children</th>\n",
              "      <th>babies</th>\n",
              "      <th>meal</th>\n",
              "      <th>country</th>\n",
              "      <th>is_repeated_guest</th>\n",
              "      <th>previous_cancellations</th>\n",
              "      <th>previous_bookings_not_canceled</th>\n",
              "      <th>reserved_room_type</th>\n",
              "      <th>assigned_room_type</th>\n",
              "      <th>deposit_type</th>\n",
              "      <th>customer_type</th>\n",
              "      <th>required_car_parking_spaces</th>\n",
              "      <th>total_of_special_requests</th>\n",
              "      <th>reservation_status</th>\n",
              "    </tr>\n",
              "  </thead>\n",
              "  <tbody>\n",
              "    <tr>\n",
              "      <th>0</th>\n",
              "      <td>1</td>\n",
              "      <td>0.0</td>\n",
              "      <td>5</td>\n",
              "      <td>1.0</td>\n",
              "      <td>0.0</td>\n",
              "      <td>0</td>\n",
              "      <td>2.0</td>\n",
              "      <td>0.0</td>\n",
              "      <td>0</td>\n",
              "      <td>0</td>\n",
              "      <td>121</td>\n",
              "      <td>0</td>\n",
              "      <td>0.0</td>\n",
              "      <td>0.0</td>\n",
              "      <td>2</td>\n",
              "      <td>2</td>\n",
              "      <td>0</td>\n",
              "      <td>2</td>\n",
              "      <td>0.0</td>\n",
              "      <td>0.0</td>\n",
              "      <td>1</td>\n",
              "    </tr>\n",
              "    <tr>\n",
              "      <th>4</th>\n",
              "      <td>1</td>\n",
              "      <td>0.0</td>\n",
              "      <td>5</td>\n",
              "      <td>1.0</td>\n",
              "      <td>0.0</td>\n",
              "      <td>2</td>\n",
              "      <td>2.0</td>\n",
              "      <td>0.0</td>\n",
              "      <td>0</td>\n",
              "      <td>0</td>\n",
              "      <td>51</td>\n",
              "      <td>0</td>\n",
              "      <td>0.0</td>\n",
              "      <td>0.0</td>\n",
              "      <td>0</td>\n",
              "      <td>0</td>\n",
              "      <td>0</td>\n",
              "      <td>2</td>\n",
              "      <td>0.0</td>\n",
              "      <td>1.0</td>\n",
              "      <td>1</td>\n",
              "    </tr>\n",
              "    <tr>\n",
              "      <th>6</th>\n",
              "      <td>1</td>\n",
              "      <td>0.0</td>\n",
              "      <td>5</td>\n",
              "      <td>1.0</td>\n",
              "      <td>0.0</td>\n",
              "      <td>2</td>\n",
              "      <td>2.0</td>\n",
              "      <td>0.0</td>\n",
              "      <td>0</td>\n",
              "      <td>0</td>\n",
              "      <td>121</td>\n",
              "      <td>0</td>\n",
              "      <td>0.0</td>\n",
              "      <td>0.0</td>\n",
              "      <td>2</td>\n",
              "      <td>2</td>\n",
              "      <td>0</td>\n",
              "      <td>2</td>\n",
              "      <td>0.0</td>\n",
              "      <td>0.0</td>\n",
              "      <td>1</td>\n",
              "    </tr>\n",
              "    <tr>\n",
              "      <th>7</th>\n",
              "      <td>1</td>\n",
              "      <td>0.0</td>\n",
              "      <td>5</td>\n",
              "      <td>1.0</td>\n",
              "      <td>0.0</td>\n",
              "      <td>2</td>\n",
              "      <td>2.0</td>\n",
              "      <td>0.0</td>\n",
              "      <td>0</td>\n",
              "      <td>1</td>\n",
              "      <td>121</td>\n",
              "      <td>0</td>\n",
              "      <td>0.0</td>\n",
              "      <td>0.0</td>\n",
              "      <td>2</td>\n",
              "      <td>2</td>\n",
              "      <td>0</td>\n",
              "      <td>2</td>\n",
              "      <td>0.0</td>\n",
              "      <td>1.0</td>\n",
              "      <td>1</td>\n",
              "    </tr>\n",
              "    <tr>\n",
              "      <th>8</th>\n",
              "      <td>1</td>\n",
              "      <td>1.0</td>\n",
              "      <td>5</td>\n",
              "      <td>1.0</td>\n",
              "      <td>0.0</td>\n",
              "      <td>3</td>\n",
              "      <td>2.0</td>\n",
              "      <td>0.0</td>\n",
              "      <td>0</td>\n",
              "      <td>0</td>\n",
              "      <td>121</td>\n",
              "      <td>0</td>\n",
              "      <td>0.0</td>\n",
              "      <td>0.0</td>\n",
              "      <td>0</td>\n",
              "      <td>0</td>\n",
              "      <td>0</td>\n",
              "      <td>2</td>\n",
              "      <td>0.0</td>\n",
              "      <td>1.0</td>\n",
              "      <td>0</td>\n",
              "    </tr>\n",
              "    <tr>\n",
              "      <th>...</th>\n",
              "      <td>...</td>\n",
              "      <td>...</td>\n",
              "      <td>...</td>\n",
              "      <td>...</td>\n",
              "      <td>...</td>\n",
              "      <td>...</td>\n",
              "      <td>...</td>\n",
              "      <td>...</td>\n",
              "      <td>...</td>\n",
              "      <td>...</td>\n",
              "      <td>...</td>\n",
              "      <td>...</td>\n",
              "      <td>...</td>\n",
              "      <td>...</td>\n",
              "      <td>...</td>\n",
              "      <td>...</td>\n",
              "      <td>...</td>\n",
              "      <td>...</td>\n",
              "      <td>...</td>\n",
              "      <td>...</td>\n",
              "      <td>...</td>\n",
              "    </tr>\n",
              "    <tr>\n",
              "      <th>119383</th>\n",
              "      <td>0</td>\n",
              "      <td>0.0</td>\n",
              "      <td>1</td>\n",
              "      <td>31.0</td>\n",
              "      <td>2.0</td>\n",
              "      <td>4</td>\n",
              "      <td>2.0</td>\n",
              "      <td>0.0</td>\n",
              "      <td>0</td>\n",
              "      <td>0</td>\n",
              "      <td>38</td>\n",
              "      <td>0</td>\n",
              "      <td>0.0</td>\n",
              "      <td>0.0</td>\n",
              "      <td>0</td>\n",
              "      <td>0</td>\n",
              "      <td>0</td>\n",
              "      <td>2</td>\n",
              "      <td>0.0</td>\n",
              "      <td>0.0</td>\n",
              "      <td>1</td>\n",
              "    </tr>\n",
              "    <tr>\n",
              "      <th>119384</th>\n",
              "      <td>0</td>\n",
              "      <td>0.0</td>\n",
              "      <td>1</td>\n",
              "      <td>30.0</td>\n",
              "      <td>2.0</td>\n",
              "      <td>5</td>\n",
              "      <td>2.0</td>\n",
              "      <td>0.0</td>\n",
              "      <td>0</td>\n",
              "      <td>0</td>\n",
              "      <td>13</td>\n",
              "      <td>0</td>\n",
              "      <td>0.0</td>\n",
              "      <td>0.0</td>\n",
              "      <td>0</td>\n",
              "      <td>0</td>\n",
              "      <td>0</td>\n",
              "      <td>2</td>\n",
              "      <td>0.0</td>\n",
              "      <td>2.0</td>\n",
              "      <td>1</td>\n",
              "    </tr>\n",
              "    <tr>\n",
              "      <th>119385</th>\n",
              "      <td>0</td>\n",
              "      <td>0.0</td>\n",
              "      <td>1</td>\n",
              "      <td>30.0</td>\n",
              "      <td>2.0</td>\n",
              "      <td>5</td>\n",
              "      <td>2.0</td>\n",
              "      <td>0.0</td>\n",
              "      <td>0</td>\n",
              "      <td>0</td>\n",
              "      <td>13</td>\n",
              "      <td>0</td>\n",
              "      <td>0.0</td>\n",
              "      <td>0.0</td>\n",
              "      <td>0</td>\n",
              "      <td>0</td>\n",
              "      <td>0</td>\n",
              "      <td>2</td>\n",
              "      <td>0.0</td>\n",
              "      <td>0.0</td>\n",
              "      <td>1</td>\n",
              "    </tr>\n",
              "    <tr>\n",
              "      <th>119388</th>\n",
              "      <td>0</td>\n",
              "      <td>0.0</td>\n",
              "      <td>1</td>\n",
              "      <td>31.0</td>\n",
              "      <td>2.0</td>\n",
              "      <td>5</td>\n",
              "      <td>2.0</td>\n",
              "      <td>0.0</td>\n",
              "      <td>0</td>\n",
              "      <td>0</td>\n",
              "      <td>51</td>\n",
              "      <td>0</td>\n",
              "      <td>0.0</td>\n",
              "      <td>0.0</td>\n",
              "      <td>0</td>\n",
              "      <td>0</td>\n",
              "      <td>0</td>\n",
              "      <td>2</td>\n",
              "      <td>0.0</td>\n",
              "      <td>0.0</td>\n",
              "      <td>1</td>\n",
              "    </tr>\n",
              "    <tr>\n",
              "      <th>119389</th>\n",
              "      <td>0</td>\n",
              "      <td>0.0</td>\n",
              "      <td>1</td>\n",
              "      <td>29.0</td>\n",
              "      <td>2.0</td>\n",
              "      <td>7</td>\n",
              "      <td>2.0</td>\n",
              "      <td>0.0</td>\n",
              "      <td>0</td>\n",
              "      <td>2</td>\n",
              "      <td>38</td>\n",
              "      <td>0</td>\n",
              "      <td>0.0</td>\n",
              "      <td>0.0</td>\n",
              "      <td>0</td>\n",
              "      <td>0</td>\n",
              "      <td>0</td>\n",
              "      <td>2</td>\n",
              "      <td>0.0</td>\n",
              "      <td>2.0</td>\n",
              "      <td>1</td>\n",
              "    </tr>\n",
              "  </tbody>\n",
              "</table>\n",
              "<p>43962 rows × 21 columns</p>\n",
              "</div>"
            ],
            "text/plain": [
              "        hotel  is_canceled  ...  total_of_special_requests  reservation_status\n",
              "0           1          0.0  ...                        0.0                   1\n",
              "4           1          0.0  ...                        1.0                   1\n",
              "6           1          0.0  ...                        0.0                   1\n",
              "7           1          0.0  ...                        1.0                   1\n",
              "8           1          1.0  ...                        1.0                   0\n",
              "...       ...          ...  ...                        ...                 ...\n",
              "119383      0          0.0  ...                        0.0                   1\n",
              "119384      0          0.0  ...                        2.0                   1\n",
              "119385      0          0.0  ...                        0.0                   1\n",
              "119388      0          0.0  ...                        0.0                   1\n",
              "119389      0          0.0  ...                        2.0                   1\n",
              "\n",
              "[43962 rows x 21 columns]"
            ]
          },
          "metadata": {
            "tags": []
          },
          "execution_count": 43
        }
      ]
    },
    {
      "cell_type": "code",
      "metadata": {
        "id": "W-ADPc5-Qlpy"
      },
      "source": [
        "from sklearn.model_selection import train_test_split"
      ],
      "execution_count": null,
      "outputs": []
    },
    {
      "cell_type": "code",
      "metadata": {
        "id": "t7pMhVZGPaCB"
      },
      "source": [
        "# Splitting data into Input and Target Variable\r\n",
        "\r\n",
        "y = df_clean[['is_canceled']]  # target variable \r\n",
        "X = df_clean.drop(['is_canceled'], axis=1)  # input variables"
      ],
      "execution_count": null,
      "outputs": []
    },
    {
      "cell_type": "code",
      "metadata": {
        "id": "Z_dBUnUYQF_Q"
      },
      "source": [
        "# Assign variables to capture train test split output\r\n",
        "X_train, X_test, y_train, y_test = train_test_split(X, y, test_size=0.2, random_state=101)\r\n"
      ],
      "execution_count": null,
      "outputs": []
    },
    {
      "cell_type": "code",
      "metadata": {
        "id": "8J1K6ff0PZ19"
      },
      "source": [
        "# Standardising the X_train and the X_test to the same scale\r\n",
        "#\r\n",
        "from sklearn.preprocessing import StandardScaler\r\n",
        "scaler = StandardScaler()\r\n",
        "X_train = scaler.fit_transform(X_train)\r\n",
        "X_test = scaler.transform(X_test)"
      ],
      "execution_count": null,
      "outputs": []
    },
    {
      "cell_type": "code",
      "metadata": {
        "id": "p7qm58wJQy7E"
      },
      "source": [
        "#creating model. creat regressor object and train it using train data\r\n",
        "#\r\n",
        "# Building the Logistic Regression model\r\n",
        "from sklearn.linear_model import LogisticRegression\r\n",
        "\r\n",
        "clf_lr = LogisticRegression(random_state = 1)      \r\n",
        "lr_baseline_model = clf_lr.fit(X_train,y_train)"
      ],
      "execution_count": null,
      "outputs": []
    },
    {
      "cell_type": "code",
      "metadata": {
        "colab": {
          "base_uri": "https://localhost:8080/"
        },
        "id": "CA2nY-d_Tin1",
        "outputId": "2eea6963-5853-4c84-ed43-74d718dda7e6"
      },
      "source": [
        "# Noting down accuracy of the baseline model\r\n",
        "from sklearn.metrics import accuracy_score, f1_score\r\n",
        "\r\n",
        "# finding our predicted values\r\n",
        "y_pred = lr_baseline_model.predict(X_test)\r\n",
        "\r\n",
        "# Calculating the accuracy and F1 Score by comparing the actual and predicted values\r\n",
        "ac = accuracy_score(y_test, y_pred)\r\n",
        "f_score = f1_score(y_test ,y_pred)\r\n",
        "\r\n",
        "print(\"Baseline Model Accuracy:\", ac)\r\n",
        "print(\"Baseline Model F1 Score:\", f_score)"
      ],
      "execution_count": null,
      "outputs": [
        {
          "output_type": "stream",
          "text": [
            "Baseline Model Accuracy: 0.9889684976686001\n",
            "Baseline Model F1 Score: 0.9819131083348871\n"
          ],
          "name": "stdout"
        }
      ]
    },
    {
      "cell_type": "code",
      "metadata": {
        "colab": {
          "base_uri": "https://localhost:8080/"
        },
        "id": "IeN3SzzMTvDj",
        "outputId": "09f5d405-b802-4fde-c405-c07478a5b451"
      },
      "source": [
        "from sklearn.feature_selection import RFE #importing RFE class from sklearn library\r\n",
        "\r\n",
        "rfe = RFE(estimator= clf_lr , step = 1) \r\n",
        "# estimator clf_lr is the baseline model (basic model) that we have created under \"Base line Model\" selection\r\n",
        "# step = 1: removes one feature at a time and then builds a model on the remaining features\r\n",
        "# It uses the model accuracy to identify which features (and combination of features) contribute the most to predicting the target variable.\r\n",
        "# we can even provide no. of features as an argument \r\n",
        "\r\n",
        "# Fit the function for ranking the features\r\n",
        "fit = rfe.fit(X_train, y_train)\r\n",
        "\r\n",
        "print(\"Num Features: %d\" % fit.n_features_)\r\n",
        "print(\"Selected Features: %s\" % fit.support_)\r\n",
        "print(\"Feature Ranking: %s\" % fit.ranking_)"
      ],
      "execution_count": null,
      "outputs": [
        {
          "output_type": "stream",
          "text": [
            "Num Features: 10\n",
            "Selected Features: [ True  True False False  True False False False  True  True False False\n",
            " False  True  True  True False False  True  True]\n",
            "Feature Ranking: [ 1  1  3  4  1 10  9  7  1  1  8  6  5  1  1  1  2 11  1  1]\n"
          ],
          "name": "stdout"
        }
      ]
    },
    {
      "cell_type": "code",
      "metadata": {
        "colab": {
          "base_uri": "https://localhost:8080/"
        },
        "id": "iTNNdvIqslYm",
        "outputId": "440c2fb7-8705-4231-fae6-e882958ab8a8"
      },
      "source": [
        "X.info()#0,1,4,8,9,13,14,15,18,19"
      ],
      "execution_count": null,
      "outputs": [
        {
          "output_type": "stream",
          "text": [
            "<class 'pandas.core.frame.DataFrame'>\n",
            "Int64Index: 43962 entries, 0 to 119389\n",
            "Data columns (total 20 columns):\n",
            " #   Column                          Non-Null Count  Dtype  \n",
            "---  ------                          --------------  -----  \n",
            " 0   hotel                           43962 non-null  int64  \n",
            " 1   arrival_date_month              43962 non-null  int64  \n",
            " 2   arrival_date_day_of_month       43962 non-null  float64\n",
            " 3   stays_in_weekend_nights         43962 non-null  float64\n",
            " 4   stays_in_week_nights            43962 non-null  int64  \n",
            " 5   adults                          43962 non-null  float64\n",
            " 6   children                        43962 non-null  float64\n",
            " 7   babies                          43962 non-null  int64  \n",
            " 8   meal                            43962 non-null  int64  \n",
            " 9   country                         43962 non-null  int64  \n",
            " 10  is_repeated_guest               43962 non-null  int64  \n",
            " 11  previous_cancellations          43962 non-null  float64\n",
            " 12  previous_bookings_not_canceled  43962 non-null  float64\n",
            " 13  reserved_room_type              43962 non-null  int64  \n",
            " 14  assigned_room_type              43962 non-null  int64  \n",
            " 15  deposit_type                    43962 non-null  int64  \n",
            " 16  customer_type                   43962 non-null  int64  \n",
            " 17  required_car_parking_spaces     43962 non-null  float64\n",
            " 18  total_of_special_requests       43962 non-null  float64\n",
            " 19  reservation_status              43962 non-null  int64  \n",
            "dtypes: float64(8), int64(12)\n",
            "memory usage: 8.3 MB\n"
          ],
          "name": "stdout"
        }
      ]
    },
    {
      "cell_type": "code",
      "metadata": {
        "colab": {
          "base_uri": "https://localhost:8080/",
          "height": 669
        },
        "id": "0TgrVsPfxIeK",
        "outputId": "82efe609-53a1-4d7b-8a2d-0ea106973c36"
      },
      "source": [
        "selected_rfe_features = pd.DataFrame({'Feature':list(X.iloc[:, 0:]),\n",
        "                                      'Ranking':rfe.ranking_})\n",
        "selected_rfe_features.sort_values(by='Ranking')\n"
      ],
      "execution_count": null,
      "outputs": [
        {
          "output_type": "execute_result",
          "data": {
            "text/html": [
              "<div>\n",
              "<style scoped>\n",
              "    .dataframe tbody tr th:only-of-type {\n",
              "        vertical-align: middle;\n",
              "    }\n",
              "\n",
              "    .dataframe tbody tr th {\n",
              "        vertical-align: top;\n",
              "    }\n",
              "\n",
              "    .dataframe thead th {\n",
              "        text-align: right;\n",
              "    }\n",
              "</style>\n",
              "<table border=\"1\" class=\"dataframe\">\n",
              "  <thead>\n",
              "    <tr style=\"text-align: right;\">\n",
              "      <th></th>\n",
              "      <th>Feature</th>\n",
              "      <th>Ranking</th>\n",
              "    </tr>\n",
              "  </thead>\n",
              "  <tbody>\n",
              "    <tr>\n",
              "      <th>0</th>\n",
              "      <td>hotel</td>\n",
              "      <td>1</td>\n",
              "    </tr>\n",
              "    <tr>\n",
              "      <th>15</th>\n",
              "      <td>deposit_type</td>\n",
              "      <td>1</td>\n",
              "    </tr>\n",
              "    <tr>\n",
              "      <th>14</th>\n",
              "      <td>assigned_room_type</td>\n",
              "      <td>1</td>\n",
              "    </tr>\n",
              "    <tr>\n",
              "      <th>13</th>\n",
              "      <td>reserved_room_type</td>\n",
              "      <td>1</td>\n",
              "    </tr>\n",
              "    <tr>\n",
              "      <th>18</th>\n",
              "      <td>total_of_special_requests</td>\n",
              "      <td>1</td>\n",
              "    </tr>\n",
              "    <tr>\n",
              "      <th>8</th>\n",
              "      <td>meal</td>\n",
              "      <td>1</td>\n",
              "    </tr>\n",
              "    <tr>\n",
              "      <th>9</th>\n",
              "      <td>country</td>\n",
              "      <td>1</td>\n",
              "    </tr>\n",
              "    <tr>\n",
              "      <th>4</th>\n",
              "      <td>stays_in_week_nights</td>\n",
              "      <td>1</td>\n",
              "    </tr>\n",
              "    <tr>\n",
              "      <th>1</th>\n",
              "      <td>arrival_date_month</td>\n",
              "      <td>1</td>\n",
              "    </tr>\n",
              "    <tr>\n",
              "      <th>19</th>\n",
              "      <td>reservation_status</td>\n",
              "      <td>1</td>\n",
              "    </tr>\n",
              "    <tr>\n",
              "      <th>16</th>\n",
              "      <td>customer_type</td>\n",
              "      <td>2</td>\n",
              "    </tr>\n",
              "    <tr>\n",
              "      <th>2</th>\n",
              "      <td>arrival_date_day_of_month</td>\n",
              "      <td>3</td>\n",
              "    </tr>\n",
              "    <tr>\n",
              "      <th>3</th>\n",
              "      <td>stays_in_weekend_nights</td>\n",
              "      <td>4</td>\n",
              "    </tr>\n",
              "    <tr>\n",
              "      <th>12</th>\n",
              "      <td>previous_bookings_not_canceled</td>\n",
              "      <td>5</td>\n",
              "    </tr>\n",
              "    <tr>\n",
              "      <th>11</th>\n",
              "      <td>previous_cancellations</td>\n",
              "      <td>6</td>\n",
              "    </tr>\n",
              "    <tr>\n",
              "      <th>7</th>\n",
              "      <td>babies</td>\n",
              "      <td>7</td>\n",
              "    </tr>\n",
              "    <tr>\n",
              "      <th>10</th>\n",
              "      <td>is_repeated_guest</td>\n",
              "      <td>8</td>\n",
              "    </tr>\n",
              "    <tr>\n",
              "      <th>6</th>\n",
              "      <td>children</td>\n",
              "      <td>9</td>\n",
              "    </tr>\n",
              "    <tr>\n",
              "      <th>5</th>\n",
              "      <td>adults</td>\n",
              "      <td>10</td>\n",
              "    </tr>\n",
              "    <tr>\n",
              "      <th>17</th>\n",
              "      <td>required_car_parking_spaces</td>\n",
              "      <td>11</td>\n",
              "    </tr>\n",
              "  </tbody>\n",
              "</table>\n",
              "</div>"
            ],
            "text/plain": [
              "                           Feature  Ranking\n",
              "0                            hotel        1\n",
              "15                    deposit_type        1\n",
              "14              assigned_room_type        1\n",
              "13              reserved_room_type        1\n",
              "18       total_of_special_requests        1\n",
              "8                             meal        1\n",
              "9                          country        1\n",
              "4             stays_in_week_nights        1\n",
              "1               arrival_date_month        1\n",
              "19              reservation_status        1\n",
              "16                   customer_type        2\n",
              "2        arrival_date_day_of_month        3\n",
              "3          stays_in_weekend_nights        4\n",
              "12  previous_bookings_not_canceled        5\n",
              "11          previous_cancellations        6\n",
              "7                           babies        7\n",
              "10               is_repeated_guest        8\n",
              "6                         children        9\n",
              "5                           adults       10\n",
              "17     required_car_parking_spaces       11"
            ]
          },
          "metadata": {
            "tags": []
          },
          "execution_count": 52
        }
      ]
    },
    {
      "cell_type": "code",
      "metadata": {
        "colab": {
          "base_uri": "https://localhost:8080/"
        },
        "id": "V8i0oJAkyJxq",
        "outputId": "ee6116a2-fa89-4e98-8620-fc9479a89167"
      },
      "source": [
        "df2 = df_clean[['hotel', 'deposit_type','assigned_room_type','reserved_room_type','total_of_special_requests','meal','country','stays_in_week_nights','arrival_date_month','reservation_status']]\r\n",
        "df2.info()"
      ],
      "execution_count": null,
      "outputs": [
        {
          "output_type": "stream",
          "text": [
            "<class 'pandas.core.frame.DataFrame'>\n",
            "Int64Index: 43962 entries, 0 to 119389\n",
            "Data columns (total 10 columns):\n",
            " #   Column                     Non-Null Count  Dtype  \n",
            "---  ------                     --------------  -----  \n",
            " 0   hotel                      43962 non-null  int64  \n",
            " 1   deposit_type               43962 non-null  int64  \n",
            " 2   assigned_room_type         43962 non-null  int64  \n",
            " 3   reserved_room_type         43962 non-null  int64  \n",
            " 4   total_of_special_requests  43962 non-null  float64\n",
            " 5   meal                       43962 non-null  int64  \n",
            " 6   country                    43962 non-null  int64  \n",
            " 7   stays_in_week_nights       43962 non-null  int64  \n",
            " 8   arrival_date_month         43962 non-null  int64  \n",
            " 9   reservation_status         43962 non-null  int64  \n",
            "dtypes: float64(1), int64(9)\n",
            "memory usage: 4.9 MB\n"
          ],
          "name": "stdout"
        }
      ]
    },
    {
      "cell_type": "code",
      "metadata": {
        "colab": {
          "base_uri": "https://localhost:8080/"
        },
        "id": "Ag52MNiC59d_",
        "outputId": "4ae774a6-0249-415e-eaeb-f162655eb56c"
      },
      "source": [
        "#dataset colunms  preview\r\n",
        "#\r\n",
        "df2.columns"
      ],
      "execution_count": null,
      "outputs": [
        {
          "output_type": "execute_result",
          "data": {
            "text/plain": [
              "Index(['hotel', 'deposit_type', 'assigned_room_type', 'reserved_room_type',\n",
              "       'total_of_special_requests', 'meal', 'country', 'stays_in_week_nights',\n",
              "       'arrival_date_month', 'reservation_status'],\n",
              "      dtype='object')"
            ]
          },
          "metadata": {
            "tags": []
          },
          "execution_count": 54
        }
      ]
    },
    {
      "cell_type": "code",
      "metadata": {
        "colab": {
          "base_uri": "https://localhost:8080/"
        },
        "id": "vge6ZsTT6J3k",
        "outputId": "24ecbb1d-4c03-413e-c750-bd9f303cdfd8"
      },
      "source": [
        "df_clean2=df_clean2[['hotel', 'deposit_type', 'assigned_room_type', 'reserved_room_type',\r\n",
        "       'total_of_special_requests', 'meal', 'country', 'stays_in_week_nights',\r\n",
        "       'arrival_date_month', 'reservation_status']]\r\n",
        "df_clean2.info()"
      ],
      "execution_count": null,
      "outputs": [
        {
          "output_type": "stream",
          "text": [
            "<class 'pandas.core.frame.DataFrame'>\n",
            "Int64Index: 43962 entries, 0 to 119389\n",
            "Data columns (total 10 columns):\n",
            " #   Column                     Non-Null Count  Dtype   \n",
            "---  ------                     --------------  -----   \n",
            " 0   hotel                      43962 non-null  category\n",
            " 1   deposit_type               43962 non-null  category\n",
            " 2   assigned_room_type         43962 non-null  category\n",
            " 3   reserved_room_type         43962 non-null  category\n",
            " 4   total_of_special_requests  43962 non-null  float64 \n",
            " 5   meal                       43962 non-null  category\n",
            " 6   country                    43962 non-null  category\n",
            " 7   stays_in_week_nights       43962 non-null  int64   \n",
            " 8   arrival_date_month         43962 non-null  category\n",
            " 9   reservation_status         43962 non-null  category\n",
            "dtypes: category(8), float64(1), int64(1)\n",
            "memory usage: 2.6 MB\n"
          ],
          "name": "stdout"
        }
      ]
    },
    {
      "cell_type": "markdown",
      "metadata": {
        "id": "_4DcobyX3Bhd"
      },
      "source": [
        "so we are going the following algorithms:\r\n",
        "\r\n",
        "\r\n",
        "1. Logistic Reg\r\n",
        "2. Random Forest\r\n",
        "2. Gradient Boosted Trees\r\n",
        "4. Naive Bayes Classifier\r\n",
        "5. Neural Networks\r\n",
        "6. k-NN classifier\r\n",
        "7. SVM\r\n",
        "\r\n",
        "\r\n"
      ]
    },
    {
      "cell_type": "markdown",
      "metadata": {
        "id": "6g3QsfdjFGgq"
      },
      "source": [
        "**Logistic regression**"
      ]
    },
    {
      "cell_type": "markdown",
      "metadata": {
        "id": "OgZ__BIsHkJM"
      },
      "source": [
        "using 10 features of the dataset"
      ]
    },
    {
      "cell_type": "code",
      "metadata": {
        "id": "EKr72BlNFN50"
      },
      "source": [
        "# Splitting data into Input and Target Variable\r\n",
        "\r\n",
        "y = df_clean[['is_canceled']]  # target variable \r\n",
        "X = df_clean.drop(['is_canceled'], axis=1)  # input variables"
      ],
      "execution_count": null,
      "outputs": []
    },
    {
      "cell_type": "code",
      "metadata": {
        "id": "B6o9Nwx5FZ3E"
      },
      "source": [
        "# Spliting the data into training at 70% of data and testing sets\r\n",
        "#\r\n",
        "X_train, X_test, y_train, y_test = train_test_split(X, y, test_size = 0.30, random_state = 101)"
      ],
      "execution_count": null,
      "outputs": []
    },
    {
      "cell_type": "code",
      "metadata": {
        "id": "hp53oxdHIvcC"
      },
      "source": [
        "# Standardising the X_train and the X_test to the same scale\r\n",
        "#\r\n",
        "from sklearn.preprocessing import StandardScaler\r\n",
        "scaler = StandardScaler()\r\n",
        "X_train = scaler.fit_transform(X_train)\r\n",
        "X_test = scaler.transform(X_test)"
      ],
      "execution_count": null,
      "outputs": []
    },
    {
      "cell_type": "markdown",
      "metadata": {
        "id": "ueimOAdcPJzm"
      },
      "source": [
        "**hyperperameter tuning**"
      ]
    },
    {
      "cell_type": "code",
      "metadata": {
        "id": "jo3GoQtfNudz"
      },
      "source": [
        "#importing nessary libruaries\r\n",
        "#\r\n",
        "from sklearn import linear_model, datasets\r\n",
        "from sklearn.model_selection import GridSearchCV"
      ],
      "execution_count": null,
      "outputs": []
    },
    {
      "cell_type": "code",
      "metadata": {
        "id": "f6n9jof3N0JP"
      },
      "source": [
        "# Creating regularization penalty space\r\n",
        "penalty = ['l1', 'l2']"
      ],
      "execution_count": null,
      "outputs": []
    },
    {
      "cell_type": "code",
      "metadata": {
        "id": "lvjbwyXzN8UM"
      },
      "source": [
        "# Creating regularization hyperparameter space\r\n",
        "C = np.logspace(0, 4, 10)"
      ],
      "execution_count": null,
      "outputs": []
    },
    {
      "cell_type": "code",
      "metadata": {
        "id": "gbxtwEKfOGJB"
      },
      "source": [
        "# Creating hyperparameter options\r\n",
        "hyperparameters = dict(C=C, penalty=penalty)"
      ],
      "execution_count": null,
      "outputs": []
    },
    {
      "cell_type": "code",
      "metadata": {
        "id": "UfJF6CDHO3Kf"
      },
      "source": [
        "# Fitting grid search\r\n",
        "#best_model = clf.fit(X, y)"
      ],
      "execution_count": null,
      "outputs": []
    },
    {
      "cell_type": "code",
      "metadata": {
        "id": "1W-nNce7PXZA"
      },
      "source": [
        "# Fitting grid search\r\n",
        "#best_model = clf.fit(X, y)"
      ],
      "execution_count": null,
      "outputs": []
    },
    {
      "cell_type": "code",
      "metadata": {
        "id": "HdIT4h3kPZkp"
      },
      "source": [
        "# Viewing best hyperparameters\r\n",
        "#print('Best Penalty:', best_model.best_estimator_.get_params()['penalty'])\r\n",
        "#print('Best C:', best_model.best_estimator_.get_params()['C'])"
      ],
      "execution_count": null,
      "outputs": []
    },
    {
      "cell_type": "code",
      "metadata": {
        "id": "cNw80me6Flrx"
      },
      "source": [
        "#creating model. creat regressor object and train it using train data\r\n",
        "#\r\n",
        "# Building the Logistic Regression model\r\n",
        "#from sklearn.linear_model import LogisticRegression\r\n",
        "#from sklearn import metrics\r\n",
        "\r\n",
        "#logreg = LogisticRegression(random_state = 1, C=1., penalty='l2')      \r\n",
        "#logreg.fit(X_train,y_train)"
      ],
      "execution_count": null,
      "outputs": []
    },
    {
      "cell_type": "code",
      "metadata": {
        "id": "LvNhJzhqHxPK"
      },
      "source": [
        "#model prediction\r\n",
        "#\r\n",
        "#y_pred = logreg.predict(X_test)\r\n"
      ],
      "execution_count": null,
      "outputs": []
    },
    {
      "cell_type": "code",
      "metadata": {
        "id": "3nRGRbO4JV3f"
      },
      "source": [
        "#from sklearn.model_selection import cross_val_score\r\n",
        "#print(logreg.score(y_test, y_test))"
      ],
      "execution_count": null,
      "outputs": []
    },
    {
      "cell_type": "markdown",
      "metadata": {
        "id": "uQ4E2KuSNcJH"
      },
      "source": [
        "RNN model"
      ]
    },
    {
      "cell_type": "code",
      "metadata": {
        "colab": {
          "base_uri": "https://localhost:8080/",
          "height": 270
        },
        "id": "AFoqcCPf6oZ7",
        "outputId": "29867e72-989e-4362-9e75-9ca0d8061c04"
      },
      "source": [
        "#creating dummies for the categorical columns\r\n",
        "columns = df_clean2.columns\r\n",
        "df_clean2 = pd.get_dummies(df_clean2, columns=columns, drop_first=True)\r\n",
        "df_clean2.head()"
      ],
      "execution_count": null,
      "outputs": [
        {
          "output_type": "execute_result",
          "data": {
            "text/html": [
              "<div>\n",
              "<style scoped>\n",
              "    .dataframe tbody tr th:only-of-type {\n",
              "        vertical-align: middle;\n",
              "    }\n",
              "\n",
              "    .dataframe tbody tr th {\n",
              "        vertical-align: top;\n",
              "    }\n",
              "\n",
              "    .dataframe thead th {\n",
              "        text-align: right;\n",
              "    }\n",
              "</style>\n",
              "<table border=\"1\" class=\"dataframe\">\n",
              "  <thead>\n",
              "    <tr style=\"text-align: right;\">\n",
              "      <th></th>\n",
              "      <th>hotel_Resort Hotel_1</th>\n",
              "      <th>deposit_type_Non Refund_1</th>\n",
              "      <th>deposit_type_Refundable_1</th>\n",
              "      <th>assigned_room_type_B_1</th>\n",
              "      <th>assigned_room_type_C_1</th>\n",
              "      <th>assigned_room_type_D_1</th>\n",
              "      <th>assigned_room_type_E_1</th>\n",
              "      <th>assigned_room_type_F_1</th>\n",
              "      <th>assigned_room_type_G_1</th>\n",
              "      <th>assigned_room_type_H_1</th>\n",
              "      <th>assigned_room_type_I_1</th>\n",
              "      <th>assigned_room_type_K_1</th>\n",
              "      <th>reserved_room_type_B_1</th>\n",
              "      <th>reserved_room_type_C_1</th>\n",
              "      <th>reserved_room_type_D_1</th>\n",
              "      <th>reserved_room_type_E_1</th>\n",
              "      <th>reserved_room_type_F_1</th>\n",
              "      <th>reserved_room_type_G_1</th>\n",
              "      <th>reserved_room_type_H_1</th>\n",
              "      <th>reserved_room_type_L_1</th>\n",
              "      <th>total_of_special_requests_1.0_1</th>\n",
              "      <th>total_of_special_requests_2.0_1</th>\n",
              "      <th>meal_FB_1</th>\n",
              "      <th>meal_HB_1</th>\n",
              "      <th>meal_SC_1</th>\n",
              "      <th>meal_Undefined_1</th>\n",
              "      <th>country_AGO_1</th>\n",
              "      <th>country_ALB_1</th>\n",
              "      <th>country_AND_1</th>\n",
              "      <th>country_ARE_1</th>\n",
              "      <th>country_ARG_1</th>\n",
              "      <th>country_ARM_1</th>\n",
              "      <th>country_ASM_1</th>\n",
              "      <th>country_ATF_1</th>\n",
              "      <th>country_AUS_1</th>\n",
              "      <th>country_AUT_1</th>\n",
              "      <th>country_AZE_1</th>\n",
              "      <th>country_BDI_1</th>\n",
              "      <th>country_BEL_1</th>\n",
              "      <th>country_BEN_1</th>\n",
              "      <th>...</th>\n",
              "      <th>country_THA_1</th>\n",
              "      <th>country_TJK_1</th>\n",
              "      <th>country_TMP_1</th>\n",
              "      <th>country_TUN_1</th>\n",
              "      <th>country_TUR_1</th>\n",
              "      <th>country_TWN_1</th>\n",
              "      <th>country_TZA_1</th>\n",
              "      <th>country_UGA_1</th>\n",
              "      <th>country_UKR_1</th>\n",
              "      <th>country_UMI_1</th>\n",
              "      <th>country_URY_1</th>\n",
              "      <th>country_USA_1</th>\n",
              "      <th>country_UZB_1</th>\n",
              "      <th>country_VEN_1</th>\n",
              "      <th>country_VGB_1</th>\n",
              "      <th>country_VNM_1</th>\n",
              "      <th>country_ZAF_1</th>\n",
              "      <th>country_ZMB_1</th>\n",
              "      <th>country_ZWE_1</th>\n",
              "      <th>stays_in_week_nights_1_1</th>\n",
              "      <th>stays_in_week_nights_2_1</th>\n",
              "      <th>stays_in_week_nights_3_1</th>\n",
              "      <th>stays_in_week_nights_4_1</th>\n",
              "      <th>stays_in_week_nights_5_1</th>\n",
              "      <th>stays_in_week_nights_6_1</th>\n",
              "      <th>stays_in_week_nights_7_1</th>\n",
              "      <th>stays_in_week_nights_8_1</th>\n",
              "      <th>arrival_date_month_August_1</th>\n",
              "      <th>arrival_date_month_December_1</th>\n",
              "      <th>arrival_date_month_February_1</th>\n",
              "      <th>arrival_date_month_January_1</th>\n",
              "      <th>arrival_date_month_July_1</th>\n",
              "      <th>arrival_date_month_June_1</th>\n",
              "      <th>arrival_date_month_March_1</th>\n",
              "      <th>arrival_date_month_May_1</th>\n",
              "      <th>arrival_date_month_November_1</th>\n",
              "      <th>arrival_date_month_October_1</th>\n",
              "      <th>arrival_date_month_September_1</th>\n",
              "      <th>reservation_status_Check-Out_1</th>\n",
              "      <th>reservation_status_No-Show_1</th>\n",
              "    </tr>\n",
              "  </thead>\n",
              "  <tbody>\n",
              "    <tr>\n",
              "      <th>0</th>\n",
              "      <td>1</td>\n",
              "      <td>0</td>\n",
              "      <td>0</td>\n",
              "      <td>0</td>\n",
              "      <td>1</td>\n",
              "      <td>0</td>\n",
              "      <td>0</td>\n",
              "      <td>0</td>\n",
              "      <td>0</td>\n",
              "      <td>0</td>\n",
              "      <td>0</td>\n",
              "      <td>0</td>\n",
              "      <td>0</td>\n",
              "      <td>1</td>\n",
              "      <td>0</td>\n",
              "      <td>0</td>\n",
              "      <td>0</td>\n",
              "      <td>0</td>\n",
              "      <td>0</td>\n",
              "      <td>0</td>\n",
              "      <td>0</td>\n",
              "      <td>0</td>\n",
              "      <td>0</td>\n",
              "      <td>0</td>\n",
              "      <td>0</td>\n",
              "      <td>0</td>\n",
              "      <td>0</td>\n",
              "      <td>0</td>\n",
              "      <td>0</td>\n",
              "      <td>0</td>\n",
              "      <td>0</td>\n",
              "      <td>0</td>\n",
              "      <td>0</td>\n",
              "      <td>0</td>\n",
              "      <td>0</td>\n",
              "      <td>0</td>\n",
              "      <td>0</td>\n",
              "      <td>0</td>\n",
              "      <td>0</td>\n",
              "      <td>0</td>\n",
              "      <td>...</td>\n",
              "      <td>0</td>\n",
              "      <td>0</td>\n",
              "      <td>0</td>\n",
              "      <td>0</td>\n",
              "      <td>0</td>\n",
              "      <td>0</td>\n",
              "      <td>0</td>\n",
              "      <td>0</td>\n",
              "      <td>0</td>\n",
              "      <td>0</td>\n",
              "      <td>0</td>\n",
              "      <td>0</td>\n",
              "      <td>0</td>\n",
              "      <td>0</td>\n",
              "      <td>0</td>\n",
              "      <td>0</td>\n",
              "      <td>0</td>\n",
              "      <td>0</td>\n",
              "      <td>0</td>\n",
              "      <td>0</td>\n",
              "      <td>0</td>\n",
              "      <td>0</td>\n",
              "      <td>0</td>\n",
              "      <td>0</td>\n",
              "      <td>0</td>\n",
              "      <td>0</td>\n",
              "      <td>0</td>\n",
              "      <td>0</td>\n",
              "      <td>0</td>\n",
              "      <td>0</td>\n",
              "      <td>0</td>\n",
              "      <td>1</td>\n",
              "      <td>0</td>\n",
              "      <td>0</td>\n",
              "      <td>0</td>\n",
              "      <td>0</td>\n",
              "      <td>0</td>\n",
              "      <td>0</td>\n",
              "      <td>1</td>\n",
              "      <td>0</td>\n",
              "    </tr>\n",
              "    <tr>\n",
              "      <th>4</th>\n",
              "      <td>1</td>\n",
              "      <td>0</td>\n",
              "      <td>0</td>\n",
              "      <td>0</td>\n",
              "      <td>0</td>\n",
              "      <td>0</td>\n",
              "      <td>0</td>\n",
              "      <td>0</td>\n",
              "      <td>0</td>\n",
              "      <td>0</td>\n",
              "      <td>0</td>\n",
              "      <td>0</td>\n",
              "      <td>0</td>\n",
              "      <td>0</td>\n",
              "      <td>0</td>\n",
              "      <td>0</td>\n",
              "      <td>0</td>\n",
              "      <td>0</td>\n",
              "      <td>0</td>\n",
              "      <td>0</td>\n",
              "      <td>1</td>\n",
              "      <td>0</td>\n",
              "      <td>0</td>\n",
              "      <td>0</td>\n",
              "      <td>0</td>\n",
              "      <td>0</td>\n",
              "      <td>0</td>\n",
              "      <td>0</td>\n",
              "      <td>0</td>\n",
              "      <td>0</td>\n",
              "      <td>0</td>\n",
              "      <td>0</td>\n",
              "      <td>0</td>\n",
              "      <td>0</td>\n",
              "      <td>0</td>\n",
              "      <td>0</td>\n",
              "      <td>0</td>\n",
              "      <td>0</td>\n",
              "      <td>0</td>\n",
              "      <td>0</td>\n",
              "      <td>...</td>\n",
              "      <td>0</td>\n",
              "      <td>0</td>\n",
              "      <td>0</td>\n",
              "      <td>0</td>\n",
              "      <td>0</td>\n",
              "      <td>0</td>\n",
              "      <td>0</td>\n",
              "      <td>0</td>\n",
              "      <td>0</td>\n",
              "      <td>0</td>\n",
              "      <td>0</td>\n",
              "      <td>0</td>\n",
              "      <td>0</td>\n",
              "      <td>0</td>\n",
              "      <td>0</td>\n",
              "      <td>0</td>\n",
              "      <td>0</td>\n",
              "      <td>0</td>\n",
              "      <td>0</td>\n",
              "      <td>0</td>\n",
              "      <td>1</td>\n",
              "      <td>0</td>\n",
              "      <td>0</td>\n",
              "      <td>0</td>\n",
              "      <td>0</td>\n",
              "      <td>0</td>\n",
              "      <td>0</td>\n",
              "      <td>0</td>\n",
              "      <td>0</td>\n",
              "      <td>0</td>\n",
              "      <td>0</td>\n",
              "      <td>1</td>\n",
              "      <td>0</td>\n",
              "      <td>0</td>\n",
              "      <td>0</td>\n",
              "      <td>0</td>\n",
              "      <td>0</td>\n",
              "      <td>0</td>\n",
              "      <td>1</td>\n",
              "      <td>0</td>\n",
              "    </tr>\n",
              "    <tr>\n",
              "      <th>6</th>\n",
              "      <td>1</td>\n",
              "      <td>0</td>\n",
              "      <td>0</td>\n",
              "      <td>0</td>\n",
              "      <td>1</td>\n",
              "      <td>0</td>\n",
              "      <td>0</td>\n",
              "      <td>0</td>\n",
              "      <td>0</td>\n",
              "      <td>0</td>\n",
              "      <td>0</td>\n",
              "      <td>0</td>\n",
              "      <td>0</td>\n",
              "      <td>1</td>\n",
              "      <td>0</td>\n",
              "      <td>0</td>\n",
              "      <td>0</td>\n",
              "      <td>0</td>\n",
              "      <td>0</td>\n",
              "      <td>0</td>\n",
              "      <td>0</td>\n",
              "      <td>0</td>\n",
              "      <td>0</td>\n",
              "      <td>0</td>\n",
              "      <td>0</td>\n",
              "      <td>0</td>\n",
              "      <td>0</td>\n",
              "      <td>0</td>\n",
              "      <td>0</td>\n",
              "      <td>0</td>\n",
              "      <td>0</td>\n",
              "      <td>0</td>\n",
              "      <td>0</td>\n",
              "      <td>0</td>\n",
              "      <td>0</td>\n",
              "      <td>0</td>\n",
              "      <td>0</td>\n",
              "      <td>0</td>\n",
              "      <td>0</td>\n",
              "      <td>0</td>\n",
              "      <td>...</td>\n",
              "      <td>0</td>\n",
              "      <td>0</td>\n",
              "      <td>0</td>\n",
              "      <td>0</td>\n",
              "      <td>0</td>\n",
              "      <td>0</td>\n",
              "      <td>0</td>\n",
              "      <td>0</td>\n",
              "      <td>0</td>\n",
              "      <td>0</td>\n",
              "      <td>0</td>\n",
              "      <td>0</td>\n",
              "      <td>0</td>\n",
              "      <td>0</td>\n",
              "      <td>0</td>\n",
              "      <td>0</td>\n",
              "      <td>0</td>\n",
              "      <td>0</td>\n",
              "      <td>0</td>\n",
              "      <td>0</td>\n",
              "      <td>1</td>\n",
              "      <td>0</td>\n",
              "      <td>0</td>\n",
              "      <td>0</td>\n",
              "      <td>0</td>\n",
              "      <td>0</td>\n",
              "      <td>0</td>\n",
              "      <td>0</td>\n",
              "      <td>0</td>\n",
              "      <td>0</td>\n",
              "      <td>0</td>\n",
              "      <td>1</td>\n",
              "      <td>0</td>\n",
              "      <td>0</td>\n",
              "      <td>0</td>\n",
              "      <td>0</td>\n",
              "      <td>0</td>\n",
              "      <td>0</td>\n",
              "      <td>1</td>\n",
              "      <td>0</td>\n",
              "    </tr>\n",
              "    <tr>\n",
              "      <th>7</th>\n",
              "      <td>1</td>\n",
              "      <td>0</td>\n",
              "      <td>0</td>\n",
              "      <td>0</td>\n",
              "      <td>1</td>\n",
              "      <td>0</td>\n",
              "      <td>0</td>\n",
              "      <td>0</td>\n",
              "      <td>0</td>\n",
              "      <td>0</td>\n",
              "      <td>0</td>\n",
              "      <td>0</td>\n",
              "      <td>0</td>\n",
              "      <td>1</td>\n",
              "      <td>0</td>\n",
              "      <td>0</td>\n",
              "      <td>0</td>\n",
              "      <td>0</td>\n",
              "      <td>0</td>\n",
              "      <td>0</td>\n",
              "      <td>1</td>\n",
              "      <td>0</td>\n",
              "      <td>1</td>\n",
              "      <td>0</td>\n",
              "      <td>0</td>\n",
              "      <td>0</td>\n",
              "      <td>0</td>\n",
              "      <td>0</td>\n",
              "      <td>0</td>\n",
              "      <td>0</td>\n",
              "      <td>0</td>\n",
              "      <td>0</td>\n",
              "      <td>0</td>\n",
              "      <td>0</td>\n",
              "      <td>0</td>\n",
              "      <td>0</td>\n",
              "      <td>0</td>\n",
              "      <td>0</td>\n",
              "      <td>0</td>\n",
              "      <td>0</td>\n",
              "      <td>...</td>\n",
              "      <td>0</td>\n",
              "      <td>0</td>\n",
              "      <td>0</td>\n",
              "      <td>0</td>\n",
              "      <td>0</td>\n",
              "      <td>0</td>\n",
              "      <td>0</td>\n",
              "      <td>0</td>\n",
              "      <td>0</td>\n",
              "      <td>0</td>\n",
              "      <td>0</td>\n",
              "      <td>0</td>\n",
              "      <td>0</td>\n",
              "      <td>0</td>\n",
              "      <td>0</td>\n",
              "      <td>0</td>\n",
              "      <td>0</td>\n",
              "      <td>0</td>\n",
              "      <td>0</td>\n",
              "      <td>0</td>\n",
              "      <td>1</td>\n",
              "      <td>0</td>\n",
              "      <td>0</td>\n",
              "      <td>0</td>\n",
              "      <td>0</td>\n",
              "      <td>0</td>\n",
              "      <td>0</td>\n",
              "      <td>0</td>\n",
              "      <td>0</td>\n",
              "      <td>0</td>\n",
              "      <td>0</td>\n",
              "      <td>1</td>\n",
              "      <td>0</td>\n",
              "      <td>0</td>\n",
              "      <td>0</td>\n",
              "      <td>0</td>\n",
              "      <td>0</td>\n",
              "      <td>0</td>\n",
              "      <td>1</td>\n",
              "      <td>0</td>\n",
              "    </tr>\n",
              "    <tr>\n",
              "      <th>8</th>\n",
              "      <td>1</td>\n",
              "      <td>0</td>\n",
              "      <td>0</td>\n",
              "      <td>0</td>\n",
              "      <td>0</td>\n",
              "      <td>0</td>\n",
              "      <td>0</td>\n",
              "      <td>0</td>\n",
              "      <td>0</td>\n",
              "      <td>0</td>\n",
              "      <td>0</td>\n",
              "      <td>0</td>\n",
              "      <td>0</td>\n",
              "      <td>0</td>\n",
              "      <td>0</td>\n",
              "      <td>0</td>\n",
              "      <td>0</td>\n",
              "      <td>0</td>\n",
              "      <td>0</td>\n",
              "      <td>0</td>\n",
              "      <td>1</td>\n",
              "      <td>0</td>\n",
              "      <td>0</td>\n",
              "      <td>0</td>\n",
              "      <td>0</td>\n",
              "      <td>0</td>\n",
              "      <td>0</td>\n",
              "      <td>0</td>\n",
              "      <td>0</td>\n",
              "      <td>0</td>\n",
              "      <td>0</td>\n",
              "      <td>0</td>\n",
              "      <td>0</td>\n",
              "      <td>0</td>\n",
              "      <td>0</td>\n",
              "      <td>0</td>\n",
              "      <td>0</td>\n",
              "      <td>0</td>\n",
              "      <td>0</td>\n",
              "      <td>0</td>\n",
              "      <td>...</td>\n",
              "      <td>0</td>\n",
              "      <td>0</td>\n",
              "      <td>0</td>\n",
              "      <td>0</td>\n",
              "      <td>0</td>\n",
              "      <td>0</td>\n",
              "      <td>0</td>\n",
              "      <td>0</td>\n",
              "      <td>0</td>\n",
              "      <td>0</td>\n",
              "      <td>0</td>\n",
              "      <td>0</td>\n",
              "      <td>0</td>\n",
              "      <td>0</td>\n",
              "      <td>0</td>\n",
              "      <td>0</td>\n",
              "      <td>0</td>\n",
              "      <td>0</td>\n",
              "      <td>0</td>\n",
              "      <td>0</td>\n",
              "      <td>0</td>\n",
              "      <td>1</td>\n",
              "      <td>0</td>\n",
              "      <td>0</td>\n",
              "      <td>0</td>\n",
              "      <td>0</td>\n",
              "      <td>0</td>\n",
              "      <td>0</td>\n",
              "      <td>0</td>\n",
              "      <td>0</td>\n",
              "      <td>0</td>\n",
              "      <td>1</td>\n",
              "      <td>0</td>\n",
              "      <td>0</td>\n",
              "      <td>0</td>\n",
              "      <td>0</td>\n",
              "      <td>0</td>\n",
              "      <td>0</td>\n",
              "      <td>0</td>\n",
              "      <td>0</td>\n",
              "    </tr>\n",
              "  </tbody>\n",
              "</table>\n",
              "<p>5 rows × 209 columns</p>\n",
              "</div>"
            ],
            "text/plain": [
              "   hotel_Resort Hotel_1  ...  reservation_status_No-Show_1\n",
              "0                     1  ...                             0\n",
              "4                     1  ...                             0\n",
              "6                     1  ...                             0\n",
              "7                     1  ...                             0\n",
              "8                     1  ...                             0\n",
              "\n",
              "[5 rows x 209 columns]"
            ]
          },
          "metadata": {
            "tags": []
          },
          "execution_count": 154
        }
      ]
    },
    {
      "cell_type": "code",
      "metadata": {
        "id": "p5TTrptBezJL"
      },
      "source": [
        "#Defining our dependent and Independent Variables\r\n",
        "\r\n",
        "Y = df_clean[['is_canceled']] # target variable\r\n",
        "X = df_clean2 # feature variables\r\n"
      ],
      "execution_count": null,
      "outputs": []
    },
    {
      "cell_type": "code",
      "metadata": {
        "id": "6rIe-E2idkc5"
      },
      "source": [
        "#data normalization\r\n",
        "from sklearn import preprocessing\r\n",
        "#\r\n",
        "min_max_scaler = preprocessing.MinMaxScaler()\r\n",
        "X_scale = min_max_scaler.fit_transform(X)"
      ],
      "execution_count": null,
      "outputs": []
    },
    {
      "cell_type": "markdown",
      "metadata": {
        "id": "ZaXKzzegGjzO"
      },
      "source": [
        "Normalizing our data is very important, as we want the input features to be on the same order of magnitude to make our training easier. We'll use a min-max scaler from scikit-learn which scales our data to be between 0 and 1"
      ]
    },
    {
      "cell_type": "code",
      "metadata": {
        "colab": {
          "base_uri": "https://localhost:8080/"
        },
        "id": "YBFEn-fXdtmz",
        "outputId": "2d9df950-bbab-4366-b203-4aaa88b6ef3c"
      },
      "source": [
        "#checking the scaled values\r\n",
        "#\r\n",
        "X_scale"
      ],
      "execution_count": null,
      "outputs": [
        {
          "output_type": "execute_result",
          "data": {
            "text/plain": [
              "array([[1., 0., 0., ..., 0., 1., 0.],\n",
              "       [1., 0., 0., ..., 0., 1., 0.],\n",
              "       [1., 0., 0., ..., 0., 1., 0.],\n",
              "       ...,\n",
              "       [0., 0., 0., ..., 0., 1., 0.],\n",
              "       [0., 0., 0., ..., 0., 1., 0.],\n",
              "       [0., 0., 0., ..., 0., 1., 0.]])"
            ]
          },
          "metadata": {
            "tags": []
          },
          "execution_count": 157
        }
      ]
    },
    {
      "cell_type": "markdown",
      "metadata": {
        "id": "hjpECCkXd-D1"
      },
      "source": [
        "we set aside some parts of our dataset for a validation set and a test set. We use the function train_test_split from scikit-learn to do that."
      ]
    },
    {
      "cell_type": "code",
      "metadata": {
        "id": "Ipj9MjFUeAmM"
      },
      "source": [
        "#importing the library to be used in splitting dataset\r\n",
        "#\r\n",
        "from sklearn.model_selection import train_test_split"
      ],
      "execution_count": null,
      "outputs": []
    },
    {
      "cell_type": "code",
      "metadata": {
        "id": "onnTOOHwHPOv"
      },
      "source": [
        "#splitting dataset into train set ata 70%\r\n",
        "#\r\n",
        "X_train, X_val_and_test, Y_train, Y_val_and_test = train_test_split(X_scale, Y, test_size=0.3)"
      ],
      "execution_count": null,
      "outputs": []
    },
    {
      "cell_type": "code",
      "metadata": {
        "id": "2icdit2XePAm"
      },
      "source": [
        "#set aside some parts of our dataset for a validation set and a test set.\r\n",
        "#\r\n",
        "X_val, X_test, Y_val, Y_test = train_test_split(X_val_and_test, Y_val_and_test, test_size=0.5)"
      ],
      "execution_count": null,
      "outputs": []
    },
    {
      "cell_type": "code",
      "metadata": {
        "colab": {
          "base_uri": "https://localhost:8080/"
        },
        "id": "dFNR_H9peXNw",
        "outputId": "560bbca8-8412-48e1-9993-7005cedb1714"
      },
      "source": [
        "print(X_train.shape, X_val.shape, X_test.shape, Y_train.shape, Y_val.shape, Y_test.shape)"
      ],
      "execution_count": null,
      "outputs": [
        {
          "output_type": "stream",
          "text": [
            "(30773, 209) (6594, 209) (6595, 209) (30773, 1) (6594, 1) (6595, 1)\n"
          ],
          "name": "stdout"
        }
      ]
    },
    {
      "cell_type": "markdown",
      "metadata": {
        "id": "O8TR2bY5ekpM"
      },
      "source": [
        "### building and training our neural network"
      ]
    },
    {
      "cell_type": "markdown",
      "metadata": {
        "id": "hfDFV9-Tey0R"
      },
      "source": [
        "We will be using Keras to build our architecture."
      ]
    },
    {
      "cell_type": "code",
      "metadata": {
        "colab": {
          "base_uri": "https://localhost:8080/"
        },
        "id": "bnWzzQb2e0TH",
        "outputId": "f7660db7-02b2-4b05-8dc3-072160dc12fb"
      },
      "source": [
        "#installing tensorflow\r\n",
        "#\r\n",
        "!pip install tensorflow"
      ],
      "execution_count": null,
      "outputs": [
        {
          "output_type": "stream",
          "text": [
            "Requirement already satisfied: tensorflow in /usr/local/lib/python3.6/dist-packages (2.3.0)\n",
            "Requirement already satisfied: wheel>=0.26 in /usr/local/lib/python3.6/dist-packages (from tensorflow) (0.36.1)\n",
            "Requirement already satisfied: protobuf>=3.9.2 in /usr/local/lib/python3.6/dist-packages (from tensorflow) (3.12.4)\n",
            "Requirement already satisfied: termcolor>=1.1.0 in /usr/local/lib/python3.6/dist-packages (from tensorflow) (1.1.0)\n",
            "Requirement already satisfied: astunparse==1.6.3 in /usr/local/lib/python3.6/dist-packages (from tensorflow) (1.6.3)\n",
            "Requirement already satisfied: wrapt>=1.11.1 in /usr/local/lib/python3.6/dist-packages (from tensorflow) (1.12.1)\n",
            "Requirement already satisfied: h5py<2.11.0,>=2.10.0 in /usr/local/lib/python3.6/dist-packages (from tensorflow) (2.10.0)\n",
            "Requirement already satisfied: keras-preprocessing<1.2,>=1.1.1 in /usr/local/lib/python3.6/dist-packages (from tensorflow) (1.1.2)\n",
            "Requirement already satisfied: tensorboard<3,>=2.3.0 in /usr/local/lib/python3.6/dist-packages (from tensorflow) (2.3.0)\n",
            "Requirement already satisfied: grpcio>=1.8.6 in /usr/local/lib/python3.6/dist-packages (from tensorflow) (1.34.0)\n",
            "Requirement already satisfied: scipy==1.4.1 in /usr/local/lib/python3.6/dist-packages (from tensorflow) (1.4.1)\n",
            "Requirement already satisfied: google-pasta>=0.1.8 in /usr/local/lib/python3.6/dist-packages (from tensorflow) (0.2.0)\n",
            "Requirement already satisfied: numpy<1.19.0,>=1.16.0 in /usr/local/lib/python3.6/dist-packages (from tensorflow) (1.18.5)\n",
            "Requirement already satisfied: gast==0.3.3 in /usr/local/lib/python3.6/dist-packages (from tensorflow) (0.3.3)\n",
            "Requirement already satisfied: opt-einsum>=2.3.2 in /usr/local/lib/python3.6/dist-packages (from tensorflow) (3.3.0)\n",
            "Requirement already satisfied: six>=1.12.0 in /usr/local/lib/python3.6/dist-packages (from tensorflow) (1.15.0)\n",
            "Requirement already satisfied: absl-py>=0.7.0 in /usr/local/lib/python3.6/dist-packages (from tensorflow) (0.10.0)\n",
            "Requirement already satisfied: tensorflow-estimator<2.4.0,>=2.3.0 in /usr/local/lib/python3.6/dist-packages (from tensorflow) (2.3.0)\n",
            "Requirement already satisfied: setuptools in /usr/local/lib/python3.6/dist-packages (from protobuf>=3.9.2->tensorflow) (50.3.2)\n",
            "Requirement already satisfied: markdown>=2.6.8 in /usr/local/lib/python3.6/dist-packages (from tensorboard<3,>=2.3.0->tensorflow) (3.3.3)\n",
            "Requirement already satisfied: requests<3,>=2.21.0 in /usr/local/lib/python3.6/dist-packages (from tensorboard<3,>=2.3.0->tensorflow) (2.23.0)\n",
            "Requirement already satisfied: werkzeug>=0.11.15 in /usr/local/lib/python3.6/dist-packages (from tensorboard<3,>=2.3.0->tensorflow) (1.0.1)\n",
            "Requirement already satisfied: tensorboard-plugin-wit>=1.6.0 in /usr/local/lib/python3.6/dist-packages (from tensorboard<3,>=2.3.0->tensorflow) (1.7.0)\n",
            "Requirement already satisfied: google-auth<2,>=1.6.3 in /usr/local/lib/python3.6/dist-packages (from tensorboard<3,>=2.3.0->tensorflow) (1.17.2)\n",
            "Requirement already satisfied: google-auth-oauthlib<0.5,>=0.4.1 in /usr/local/lib/python3.6/dist-packages (from tensorboard<3,>=2.3.0->tensorflow) (0.4.2)\n",
            "Requirement already satisfied: importlib-metadata; python_version < \"3.8\" in /usr/local/lib/python3.6/dist-packages (from markdown>=2.6.8->tensorboard<3,>=2.3.0->tensorflow) (3.1.1)\n",
            "Requirement already satisfied: chardet<4,>=3.0.2 in /usr/local/lib/python3.6/dist-packages (from requests<3,>=2.21.0->tensorboard<3,>=2.3.0->tensorflow) (3.0.4)\n",
            "Requirement already satisfied: certifi>=2017.4.17 in /usr/local/lib/python3.6/dist-packages (from requests<3,>=2.21.0->tensorboard<3,>=2.3.0->tensorflow) (2020.12.5)\n",
            "Requirement already satisfied: urllib3!=1.25.0,!=1.25.1,<1.26,>=1.21.1 in /usr/local/lib/python3.6/dist-packages (from requests<3,>=2.21.0->tensorboard<3,>=2.3.0->tensorflow) (1.24.3)\n",
            "Requirement already satisfied: idna<3,>=2.5 in /usr/local/lib/python3.6/dist-packages (from requests<3,>=2.21.0->tensorboard<3,>=2.3.0->tensorflow) (2.10)\n",
            "Requirement already satisfied: pyasn1-modules>=0.2.1 in /usr/local/lib/python3.6/dist-packages (from google-auth<2,>=1.6.3->tensorboard<3,>=2.3.0->tensorflow) (0.2.8)\n",
            "Requirement already satisfied: cachetools<5.0,>=2.0.0 in /usr/local/lib/python3.6/dist-packages (from google-auth<2,>=1.6.3->tensorboard<3,>=2.3.0->tensorflow) (4.1.1)\n",
            "Requirement already satisfied: rsa<5,>=3.1.4; python_version >= \"3\" in /usr/local/lib/python3.6/dist-packages (from google-auth<2,>=1.6.3->tensorboard<3,>=2.3.0->tensorflow) (4.6)\n",
            "Requirement already satisfied: requests-oauthlib>=0.7.0 in /usr/local/lib/python3.6/dist-packages (from google-auth-oauthlib<0.5,>=0.4.1->tensorboard<3,>=2.3.0->tensorflow) (1.3.0)\n",
            "Requirement already satisfied: zipp>=0.5 in /usr/local/lib/python3.6/dist-packages (from importlib-metadata; python_version < \"3.8\"->markdown>=2.6.8->tensorboard<3,>=2.3.0->tensorflow) (3.4.0)\n",
            "Requirement already satisfied: pyasn1<0.5.0,>=0.4.6 in /usr/local/lib/python3.6/dist-packages (from pyasn1-modules>=0.2.1->google-auth<2,>=1.6.3->tensorboard<3,>=2.3.0->tensorflow) (0.4.8)\n",
            "Requirement already satisfied: oauthlib>=3.0.0 in /usr/local/lib/python3.6/dist-packages (from requests-oauthlib>=0.7.0->google-auth-oauthlib<0.5,>=0.4.1->tensorboard<3,>=2.3.0->tensorflow) (3.1.0)\n"
          ],
          "name": "stdout"
        }
      ]
    },
    {
      "cell_type": "code",
      "metadata": {
        "id": "EP-7tpz0fIll"
      },
      "source": [
        "#import the code from Keras that we will need to use\r\n",
        "#\r\n",
        "import tensorflow as tf\r\n",
        "from tensorflow import keras\r\n",
        "from tensorflow.keras import layers"
      ],
      "execution_count": null,
      "outputs": []
    },
    {
      "cell_type": "markdown",
      "metadata": {
        "id": "nO21V6-KfQ3x"
      },
      "source": [
        "We will be using the Sequential model, which means that we merely need to describe the layers above in sequence. we will use  neural network of three layers:\r\n",
        "\r\n",
        "- Hidden layer 1: 100 neurons, ReLU activation\r\n",
        "- Hidden layer 2: 100 neurons, ReLU activation\r\n",
        "- Hidden layer 3: 100 neurons, ReLU activation\r\n",
        "- Output Layer: 1 neuron, Sigmoid activation"
      ]
    },
    {
      "cell_type": "code",
      "metadata": {
        "id": "2T93AVpL1BxT"
      },
      "source": [
        "#we use squential model with allows to build a model layer by layer.\r\n",
        "#\r\n",
        "model = tf.keras.Sequential([\r\n",
        "    layers.Dense(100, activation='relu', input_shape=(209,)),\r\n",
        "    layers.Dense(100, activation='relu'),\r\n",
        "    layers.Dense(100, activation='relu'),\r\n",
        "    layers.Dense(1, activation='sigmoid'),\r\n",
        "])"
      ],
      "execution_count": null,
      "outputs": []
    },
    {
      "cell_type": "markdown",
      "metadata": {
        "id": "LJPw3tar1Zh-"
      },
      "source": [
        "Before we start our training, we have to configure the model by\r\n",
        "- the algorithm to use to do the optimization (we'll use stochastic gradient descent)\r\n",
        "- The loss function to use (for binary classification, we will use binary cross entropy)\r\n",
        "- The other metrics to track apart from the loss function (we want to track accuracy as well)"
      ]
    },
    {
      "cell_type": "code",
      "metadata": {
        "id": "75RARUHw1K-k"
      },
      "source": [
        "#configuring the model; this helps to find the best numbers for it\r\n",
        "model.compile(optimizer='sgd',\r\n",
        "              loss='binary_crossentropy',\r\n",
        "              metrics=['accuracy'])"
      ],
      "execution_count": null,
      "outputs": []
    },
    {
      "cell_type": "markdown",
      "metadata": {
        "id": "sZ4RCvxB2wGB"
      },
      "source": [
        "Training the model.\r\n",
        "\r\n",
        "* Fitting the parameters to the data. \r\n",
        "- Our X_train and Y_train\r\n",
        "- the size of our mini-batch \r\n",
        "- how long we want to train it for (epochs)\r\n",
        "- what our validation data is so that the model will tell us how we are doing on the validation data at each point.\r\n",
        "\r\n",
        " output will give  a history, which we save under the variable hist. We'll use this variable a little later."
      ]
    },
    {
      "cell_type": "code",
      "metadata": {
        "colab": {
          "base_uri": "https://localhost:8080/"
        },
        "id": "V81hmTxa31td",
        "outputId": "927d2ff2-c689-463f-cb71-94bd5a23fc26"
      },
      "source": [
        "#fitting the model and saving the variable in hist.\r\n",
        "#\r\n",
        "hist = model.fit(X_train, Y_train,\r\n",
        "          batch_size=40, epochs=10,\r\n",
        "          validation_data=(X_val, Y_val))"
      ],
      "execution_count": null,
      "outputs": [
        {
          "output_type": "stream",
          "text": [
            "Epoch 1/10\n",
            "770/770 [==============================] - 1s 2ms/step - loss: 0.3635 - accuracy: 0.8180 - val_loss: 0.0712 - val_accuracy: 1.0000\n",
            "Epoch 2/10\n",
            "770/770 [==============================] - 1s 2ms/step - loss: 0.0253 - accuracy: 1.0000 - val_loss: 0.0088 - val_accuracy: 1.0000\n",
            "Epoch 3/10\n",
            "770/770 [==============================] - 1s 2ms/step - loss: 0.0056 - accuracy: 1.0000 - val_loss: 0.0036 - val_accuracy: 1.0000\n",
            "Epoch 4/10\n",
            "770/770 [==============================] - 1s 2ms/step - loss: 0.0028 - accuracy: 1.0000 - val_loss: 0.0021 - val_accuracy: 1.0000\n",
            "Epoch 5/10\n",
            "770/770 [==============================] - 1s 2ms/step - loss: 0.0017 - accuracy: 1.0000 - val_loss: 0.0014 - val_accuracy: 1.0000\n",
            "Epoch 6/10\n",
            "770/770 [==============================] - 1s 2ms/step - loss: 0.0012 - accuracy: 1.0000 - val_loss: 0.0011 - val_accuracy: 1.0000\n",
            "Epoch 7/10\n",
            "770/770 [==============================] - 1s 2ms/step - loss: 9.4717e-04 - accuracy: 1.0000 - val_loss: 8.3891e-04 - val_accuracy: 1.0000\n",
            "Epoch 8/10\n",
            "770/770 [==============================] - 1s 2ms/step - loss: 7.5877e-04 - accuracy: 1.0000 - val_loss: 6.8486e-04 - val_accuracy: 1.0000\n",
            "Epoch 9/10\n",
            "770/770 [==============================] - 1s 2ms/step - loss: 6.2825e-04 - accuracy: 1.0000 - val_loss: 5.7509e-04 - val_accuracy: 1.0000\n",
            "Epoch 10/10\n",
            "770/770 [==============================] - 1s 2ms/step - loss: 5.3321e-04 - accuracy: 1.0000 - val_loss: 4.9329e-04 - val_accuracy: 1.0000\n"
          ],
          "name": "stdout"
        }
      ]
    },
    {
      "cell_type": "markdown",
      "metadata": {
        "id": "pLDLz0CM-PXk"
      },
      "source": [
        "Evaluating our data on the test set"
      ]
    },
    {
      "cell_type": "code",
      "metadata": {
        "colab": {
          "base_uri": "https://localhost:8080/"
        },
        "id": "8rSca86T-NCl",
        "outputId": "8a5c2093-ab9e-428a-a1c4-a85e99c6934a"
      },
      "source": [
        "#evaluatin the dataset\r\n",
        "#\r\n",
        "model.evaluate(X_test, Y_test)[1]"
      ],
      "execution_count": null,
      "outputs": [
        {
          "output_type": "stream",
          "text": [
            "207/207 [==============================] - 0s 1ms/step - loss: 5.1205e-04 - accuracy: 1.0000\n"
          ],
          "name": "stdout"
        },
        {
          "output_type": "execute_result",
          "data": {
            "text/plain": [
              "1.0"
            ]
          },
          "metadata": {
            "tags": []
          },
          "execution_count": 167
        }
      ]
    },
    {
      "cell_type": "code",
      "metadata": {
        "id": "yNk5fAKxEmth"
      },
      "source": [
        "#import visualization library\r\n",
        "import matplotlib.pyplot as plt"
      ],
      "execution_count": null,
      "outputs": []
    },
    {
      "cell_type": "code",
      "metadata": {
        "colab": {
          "base_uri": "https://localhost:8080/"
        },
        "id": "SQQKdi1sFDPZ",
        "outputId": "a27061e8-f902-44e4-b5b0-8e9cc77ad1d8"
      },
      "source": [
        "#visualize the training loss and the validation loss\r\n",
        "#\r\n",
        "hist.history.keys()"
      ],
      "execution_count": null,
      "outputs": [
        {
          "output_type": "execute_result",
          "data": {
            "text/plain": [
              "dict_keys(['loss', 'accuracy', 'val_loss', 'val_accuracy'])"
            ]
          },
          "metadata": {
            "tags": []
          },
          "execution_count": 169
        }
      ]
    },
    {
      "cell_type": "code",
      "metadata": {
        "colab": {
          "base_uri": "https://localhost:8080/",
          "height": 295
        },
        "id": "eqN8Qwo3FKpa",
        "outputId": "3ccbcf1f-3cd3-4dab-9846-32655722a83b"
      },
      "source": [
        "plt.plot(hist.history['loss'])\r\n",
        "plt.plot(hist.history['val_loss'])\r\n",
        "plt.title('Model loss')\r\n",
        "plt.ylabel('Loss')\r\n",
        "plt.xlabel('Epoch')\r\n",
        "plt.legend(['Train', 'Val'], loc='upper right')\r\n",
        "plt.show()"
      ],
      "execution_count": null,
      "outputs": [
        {
          "output_type": "display_data",
          "data": {
            "image/png": "[encoded data removed]",
            "text/plain": [
              "<Figure size 432x288 with 1 Axes>"
            ]
          },
          "metadata": {
            "tags": [],
            "needs_background": "light"
          }
        }
      ]
    },
    {
      "cell_type": "markdown",
      "metadata": {
        "id": "UfbhpTARLyTB"
      },
      "source": [
        "**observation**: loss reduces upto a certain point in both data."
      ]
    },
    {
      "cell_type": "code",
      "metadata": {
        "colab": {
          "base_uri": "https://localhost:8080/",
          "height": 295
        },
        "id": "02xqmm0XFd2M",
        "outputId": "7cddc0e1-dbe3-4148-becd-03e077294b8c"
      },
      "source": [
        "#visualize the training accuracy and the validation accuracy\r\n",
        "#\r\n",
        "plt.plot(hist.history['accuracy'])\r\n",
        "plt.plot(hist.history['val_accuracy'])\r\n",
        "plt.title('Model accuracy')\r\n",
        "plt.ylabel('Accuracy')\r\n",
        "plt.xlabel('Epoch')\r\n",
        "plt.legend(['Train', 'Val'], loc='lower right')\r\n",
        "plt.show()"
      ],
      "execution_count": null,
      "outputs": [
        {
          "output_type": "display_data",
          "data": {
            "image/png": "[encoded data removed]",
            "text/plain": [
              "<Figure size 432x288 with 1 Axes>"
            ]
          },
          "metadata": {
            "tags": [],
            "needs_background": "light"
          }
        }
      ]
    },
    {
      "cell_type": "markdown",
      "metadata": {
        "id": "Hj66VfVWMUBj"
      },
      "source": [
        "**observation:** accuracy increases sharply. this is due to overfitting."
      ]
    },
    {
      "cell_type": "markdown",
      "metadata": {
        "id": "fA2_GxQH-Cbd"
      },
      "source": [
        "**hyperparameters tuning**"
      ]
    },
    {
      "cell_type": "code",
      "metadata": {
        "id": "zpMamA9vnjdS"
      },
      "source": [
        "#importing the relevant libraries\r\n",
        "#\r\n",
        "from sklearn.model_selection import GridSearchCV\r\n",
        "from keras.models import Sequential\r\n",
        "from keras.layers import Dense\r\n",
        "from keras.wrappers.scikit_learn import KerasClassifier\r\n",
        "import numpy"
      ],
      "execution_count": null,
      "outputs": []
    },
    {
      "cell_type": "code",
      "metadata": {
        "id": "j7THn-jgnlXt"
      },
      "source": [
        "# getting the best batch size and epoch for the model\r\n",
        "#\r\n",
        "def create_model():\r\n",
        "\t# create model\r\n",
        "\tmodel = Sequential()\r\n",
        "\tmodel.add(Dense(12, input_dim=209, activation='relu'))\r\n",
        "\tmodel.add(Dense(1, activation='sigmoid'))\r\n",
        "\t# Compile model\r\n",
        "\tmodel.compile(loss='binary_crossentropy', optimizer='adam', metrics=['accuracy'])\r\n",
        "\treturn model\r\n",
        " fix random seed for reproducibility\r\n",
        "seed = 7\r\n",
        "numpy.random.seed(seed)\r\n",
        "model = KerasClassifier(build_fn=create_model, verbose=0)\r\n",
        "# define the grid search parameters\r\n",
        "batch_size = [10, 20, 40, 60, 80, 100]\r\n",
        "epochs = [10, 50, 100]\r\n",
        "param_grid = dict(batch_size=batch_size, epochs=epochs)\r\n",
        "grid = GridSearchCV(estimator=model, param_grid=param_grid, n_jobs=-1, cv=3)\r\n",
        "grid_result = grid.fit(X, Y)"
      ],
      "execution_count": null,
      "outputs": []
    },
    {
      "cell_type": "code",
      "metadata": {
        "colab": {
          "base_uri": "https://localhost:8080/"
        },
        "id": "z8DxVrpX6NGq",
        "outputId": "845114c9-733d-42d2-e5c4-968debc3b952"
      },
      "source": [
        "# summarize results\r\n",
        "print(\"Best: %f using %s\" % (grid_result.best_score_, grid_result.best_params_))\r\n",
        "means = grid_result.cv_results_['mean_test_score']\r\n",
        "stds = grid_result.cv_results_['std_test_score']\r\n",
        "params = grid_result.cv_results_['params']\r\n",
        "for mean, stdev, param in zip(means, stds, params):\r\n",
        "    print(\"%f (%f) with: %r\" % (mean, stdev, param))"
      ],
      "execution_count": null,
      "outputs": [
        {
          "output_type": "stream",
          "text": [
            "Best: 1.000000 using {'batch_size': 10, 'epochs': 100}\n",
            "0.999932 (0.000097) with: {'batch_size': 10, 'epochs': 10}\n",
            "0.999886 (0.000161) with: {'batch_size': 10, 'epochs': 50}\n",
            "1.000000 (0.000000) with: {'batch_size': 10, 'epochs': 100}\n",
            "0.997589 (0.003410) with: {'batch_size': 20, 'epochs': 10}\n",
            "1.000000 (0.000000) with: {'batch_size': 20, 'epochs': 50}\n",
            "0.999795 (0.000290) with: {'batch_size': 20, 'epochs': 100}\n",
            "0.985442 (0.020588) with: {'batch_size': 40, 'epochs': 10}\n",
            "0.999682 (0.000450) with: {'batch_size': 40, 'epochs': 50}\n",
            "0.999704 (0.000418) with: {'batch_size': 40, 'epochs': 100}\n",
            "0.938015 (0.087661) with: {'batch_size': 60, 'epochs': 10}\n",
            "0.985328 (0.020749) with: {'batch_size': 60, 'epochs': 50}\n",
            "0.999955 (0.000064) with: {'batch_size': 60, 'epochs': 100}\n",
            "0.936741 (0.089462) with: {'batch_size': 80, 'epochs': 10}\n",
            "0.998271 (0.002445) with: {'batch_size': 80, 'epochs': 50}\n",
            "0.997020 (0.004214) with: {'batch_size': 80, 'epochs': 100}\n",
            "0.936377 (0.089736) with: {'batch_size': 100, 'epochs': 10}\n",
            "0.981370 (0.026346) with: {'batch_size': 100, 'epochs': 50}\n",
            "0.998521 (0.002091) with: {'batch_size': 100, 'epochs': 100}\n"
          ],
          "name": "stdout"
        }
      ]
    },
    {
      "cell_type": "markdown",
      "metadata": {
        "id": "-QgzN_4s-Wa4"
      },
      "source": [
        "**building model 2 with the optimal parameters**"
      ]
    },
    {
      "cell_type": "code",
      "metadata": {
        "id": "8QR2lHfCR76Z"
      },
      "source": [
        "#adding regularization to our model\r\n",
        "#\r\n",
        "model_2 = tf.keras.Sequential([\r\n",
        "    layers.Dense(20, activation='relu', kernel_regularizer=keras.regularizers.l2(0.1), input_shape=(209,)),\r\n",
        "    layers.Dense(20, activation='relu', kernel_regularizer=keras.regularizers.l2(0.1)),\r\n",
        "    layers.Dense(20, activation='relu', kernel_regularizer=keras.regularizers.l2(0.1)),\r\n",
        "    layers.Dense(1, activation='sigmoid', kernel_regularizer=keras.regularizers.l2(0.1)),\r\n",
        "])"
      ],
      "execution_count": null,
      "outputs": []
    },
    {
      "cell_type": "code",
      "metadata": {
        "colab": {
          "base_uri": "https://localhost:8080/"
        },
        "id": "vsUt7qxtSPiH",
        "outputId": "af75d855-d2a3-4891-dcd8-8bc98f354c62"
      },
      "source": [
        "model_2.compile(optimizer='adam',\r\n",
        "              loss='binary_crossentropy',\r\n",
        "              metrics=['accuracy'])\r\n",
        "hist_2 = model_2.fit(X_train, Y_train,\r\n",
        "          batch_size=20, epochs=50,\r\n",
        "          validation_data=(X_val, Y_val))"
      ],
      "execution_count": null,
      "outputs": [
        {
          "output_type": "stream",
          "text": [
            "Epoch 1/50\n",
            "1539/1539 [==============================] - 2s 1ms/step - loss: 1.0695 - accuracy: 0.6946 - val_loss: 0.6163 - val_accuracy: 0.6968\n",
            "Epoch 2/50\n",
            "1539/1539 [==============================] - 2s 1ms/step - loss: 0.6168 - accuracy: 0.6946 - val_loss: 0.6141 - val_accuracy: 0.6968\n",
            "Epoch 3/50\n",
            "1539/1539 [==============================] - 2s 1ms/step - loss: 0.6156 - accuracy: 0.6946 - val_loss: 0.6137 - val_accuracy: 0.6968\n",
            "Epoch 4/50\n",
            "1539/1539 [==============================] - 2s 1ms/step - loss: 0.6156 - accuracy: 0.6946 - val_loss: 0.6136 - val_accuracy: 0.6968\n",
            "Epoch 5/50\n",
            "1539/1539 [==============================] - 2s 1ms/step - loss: 0.6155 - accuracy: 0.6946 - val_loss: 0.6137 - val_accuracy: 0.6968\n",
            "Epoch 6/50\n",
            "1539/1539 [==============================] - 2s 1ms/step - loss: 0.6155 - accuracy: 0.6946 - val_loss: 0.6135 - val_accuracy: 0.6968\n",
            "Epoch 7/50\n",
            "1539/1539 [==============================] - 2s 1ms/step - loss: 0.6155 - accuracy: 0.6946 - val_loss: 0.6136 - val_accuracy: 0.6968\n",
            "Epoch 8/50\n",
            "1539/1539 [==============================] - 2s 1ms/step - loss: 0.6154 - accuracy: 0.6946 - val_loss: 0.6141 - val_accuracy: 0.6968\n",
            "Epoch 9/50\n",
            "1539/1539 [==============================] - 2s 1ms/step - loss: 0.6154 - accuracy: 0.6946 - val_loss: 0.6136 - val_accuracy: 0.6968\n",
            "Epoch 10/50\n",
            "1539/1539 [==============================] - 2s 1ms/step - loss: 0.6154 - accuracy: 0.6946 - val_loss: 0.6135 - val_accuracy: 0.6968\n",
            "Epoch 11/50\n",
            "1539/1539 [==============================] - 2s 1ms/step - loss: 0.6154 - accuracy: 0.6946 - val_loss: 0.6136 - val_accuracy: 0.6968\n",
            "Epoch 12/50\n",
            "1539/1539 [==============================] - 2s 1ms/step - loss: 0.6154 - accuracy: 0.6946 - val_loss: 0.6136 - val_accuracy: 0.6968\n",
            "Epoch 13/50\n",
            "1539/1539 [==============================] - 2s 1ms/step - loss: 0.6154 - accuracy: 0.6946 - val_loss: 0.6136 - val_accuracy: 0.6968\n",
            "Epoch 14/50\n",
            "1539/1539 [==============================] - 2s 1ms/step - loss: 0.6154 - accuracy: 0.6946 - val_loss: 0.6136 - val_accuracy: 0.6968\n",
            "Epoch 15/50\n",
            "1539/1539 [==============================] - 2s 1ms/step - loss: 0.6154 - accuracy: 0.6946 - val_loss: 0.6135 - val_accuracy: 0.6968\n",
            "Epoch 16/50\n",
            "1539/1539 [==============================] - 2s 1ms/step - loss: 0.6154 - accuracy: 0.6946 - val_loss: 0.6135 - val_accuracy: 0.6968\n",
            "Epoch 17/50\n",
            "1539/1539 [==============================] - 2s 1ms/step - loss: 0.6154 - accuracy: 0.6946 - val_loss: 0.6135 - val_accuracy: 0.6968\n",
            "Epoch 18/50\n",
            "1539/1539 [==============================] - 2s 1ms/step - loss: 0.6154 - accuracy: 0.6946 - val_loss: 0.6135 - val_accuracy: 0.6968\n",
            "Epoch 19/50\n",
            "1539/1539 [==============================] - 2s 1ms/step - loss: 0.6154 - accuracy: 0.6946 - val_loss: 0.6136 - val_accuracy: 0.6968\n",
            "Epoch 20/50\n",
            "1539/1539 [==============================] - 2s 1ms/step - loss: 0.6154 - accuracy: 0.6946 - val_loss: 0.6135 - val_accuracy: 0.6968\n",
            "Epoch 21/50\n",
            "1539/1539 [==============================] - 2s 1ms/step - loss: 0.6154 - accuracy: 0.6946 - val_loss: 0.6135 - val_accuracy: 0.6968\n",
            "Epoch 22/50\n",
            "1539/1539 [==============================] - 2s 1ms/step - loss: 0.6154 - accuracy: 0.6946 - val_loss: 0.6135 - val_accuracy: 0.6968\n",
            "Epoch 23/50\n",
            "1539/1539 [==============================] - 2s 1ms/step - loss: 0.6154 - accuracy: 0.6946 - val_loss: 0.6135 - val_accuracy: 0.6968\n",
            "Epoch 24/50\n",
            "1539/1539 [==============================] - 2s 1ms/step - loss: 0.6154 - accuracy: 0.6946 - val_loss: 0.6135 - val_accuracy: 0.6968\n",
            "Epoch 25/50\n",
            "1539/1539 [==============================] - 2s 1ms/step - loss: 0.6154 - accuracy: 0.6946 - val_loss: 0.6135 - val_accuracy: 0.6968\n",
            "Epoch 26/50\n",
            "1539/1539 [==============================] - 2s 1ms/step - loss: 0.6154 - accuracy: 0.6946 - val_loss: 0.6135 - val_accuracy: 0.6968\n",
            "Epoch 27/50\n",
            "1539/1539 [==============================] - 2s 1ms/step - loss: 0.6154 - accuracy: 0.6946 - val_loss: 0.6135 - val_accuracy: 0.6968\n",
            "Epoch 28/50\n",
            "1539/1539 [==============================] - 2s 1ms/step - loss: 0.6154 - accuracy: 0.6946 - val_loss: 0.6135 - val_accuracy: 0.6968\n",
            "Epoch 29/50\n",
            "1539/1539 [==============================] - 2s 1ms/step - loss: 0.6154 - accuracy: 0.6946 - val_loss: 0.6135 - val_accuracy: 0.6968\n",
            "Epoch 30/50\n",
            "1539/1539 [==============================] - 2s 1ms/step - loss: 0.6154 - accuracy: 0.6946 - val_loss: 0.6136 - val_accuracy: 0.6968\n",
            "Epoch 31/50\n",
            "1539/1539 [==============================] - 2s 1ms/step - loss: 0.6154 - accuracy: 0.6946 - val_loss: 0.6135 - val_accuracy: 0.6968\n",
            "Epoch 32/50\n",
            "1539/1539 [==============================] - 2s 1ms/step - loss: 0.6154 - accuracy: 0.6946 - val_loss: 0.6135 - val_accuracy: 0.6968\n",
            "Epoch 33/50\n",
            "1539/1539 [==============================] - 2s 1ms/step - loss: 0.6154 - accuracy: 0.6946 - val_loss: 0.6135 - val_accuracy: 0.6968\n",
            "Epoch 34/50\n",
            "1539/1539 [==============================] - 2s 1ms/step - loss: 0.6154 - accuracy: 0.6946 - val_loss: 0.6136 - val_accuracy: 0.6968\n",
            "Epoch 35/50\n",
            "1539/1539 [==============================] - 2s 1ms/step - loss: 0.6154 - accuracy: 0.6946 - val_loss: 0.6135 - val_accuracy: 0.6968\n",
            "Epoch 36/50\n",
            "1539/1539 [==============================] - 2s 1ms/step - loss: 0.6154 - accuracy: 0.6946 - val_loss: 0.6135 - val_accuracy: 0.6968\n",
            "Epoch 37/50\n",
            "1539/1539 [==============================] - 2s 1ms/step - loss: 0.6154 - accuracy: 0.6946 - val_loss: 0.6136 - val_accuracy: 0.6968\n",
            "Epoch 38/50\n",
            "1539/1539 [==============================] - 2s 1ms/step - loss: 0.6154 - accuracy: 0.6946 - val_loss: 0.6135 - val_accuracy: 0.6968\n",
            "Epoch 39/50\n",
            "1539/1539 [==============================] - 2s 1ms/step - loss: 0.6154 - accuracy: 0.6946 - val_loss: 0.6135 - val_accuracy: 0.6968\n",
            "Epoch 40/50\n",
            "1539/1539 [==============================] - 3s 2ms/step - loss: 0.6154 - accuracy: 0.6946 - val_loss: 0.6135 - val_accuracy: 0.6968\n",
            "Epoch 41/50\n",
            "1539/1539 [==============================] - 3s 2ms/step - loss: 0.6154 - accuracy: 0.6946 - val_loss: 0.6135 - val_accuracy: 0.6968\n",
            "Epoch 42/50\n",
            "1539/1539 [==============================] - 2s 2ms/step - loss: 0.6154 - accuracy: 0.6946 - val_loss: 0.6136 - val_accuracy: 0.6968\n",
            "Epoch 43/50\n",
            "1539/1539 [==============================] - 2s 1ms/step - loss: 0.6154 - accuracy: 0.6946 - val_loss: 0.6136 - val_accuracy: 0.6968\n",
            "Epoch 44/50\n",
            "1539/1539 [==============================] - 2s 1ms/step - loss: 0.6154 - accuracy: 0.6946 - val_loss: 0.6135 - val_accuracy: 0.6968\n",
            "Epoch 45/50\n",
            "1539/1539 [==============================] - 2s 1ms/step - loss: 0.6154 - accuracy: 0.6946 - val_loss: 0.6135 - val_accuracy: 0.6968\n",
            "Epoch 46/50\n",
            "1539/1539 [==============================] - 2s 1ms/step - loss: 0.6154 - accuracy: 0.6946 - val_loss: 0.6135 - val_accuracy: 0.6968\n",
            "Epoch 47/50\n",
            "1539/1539 [==============================] - 2s 1ms/step - loss: 0.6154 - accuracy: 0.6946 - val_loss: 0.6135 - val_accuracy: 0.6968\n",
            "Epoch 48/50\n",
            "1539/1539 [==============================] - 2s 1ms/step - loss: 0.6154 - accuracy: 0.6946 - val_loss: 0.6135 - val_accuracy: 0.6968\n",
            "Epoch 49/50\n",
            "1539/1539 [==============================] - 2s 1ms/step - loss: 0.6154 - accuracy: 0.6946 - val_loss: 0.6135 - val_accuracy: 0.6968\n",
            "Epoch 50/50\n",
            "1539/1539 [==============================] - 2s 1ms/step - loss: 0.6154 - accuracy: 0.6946 - val_loss: 0.6135 - val_accuracy: 0.6968\n"
          ],
          "name": "stdout"
        }
      ]
    },
    {
      "cell_type": "markdown",
      "metadata": {
        "id": "mWLNLRiijWXx"
      },
      "source": [
        "visualization of model 2 to see what it looks like in terms of the loss and accuracy"
      ]
    },
    {
      "cell_type": "code",
      "metadata": {
        "colab": {
          "base_uri": "https://localhost:8080/",
          "height": 295
        },
        "id": "OLWs6RcZO4Y_",
        "outputId": "ca655874-25f3-4131-aa94-0d75ceceeaf1"
      },
      "source": [
        "plt.plot(hist_2.history['loss'])\r\n",
        "plt.plot(hist_2.history['val_loss'])\r\n",
        "plt.title('Model loss')\r\n",
        "plt.ylabel('Loss')\r\n",
        "plt.xlabel('Epoch')\r\n",
        "plt.legend(['Train', 'Val'], loc='upper right')\r\n",
        "plt.show()"
      ],
      "execution_count": null,
      "outputs": [
        {
          "output_type": "display_data",
          "data": {
            "image/png": "[encoded data removed]",
            "text/plain": [
              "<Figure size 432x288 with 1 Axes>"
            ]
          },
          "metadata": {
            "tags": [],
            "needs_background": "light"
          }
        }
      ]
    },
    {
      "cell_type": "code",
      "metadata": {
        "colab": {
          "base_uri": "https://localhost:8080/",
          "height": 295
        },
        "id": "2Hsl5TB7jnki",
        "outputId": "debfbdfd-f2c5-4547-e1c6-d4518917fe72"
      },
      "source": [
        "plt.plot(hist_2.history['accuracy'])\r\n",
        "plt.plot(hist_2.history['val_accuracy'])\r\n",
        "plt.title('Model accuracy')\r\n",
        "plt.ylabel('Accuracy')\r\n",
        "plt.xlabel('Epoch')\r\n",
        "plt.legend(['Train', 'Val'], loc='lower right')\r\n",
        "plt.show()"
      ],
      "execution_count": null,
      "outputs": [
        {
          "output_type": "display_data",
          "data": {
            "image/png": "[encoded data removed]",
            "text/plain": [
              "<Figure size 432x288 with 1 Axes>"
            ]
          },
          "metadata": {
            "tags": [],
            "needs_background": "light"
          }
        }
      ]
    },
    {
      "cell_type": "markdown",
      "metadata": {
        "id": "5l_xlFFSlPfV"
      },
      "source": [
        "**observation**: model 2 is less overfitting and better than the first model.it gives us 69.4% accuracy."
      ]
    },
    {
      "cell_type": "markdown",
      "metadata": {
        "id": "yqb2fAXCrEjV"
      },
      "source": [
        "## Follow up questions"
      ]
    },
    {
      "cell_type": "code",
      "metadata": {
        "id": "UmN-6pphrHRr"
      },
      "source": [
        "1. Did we have the right data?\r\n",
        "\r\n",
        "* Yes"
      ],
      "execution_count": null,
      "outputs": []
    },
    {
      "cell_type": "code",
      "metadata": {
        "id": "U92LmRU0rN3y"
      },
      "source": [
        "2. Do we need other data to answer our question?\r\n",
        "\r\n",
        "* No"
      ],
      "execution_count": null,
      "outputs": []
    },
    {
      "cell_type": "markdown",
      "metadata": {
        "id": "aFuTpkIVrSwZ"
      },
      "source": [
        "3. we need more data to do away with overfitting.\r\n",
        "\r\n",
        "* yes."
      ]
    },
    {
      "cell_type": "code",
      "metadata": {
        "id": "pLf6EYZ-rZr6"
      },
      "source": [
        "4. Did we have the right question?\r\n",
        "\r\n",
        "* yes."
      ],
      "execution_count": null,
      "outputs": []
    }
  ]
}