{
  "nbformat": 4,
  "nbformat_minor": 0,
  "metadata": {
    "colab": {
      "name": "Copy of Copy of Foxtrot Finale svm",
      "provenance": [],
      "collapsed_sections": []
    },
    "kernelspec": {
      "display_name": "Python 3",
      "name": "python3"
    }
  },
  "cells": [
    {
      "cell_type": "markdown",
      "metadata": {
        "id": "XIbgOtyWBkZ3"
      },
      "source": [
        "# OVERVIEW"
      ]
    },
    {
      "cell_type": "markdown",
      "metadata": {
        "id": "zI3uEbooHtEr"
      },
      "source": [
        "\n",
        "\n",
        "Algarve resort and Lisbon City Hotel are 2 hotels located in Portugal. The two hotels wish to find out the most popular time of year that hotel rooms are booked, so they can adequately plan themselves in terms of supplies and staffing. This will ensure that they are able to cater to their guests more efficiently.\n",
        "\n",
        "\n",
        "\n"
      ]
    },
    {
      "cell_type": "markdown",
      "metadata": {
        "id": "S997ZD17Bx78"
      },
      "source": [
        "# IMPORTING LIBRARIES"
      ]
    },
    {
      "cell_type": "code",
      "metadata": {
        "id": "-QgjKOJlIAvp"
      },
      "source": [
        "# Importing important libraries\n",
        "\n",
        "import pandas as pd\n",
        "import numpy as np\n",
        "import seaborn as sns\n",
        "import matplotlib.pyplot as plt"
      ],
      "execution_count": 1,
      "outputs": []
    },
    {
      "cell_type": "markdown",
      "metadata": {
        "id": "J2d99wpzH5-l"
      },
      "source": [
        "# LOADING DATASET "
      ]
    },
    {
      "cell_type": "code",
      "metadata": {
        "colab": {
          "base_uri": "https://localhost:8080/",
          "height": 309
        },
        "id": "Q0FbhTB8H_dy",
        "outputId": "72084e9f-97b8-4c85-d19d-cb7def34bb71"
      },
      "source": [
        "# Loading the datasets\n",
        "names = ['hotel', 'is_canceled', 'lead_time', 'arrival_date_year',\n",
        "       'arrival_date_month', 'arrival_date_week_number',\n",
        "       'arrival_date_day_of_month', 'stays_in_weekend_nights',\n",
        "       'stays_in_week_nights', 'adults', 'children', 'babies', 'meal',\n",
        "       'country', 'market_segment', 'distribution_channel',\n",
        "       'is_repeated_guest', 'previous_cancellations',\n",
        "       'previous_bookings_not_canceled', 'reserved_room_type',\n",
        "       'assigned_room_type', 'booking_changes', 'deposit_type', 'agent',\n",
        "       'company', 'days_in_waiting_list', 'customer_type', 'adr',\n",
        "       'required_car_parking_spaces', 'total_of_special_requests',\n",
        "       'reservation_status', 'reservation_status_date']\n",
        "hotel_df = pd.read_csv('hotel_bookings.csv', usecols=names)\n",
        "hotel_df.head()"
      ],
      "execution_count": 2,
      "outputs": [
        {
          "output_type": "execute_result",
          "data": {
            "text/html": [
              "<div>\n",
              "<style scoped>\n",
              "    .dataframe tbody tr th:only-of-type {\n",
              "        vertical-align: middle;\n",
              "    }\n",
              "\n",
              "    .dataframe tbody tr th {\n",
              "        vertical-align: top;\n",
              "    }\n",
              "\n",
              "    .dataframe thead th {\n",
              "        text-align: right;\n",
              "    }\n",
              "</style>\n",
              "<table border=\"1\" class=\"dataframe\">\n",
              "  <thead>\n",
              "    <tr style=\"text-align: right;\">\n",
              "      <th></th>\n",
              "      <th>hotel</th>\n",
              "      <th>is_canceled</th>\n",
              "      <th>lead_time</th>\n",
              "      <th>arrival_date_year</th>\n",
              "      <th>arrival_date_month</th>\n",
              "      <th>arrival_date_week_number</th>\n",
              "      <th>arrival_date_day_of_month</th>\n",
              "      <th>stays_in_weekend_nights</th>\n",
              "      <th>stays_in_week_nights</th>\n",
              "      <th>adults</th>\n",
              "      <th>children</th>\n",
              "      <th>babies</th>\n",
              "      <th>meal</th>\n",
              "      <th>country</th>\n",
              "      <th>market_segment</th>\n",
              "      <th>distribution_channel</th>\n",
              "      <th>is_repeated_guest</th>\n",
              "      <th>previous_cancellations</th>\n",
              "      <th>previous_bookings_not_canceled</th>\n",
              "      <th>reserved_room_type</th>\n",
              "      <th>assigned_room_type</th>\n",
              "      <th>booking_changes</th>\n",
              "      <th>deposit_type</th>\n",
              "      <th>agent</th>\n",
              "      <th>company</th>\n",
              "      <th>days_in_waiting_list</th>\n",
              "      <th>customer_type</th>\n",
              "      <th>adr</th>\n",
              "      <th>required_car_parking_spaces</th>\n",
              "      <th>total_of_special_requests</th>\n",
              "      <th>reservation_status</th>\n",
              "      <th>reservation_status_date</th>\n",
              "    </tr>\n",
              "  </thead>\n",
              "  <tbody>\n",
              "    <tr>\n",
              "      <th>0</th>\n",
              "      <td>Resort Hotel</td>\n",
              "      <td>0</td>\n",
              "      <td>342</td>\n",
              "      <td>2015</td>\n",
              "      <td>July</td>\n",
              "      <td>27</td>\n",
              "      <td>1</td>\n",
              "      <td>0</td>\n",
              "      <td>0</td>\n",
              "      <td>2</td>\n",
              "      <td>0</td>\n",
              "      <td>0</td>\n",
              "      <td>BB</td>\n",
              "      <td>PRT</td>\n",
              "      <td>Direct</td>\n",
              "      <td>Direct</td>\n",
              "      <td>0</td>\n",
              "      <td>0</td>\n",
              "      <td>0</td>\n",
              "      <td>C</td>\n",
              "      <td>C</td>\n",
              "      <td>3</td>\n",
              "      <td>No Deposit</td>\n",
              "      <td>NaN</td>\n",
              "      <td>NaN</td>\n",
              "      <td>0</td>\n",
              "      <td>Transient</td>\n",
              "      <td>0.0</td>\n",
              "      <td>0</td>\n",
              "      <td>0</td>\n",
              "      <td>Check-Out</td>\n",
              "      <td>2015-07-01</td>\n",
              "    </tr>\n",
              "    <tr>\n",
              "      <th>1</th>\n",
              "      <td>Resort Hotel</td>\n",
              "      <td>0</td>\n",
              "      <td>737</td>\n",
              "      <td>2015</td>\n",
              "      <td>July</td>\n",
              "      <td>27</td>\n",
              "      <td>1</td>\n",
              "      <td>0</td>\n",
              "      <td>0</td>\n",
              "      <td>2</td>\n",
              "      <td>0</td>\n",
              "      <td>0</td>\n",
              "      <td>BB</td>\n",
              "      <td>PRT</td>\n",
              "      <td>Direct</td>\n",
              "      <td>Direct</td>\n",
              "      <td>0</td>\n",
              "      <td>0</td>\n",
              "      <td>0</td>\n",
              "      <td>C</td>\n",
              "      <td>C</td>\n",
              "      <td>4</td>\n",
              "      <td>No Deposit</td>\n",
              "      <td>NaN</td>\n",
              "      <td>NaN</td>\n",
              "      <td>0</td>\n",
              "      <td>Transient</td>\n",
              "      <td>0.0</td>\n",
              "      <td>0</td>\n",
              "      <td>0</td>\n",
              "      <td>Check-Out</td>\n",
              "      <td>2015-07-01</td>\n",
              "    </tr>\n",
              "    <tr>\n",
              "      <th>2</th>\n",
              "      <td>Resort Hotel</td>\n",
              "      <td>0</td>\n",
              "      <td>7</td>\n",
              "      <td>2015</td>\n",
              "      <td>July</td>\n",
              "      <td>27</td>\n",
              "      <td>1</td>\n",
              "      <td>0</td>\n",
              "      <td>1</td>\n",
              "      <td>1</td>\n",
              "      <td>0</td>\n",
              "      <td>0</td>\n",
              "      <td>BB</td>\n",
              "      <td>GBR</td>\n",
              "      <td>Direct</td>\n",
              "      <td>Direct</td>\n",
              "      <td>0</td>\n",
              "      <td>0</td>\n",
              "      <td>0</td>\n",
              "      <td>A</td>\n",
              "      <td>C</td>\n",
              "      <td>0</td>\n",
              "      <td>No Deposit</td>\n",
              "      <td>NaN</td>\n",
              "      <td>NaN</td>\n",
              "      <td>0</td>\n",
              "      <td>Transient</td>\n",
              "      <td>75.0</td>\n",
              "      <td>0</td>\n",
              "      <td>0</td>\n",
              "      <td>Check-Out</td>\n",
              "      <td>2015-07-02</td>\n",
              "    </tr>\n",
              "    <tr>\n",
              "      <th>3</th>\n",
              "      <td>Resort Hotel</td>\n",
              "      <td>0</td>\n",
              "      <td>13</td>\n",
              "      <td>2015</td>\n",
              "      <td>July</td>\n",
              "      <td>27</td>\n",
              "      <td>1</td>\n",
              "      <td>0</td>\n",
              "      <td>1</td>\n",
              "      <td>1</td>\n",
              "      <td>0</td>\n",
              "      <td>0</td>\n",
              "      <td>BB</td>\n",
              "      <td>GBR</td>\n",
              "      <td>Corporate</td>\n",
              "      <td>Corporate</td>\n",
              "      <td>0</td>\n",
              "      <td>0</td>\n",
              "      <td>0</td>\n",
              "      <td>A</td>\n",
              "      <td>A</td>\n",
              "      <td>0</td>\n",
              "      <td>No Deposit</td>\n",
              "      <td>304.0</td>\n",
              "      <td>NaN</td>\n",
              "      <td>0</td>\n",
              "      <td>Transient</td>\n",
              "      <td>75.0</td>\n",
              "      <td>0</td>\n",
              "      <td>0</td>\n",
              "      <td>Check-Out</td>\n",
              "      <td>2015-07-02</td>\n",
              "    </tr>\n",
              "    <tr>\n",
              "      <th>4</th>\n",
              "      <td>Resort Hotel</td>\n",
              "      <td>0</td>\n",
              "      <td>14</td>\n",
              "      <td>2015</td>\n",
              "      <td>July</td>\n",
              "      <td>27</td>\n",
              "      <td>1</td>\n",
              "      <td>0</td>\n",
              "      <td>2</td>\n",
              "      <td>2</td>\n",
              "      <td>0</td>\n",
              "      <td>0</td>\n",
              "      <td>BB</td>\n",
              "      <td>GBR</td>\n",
              "      <td>Online TA</td>\n",
              "      <td>TA/TO</td>\n",
              "      <td>0</td>\n",
              "      <td>0</td>\n",
              "      <td>0</td>\n",
              "      <td>A</td>\n",
              "      <td>A</td>\n",
              "      <td>0</td>\n",
              "      <td>No Deposit</td>\n",
              "      <td>240.0</td>\n",
              "      <td>NaN</td>\n",
              "      <td>0</td>\n",
              "      <td>Transient</td>\n",
              "      <td>98.0</td>\n",
              "      <td>0</td>\n",
              "      <td>1</td>\n",
              "      <td>Check-Out</td>\n",
              "      <td>2015-07-03</td>\n",
              "    </tr>\n",
              "  </tbody>\n",
              "</table>\n",
              "</div>"
            ],
            "text/plain": [
              "          hotel  is_canceled  ...  reservation_status  reservation_status_date\n",
              "0  Resort Hotel            0  ...           Check-Out               2015-07-01\n",
              "1  Resort Hotel            0  ...           Check-Out               2015-07-01\n",
              "2  Resort Hotel            0  ...           Check-Out               2015-07-02\n",
              "3  Resort Hotel            0  ...           Check-Out               2015-07-02\n",
              "4  Resort Hotel            0  ...           Check-Out               2015-07-03\n",
              "\n",
              "[5 rows x 32 columns]"
            ]
          },
          "metadata": {
            "tags": []
          },
          "execution_count": 2
        }
      ]
    },
    {
      "cell_type": "markdown",
      "metadata": {
        "id": "eqbSuKeBI4Jc"
      },
      "source": [
        "# CHECKING THE DATA"
      ]
    },
    {
      "cell_type": "code",
      "metadata": {
        "colab": {
          "base_uri": "https://localhost:8080/"
        },
        "id": "IGNEFhaII7t3",
        "outputId": "7f23ae99-b491-459d-c5fe-ad3a0445bbea"
      },
      "source": [
        "# Determing the number of records in our dataset\n",
        "hotel_df.shape"
      ],
      "execution_count": 3,
      "outputs": [
        {
          "output_type": "execute_result",
          "data": {
            "text/plain": [
              "(29264, 32)"
            ]
          },
          "metadata": {
            "tags": []
          },
          "execution_count": 3
        }
      ]
    },
    {
      "cell_type": "code",
      "metadata": {
        "colab": {
          "base_uri": "https://localhost:8080/",
          "height": 309
        },
        "id": "HQi_ZRMMJBC9",
        "outputId": "df47583d-8419-4b69-871b-1ee4662542f4"
      },
      "source": [
        "# Previewing the first records of our dataset\n",
        "hotel_df.head()"
      ],
      "execution_count": 4,
      "outputs": [
        {
          "output_type": "execute_result",
          "data": {
            "text/html": [
              "<div>\n",
              "<style scoped>\n",
              "    .dataframe tbody tr th:only-of-type {\n",
              "        vertical-align: middle;\n",
              "    }\n",
              "\n",
              "    .dataframe tbody tr th {\n",
              "        vertical-align: top;\n",
              "    }\n",
              "\n",
              "    .dataframe thead th {\n",
              "        text-align: right;\n",
              "    }\n",
              "</style>\n",
              "<table border=\"1\" class=\"dataframe\">\n",
              "  <thead>\n",
              "    <tr style=\"text-align: right;\">\n",
              "      <th></th>\n",
              "      <th>hotel</th>\n",
              "      <th>is_canceled</th>\n",
              "      <th>lead_time</th>\n",
              "      <th>arrival_date_year</th>\n",
              "      <th>arrival_date_month</th>\n",
              "      <th>arrival_date_week_number</th>\n",
              "      <th>arrival_date_day_of_month</th>\n",
              "      <th>stays_in_weekend_nights</th>\n",
              "      <th>stays_in_week_nights</th>\n",
              "      <th>adults</th>\n",
              "      <th>children</th>\n",
              "      <th>babies</th>\n",
              "      <th>meal</th>\n",
              "      <th>country</th>\n",
              "      <th>market_segment</th>\n",
              "      <th>distribution_channel</th>\n",
              "      <th>is_repeated_guest</th>\n",
              "      <th>previous_cancellations</th>\n",
              "      <th>previous_bookings_not_canceled</th>\n",
              "      <th>reserved_room_type</th>\n",
              "      <th>assigned_room_type</th>\n",
              "      <th>booking_changes</th>\n",
              "      <th>deposit_type</th>\n",
              "      <th>agent</th>\n",
              "      <th>company</th>\n",
              "      <th>days_in_waiting_list</th>\n",
              "      <th>customer_type</th>\n",
              "      <th>adr</th>\n",
              "      <th>required_car_parking_spaces</th>\n",
              "      <th>total_of_special_requests</th>\n",
              "      <th>reservation_status</th>\n",
              "      <th>reservation_status_date</th>\n",
              "    </tr>\n",
              "  </thead>\n",
              "  <tbody>\n",
              "    <tr>\n",
              "      <th>0</th>\n",
              "      <td>Resort Hotel</td>\n",
              "      <td>0</td>\n",
              "      <td>342</td>\n",
              "      <td>2015</td>\n",
              "      <td>July</td>\n",
              "      <td>27</td>\n",
              "      <td>1</td>\n",
              "      <td>0</td>\n",
              "      <td>0</td>\n",
              "      <td>2</td>\n",
              "      <td>0</td>\n",
              "      <td>0</td>\n",
              "      <td>BB</td>\n",
              "      <td>PRT</td>\n",
              "      <td>Direct</td>\n",
              "      <td>Direct</td>\n",
              "      <td>0</td>\n",
              "      <td>0</td>\n",
              "      <td>0</td>\n",
              "      <td>C</td>\n",
              "      <td>C</td>\n",
              "      <td>3</td>\n",
              "      <td>No Deposit</td>\n",
              "      <td>NaN</td>\n",
              "      <td>NaN</td>\n",
              "      <td>0</td>\n",
              "      <td>Transient</td>\n",
              "      <td>0.0</td>\n",
              "      <td>0</td>\n",
              "      <td>0</td>\n",
              "      <td>Check-Out</td>\n",
              "      <td>2015-07-01</td>\n",
              "    </tr>\n",
              "    <tr>\n",
              "      <th>1</th>\n",
              "      <td>Resort Hotel</td>\n",
              "      <td>0</td>\n",
              "      <td>737</td>\n",
              "      <td>2015</td>\n",
              "      <td>July</td>\n",
              "      <td>27</td>\n",
              "      <td>1</td>\n",
              "      <td>0</td>\n",
              "      <td>0</td>\n",
              "      <td>2</td>\n",
              "      <td>0</td>\n",
              "      <td>0</td>\n",
              "      <td>BB</td>\n",
              "      <td>PRT</td>\n",
              "      <td>Direct</td>\n",
              "      <td>Direct</td>\n",
              "      <td>0</td>\n",
              "      <td>0</td>\n",
              "      <td>0</td>\n",
              "      <td>C</td>\n",
              "      <td>C</td>\n",
              "      <td>4</td>\n",
              "      <td>No Deposit</td>\n",
              "      <td>NaN</td>\n",
              "      <td>NaN</td>\n",
              "      <td>0</td>\n",
              "      <td>Transient</td>\n",
              "      <td>0.0</td>\n",
              "      <td>0</td>\n",
              "      <td>0</td>\n",
              "      <td>Check-Out</td>\n",
              "      <td>2015-07-01</td>\n",
              "    </tr>\n",
              "    <tr>\n",
              "      <th>2</th>\n",
              "      <td>Resort Hotel</td>\n",
              "      <td>0</td>\n",
              "      <td>7</td>\n",
              "      <td>2015</td>\n",
              "      <td>July</td>\n",
              "      <td>27</td>\n",
              "      <td>1</td>\n",
              "      <td>0</td>\n",
              "      <td>1</td>\n",
              "      <td>1</td>\n",
              "      <td>0</td>\n",
              "      <td>0</td>\n",
              "      <td>BB</td>\n",
              "      <td>GBR</td>\n",
              "      <td>Direct</td>\n",
              "      <td>Direct</td>\n",
              "      <td>0</td>\n",
              "      <td>0</td>\n",
              "      <td>0</td>\n",
              "      <td>A</td>\n",
              "      <td>C</td>\n",
              "      <td>0</td>\n",
              "      <td>No Deposit</td>\n",
              "      <td>NaN</td>\n",
              "      <td>NaN</td>\n",
              "      <td>0</td>\n",
              "      <td>Transient</td>\n",
              "      <td>75.0</td>\n",
              "      <td>0</td>\n",
              "      <td>0</td>\n",
              "      <td>Check-Out</td>\n",
              "      <td>2015-07-02</td>\n",
              "    </tr>\n",
              "    <tr>\n",
              "      <th>3</th>\n",
              "      <td>Resort Hotel</td>\n",
              "      <td>0</td>\n",
              "      <td>13</td>\n",
              "      <td>2015</td>\n",
              "      <td>July</td>\n",
              "      <td>27</td>\n",
              "      <td>1</td>\n",
              "      <td>0</td>\n",
              "      <td>1</td>\n",
              "      <td>1</td>\n",
              "      <td>0</td>\n",
              "      <td>0</td>\n",
              "      <td>BB</td>\n",
              "      <td>GBR</td>\n",
              "      <td>Corporate</td>\n",
              "      <td>Corporate</td>\n",
              "      <td>0</td>\n",
              "      <td>0</td>\n",
              "      <td>0</td>\n",
              "      <td>A</td>\n",
              "      <td>A</td>\n",
              "      <td>0</td>\n",
              "      <td>No Deposit</td>\n",
              "      <td>304.0</td>\n",
              "      <td>NaN</td>\n",
              "      <td>0</td>\n",
              "      <td>Transient</td>\n",
              "      <td>75.0</td>\n",
              "      <td>0</td>\n",
              "      <td>0</td>\n",
              "      <td>Check-Out</td>\n",
              "      <td>2015-07-02</td>\n",
              "    </tr>\n",
              "    <tr>\n",
              "      <th>4</th>\n",
              "      <td>Resort Hotel</td>\n",
              "      <td>0</td>\n",
              "      <td>14</td>\n",
              "      <td>2015</td>\n",
              "      <td>July</td>\n",
              "      <td>27</td>\n",
              "      <td>1</td>\n",
              "      <td>0</td>\n",
              "      <td>2</td>\n",
              "      <td>2</td>\n",
              "      <td>0</td>\n",
              "      <td>0</td>\n",
              "      <td>BB</td>\n",
              "      <td>GBR</td>\n",
              "      <td>Online TA</td>\n",
              "      <td>TA/TO</td>\n",
              "      <td>0</td>\n",
              "      <td>0</td>\n",
              "      <td>0</td>\n",
              "      <td>A</td>\n",
              "      <td>A</td>\n",
              "      <td>0</td>\n",
              "      <td>No Deposit</td>\n",
              "      <td>240.0</td>\n",
              "      <td>NaN</td>\n",
              "      <td>0</td>\n",
              "      <td>Transient</td>\n",
              "      <td>98.0</td>\n",
              "      <td>0</td>\n",
              "      <td>1</td>\n",
              "      <td>Check-Out</td>\n",
              "      <td>2015-07-03</td>\n",
              "    </tr>\n",
              "  </tbody>\n",
              "</table>\n",
              "</div>"
            ],
            "text/plain": [
              "          hotel  is_canceled  ...  reservation_status  reservation_status_date\n",
              "0  Resort Hotel            0  ...           Check-Out               2015-07-01\n",
              "1  Resort Hotel            0  ...           Check-Out               2015-07-01\n",
              "2  Resort Hotel            0  ...           Check-Out               2015-07-02\n",
              "3  Resort Hotel            0  ...           Check-Out               2015-07-02\n",
              "4  Resort Hotel            0  ...           Check-Out               2015-07-03\n",
              "\n",
              "[5 rows x 32 columns]"
            ]
          },
          "metadata": {
            "tags": []
          },
          "execution_count": 4
        }
      ]
    },
    {
      "cell_type": "code",
      "metadata": {
        "colab": {
          "base_uri": "https://localhost:8080/",
          "height": 309
        },
        "id": "o2Q6GjCJJDrh",
        "outputId": "f44bf5c0-2e71-40aa-e50b-340bea2b28c0"
      },
      "source": [
        "# Previewing the last records of our dataset\n",
        "hotel_df.tail()"
      ],
      "execution_count": 5,
      "outputs": [
        {
          "output_type": "execute_result",
          "data": {
            "text/html": [
              "<div>\n",
              "<style scoped>\n",
              "    .dataframe tbody tr th:only-of-type {\n",
              "        vertical-align: middle;\n",
              "    }\n",
              "\n",
              "    .dataframe tbody tr th {\n",
              "        vertical-align: top;\n",
              "    }\n",
              "\n",
              "    .dataframe thead th {\n",
              "        text-align: right;\n",
              "    }\n",
              "</style>\n",
              "<table border=\"1\" class=\"dataframe\">\n",
              "  <thead>\n",
              "    <tr style=\"text-align: right;\">\n",
              "      <th></th>\n",
              "      <th>hotel</th>\n",
              "      <th>is_canceled</th>\n",
              "      <th>lead_time</th>\n",
              "      <th>arrival_date_year</th>\n",
              "      <th>arrival_date_month</th>\n",
              "      <th>arrival_date_week_number</th>\n",
              "      <th>arrival_date_day_of_month</th>\n",
              "      <th>stays_in_weekend_nights</th>\n",
              "      <th>stays_in_week_nights</th>\n",
              "      <th>adults</th>\n",
              "      <th>children</th>\n",
              "      <th>babies</th>\n",
              "      <th>meal</th>\n",
              "      <th>country</th>\n",
              "      <th>market_segment</th>\n",
              "      <th>distribution_channel</th>\n",
              "      <th>is_repeated_guest</th>\n",
              "      <th>previous_cancellations</th>\n",
              "      <th>previous_bookings_not_canceled</th>\n",
              "      <th>reserved_room_type</th>\n",
              "      <th>assigned_room_type</th>\n",
              "      <th>booking_changes</th>\n",
              "      <th>deposit_type</th>\n",
              "      <th>agent</th>\n",
              "      <th>company</th>\n",
              "      <th>days_in_waiting_list</th>\n",
              "      <th>customer_type</th>\n",
              "      <th>adr</th>\n",
              "      <th>required_car_parking_spaces</th>\n",
              "      <th>total_of_special_requests</th>\n",
              "      <th>reservation_status</th>\n",
              "      <th>reservation_status_date</th>\n",
              "    </tr>\n",
              "  </thead>\n",
              "  <tbody>\n",
              "    <tr>\n",
              "      <th>29259</th>\n",
              "      <td>Resort Hotel</td>\n",
              "      <td>0</td>\n",
              "      <td>386</td>\n",
              "      <td>2016</td>\n",
              "      <td>October</td>\n",
              "      <td>43</td>\n",
              "      <td>20</td>\n",
              "      <td>1</td>\n",
              "      <td>3</td>\n",
              "      <td>2</td>\n",
              "      <td>0</td>\n",
              "      <td>0</td>\n",
              "      <td>BB</td>\n",
              "      <td>GBR</td>\n",
              "      <td>Groups</td>\n",
              "      <td>Corporate</td>\n",
              "      <td>0</td>\n",
              "      <td>0</td>\n",
              "      <td>0</td>\n",
              "      <td>A</td>\n",
              "      <td>A</td>\n",
              "      <td>0</td>\n",
              "      <td>No Deposit</td>\n",
              "      <td>NaN</td>\n",
              "      <td>NaN</td>\n",
              "      <td>0</td>\n",
              "      <td>Transient-Party</td>\n",
              "      <td>49.00</td>\n",
              "      <td>0</td>\n",
              "      <td>0</td>\n",
              "      <td>Check-Out</td>\n",
              "      <td>2016-10-24</td>\n",
              "    </tr>\n",
              "    <tr>\n",
              "      <th>29260</th>\n",
              "      <td>Resort Hotel</td>\n",
              "      <td>0</td>\n",
              "      <td>77</td>\n",
              "      <td>2016</td>\n",
              "      <td>October</td>\n",
              "      <td>43</td>\n",
              "      <td>17</td>\n",
              "      <td>2</td>\n",
              "      <td>5</td>\n",
              "      <td>2</td>\n",
              "      <td>0</td>\n",
              "      <td>0</td>\n",
              "      <td>BB</td>\n",
              "      <td>IRL</td>\n",
              "      <td>Direct</td>\n",
              "      <td>Direct</td>\n",
              "      <td>0</td>\n",
              "      <td>0</td>\n",
              "      <td>0</td>\n",
              "      <td>F</td>\n",
              "      <td>F</td>\n",
              "      <td>0</td>\n",
              "      <td>No Deposit</td>\n",
              "      <td>NaN</td>\n",
              "      <td>NaN</td>\n",
              "      <td>0</td>\n",
              "      <td>Transient</td>\n",
              "      <td>10.00</td>\n",
              "      <td>0</td>\n",
              "      <td>0</td>\n",
              "      <td>Check-Out</td>\n",
              "      <td>2016-10-24</td>\n",
              "    </tr>\n",
              "    <tr>\n",
              "      <th>29261</th>\n",
              "      <td>Resort Hotel</td>\n",
              "      <td>0</td>\n",
              "      <td>134</td>\n",
              "      <td>2016</td>\n",
              "      <td>October</td>\n",
              "      <td>43</td>\n",
              "      <td>17</td>\n",
              "      <td>2</td>\n",
              "      <td>5</td>\n",
              "      <td>2</td>\n",
              "      <td>0</td>\n",
              "      <td>0</td>\n",
              "      <td>HB</td>\n",
              "      <td>DEU</td>\n",
              "      <td>Online TA</td>\n",
              "      <td>TA/TO</td>\n",
              "      <td>0</td>\n",
              "      <td>0</td>\n",
              "      <td>0</td>\n",
              "      <td>D</td>\n",
              "      <td>D</td>\n",
              "      <td>0</td>\n",
              "      <td>No Deposit</td>\n",
              "      <td>240.0</td>\n",
              "      <td>NaN</td>\n",
              "      <td>0</td>\n",
              "      <td>Transient</td>\n",
              "      <td>100.00</td>\n",
              "      <td>0</td>\n",
              "      <td>2</td>\n",
              "      <td>Check-Out</td>\n",
              "      <td>2016-10-24</td>\n",
              "    </tr>\n",
              "    <tr>\n",
              "      <th>29262</th>\n",
              "      <td>Resort Hotel</td>\n",
              "      <td>0</td>\n",
              "      <td>220</td>\n",
              "      <td>2016</td>\n",
              "      <td>October</td>\n",
              "      <td>43</td>\n",
              "      <td>17</td>\n",
              "      <td>2</td>\n",
              "      <td>5</td>\n",
              "      <td>2</td>\n",
              "      <td>0</td>\n",
              "      <td>0</td>\n",
              "      <td>HB</td>\n",
              "      <td>GBR</td>\n",
              "      <td>Offline TA/TO</td>\n",
              "      <td>TA/TO</td>\n",
              "      <td>0</td>\n",
              "      <td>0</td>\n",
              "      <td>0</td>\n",
              "      <td>D</td>\n",
              "      <td>D</td>\n",
              "      <td>0</td>\n",
              "      <td>No Deposit</td>\n",
              "      <td>243.0</td>\n",
              "      <td>NaN</td>\n",
              "      <td>0</td>\n",
              "      <td>Contract</td>\n",
              "      <td>72.75</td>\n",
              "      <td>0</td>\n",
              "      <td>0</td>\n",
              "      <td>Check-Out</td>\n",
              "      <td>2016-10-24</td>\n",
              "    </tr>\n",
              "    <tr>\n",
              "      <th>29263</th>\n",
              "      <td>Resort Hotel</td>\n",
              "      <td>0</td>\n",
              "      <td>189</td>\n",
              "      <td>2016</td>\n",
              "      <td>October</td>\n",
              "      <td>43</td>\n",
              "      <td>21</td>\n",
              "      <td>1</td>\n",
              "      <td>2</td>\n",
              "      <td>3</td>\n",
              "      <td>0</td>\n",
              "      <td>0</td>\n",
              "      <td>BB</td>\n",
              "      <td>IRL</td>\n",
              "      <td>Online TA</td>\n",
              "      <td>TA/TO</td>\n",
              "      <td>0</td>\n",
              "      <td>0</td>\n",
              "      <td>0</td>\n",
              "      <td>D</td>\n",
              "      <td>D</td>\n",
              "      <td>0</td>\n",
              "      <td>No Deposit</td>\n",
              "      <td>314.0</td>\n",
              "      <td>NaN</td>\n",
              "      <td>0</td>\n",
              "      <td>Transient</td>\n",
              "      <td>72.56</td>\n",
              "      <td>0</td>\n",
              "      <td>1</td>\n",
              "      <td>Check-Out</td>\n",
              "      <td>2016-10</td>\n",
              "    </tr>\n",
              "  </tbody>\n",
              "</table>\n",
              "</div>"
            ],
            "text/plain": [
              "              hotel  is_canceled  ...  reservation_status  reservation_status_date\n",
              "29259  Resort Hotel            0  ...           Check-Out               2016-10-24\n",
              "29260  Resort Hotel            0  ...           Check-Out               2016-10-24\n",
              "29261  Resort Hotel            0  ...           Check-Out               2016-10-24\n",
              "29262  Resort Hotel            0  ...           Check-Out               2016-10-24\n",
              "29263  Resort Hotel            0  ...           Check-Out                  2016-10\n",
              "\n",
              "[5 rows x 32 columns]"
            ]
          },
          "metadata": {
            "tags": []
          },
          "execution_count": 5
        }
      ]
    },
    {
      "cell_type": "code",
      "metadata": {
        "colab": {
          "base_uri": "https://localhost:8080/"
        },
        "id": "ApZZdwahJHYa",
        "outputId": "83fdf05a-051d-45a0-a918-acd1a98a665c"
      },
      "source": [
        "#consice summary of train dataset\n",
        "hotel_df.info()"
      ],
      "execution_count": 6,
      "outputs": [
        {
          "output_type": "stream",
          "text": [
            "<class 'pandas.core.frame.DataFrame'>\n",
            "RangeIndex: 29264 entries, 0 to 29263\n",
            "Data columns (total 32 columns):\n",
            " #   Column                          Non-Null Count  Dtype  \n",
            "---  ------                          --------------  -----  \n",
            " 0   hotel                           29264 non-null  object \n",
            " 1   is_canceled                     29264 non-null  int64  \n",
            " 2   lead_time                       29264 non-null  int64  \n",
            " 3   arrival_date_year               29264 non-null  int64  \n",
            " 4   arrival_date_month              29264 non-null  object \n",
            " 5   arrival_date_week_number        29264 non-null  int64  \n",
            " 6   arrival_date_day_of_month       29264 non-null  int64  \n",
            " 7   stays_in_weekend_nights         29264 non-null  int64  \n",
            " 8   stays_in_week_nights            29264 non-null  int64  \n",
            " 9   adults                          29264 non-null  int64  \n",
            " 10  children                        29264 non-null  int64  \n",
            " 11  babies                          29264 non-null  int64  \n",
            " 12  meal                            29264 non-null  object \n",
            " 13  country                         28803 non-null  object \n",
            " 14  market_segment                  29264 non-null  object \n",
            " 15  distribution_channel            29264 non-null  object \n",
            " 16  is_repeated_guest               29264 non-null  int64  \n",
            " 17  previous_cancellations          29264 non-null  int64  \n",
            " 18  previous_bookings_not_canceled  29264 non-null  int64  \n",
            " 19  reserved_room_type              29264 non-null  object \n",
            " 20  assigned_room_type              29264 non-null  object \n",
            " 21  booking_changes                 29264 non-null  int64  \n",
            " 22  deposit_type                    29264 non-null  object \n",
            " 23  agent                           23221 non-null  float64\n",
            " 24  company                         2351 non-null   float64\n",
            " 25  days_in_waiting_list            29264 non-null  int64  \n",
            " 26  customer_type                   29264 non-null  object \n",
            " 27  adr                             29264 non-null  float64\n",
            " 28  required_car_parking_spaces     29264 non-null  int64  \n",
            " 29  total_of_special_requests       29264 non-null  int64  \n",
            " 30  reservation_status              29264 non-null  object \n",
            " 31  reservation_status_date         29264 non-null  object \n",
            "dtypes: float64(3), int64(17), object(12)\n",
            "memory usage: 7.1+ MB\n"
          ],
          "name": "stdout"
        }
      ]
    },
    {
      "cell_type": "markdown",
      "metadata": {
        "id": "7iWkgIZaBRQ-"
      },
      "source": [
        "**observation**: our datset has 119390 observations and 32 variables, it has 4 floats, 16int and 12 object datatype."
      ]
    },
    {
      "cell_type": "code",
      "metadata": {
        "colab": {
          "base_uri": "https://localhost:8080/"
        },
        "id": "_NHFh4IKQBaN",
        "outputId": "749a935f-33a1-4fb8-c4a5-522f06e95e7b"
      },
      "source": [
        "# checking the target variable\r\n",
        "hotel_df.is_canceled.value_counts() "
      ],
      "execution_count": 7,
      "outputs": [
        {
          "output_type": "execute_result",
          "data": {
            "text/plain": [
              "0    18152\n",
              "1    11112\n",
              "Name: is_canceled, dtype: int64"
            ]
          },
          "metadata": {
            "tags": []
          },
          "execution_count": 7
        }
      ]
    },
    {
      "cell_type": "code",
      "metadata": {
        "colab": {
          "base_uri": "https://localhost:8080/"
        },
        "id": "64-PHl_7QTtE",
        "outputId": "a6af4af6-12a6-4749-d484-58b7aa376d48"
      },
      "source": [
        "#getting the above in parcentage\r\n",
        "#\r\n",
        "hotel_df.is_canceled.value_counts() / len(hotel_df) * 100 "
      ],
      "execution_count": 8,
      "outputs": [
        {
          "output_type": "execute_result",
          "data": {
            "text/plain": [
              "0    62.028431\n",
              "1    37.971569\n",
              "Name: is_canceled, dtype: float64"
            ]
          },
          "metadata": {
            "tags": []
          },
          "execution_count": 8
        }
      ]
    },
    {
      "cell_type": "markdown",
      "metadata": {
        "id": "UlXfdm19JUdi"
      },
      "source": [
        "Tidying the data\r\n",
        "\r\n",
        "\r\n"
      ]
    },
    {
      "cell_type": "code",
      "metadata": {
        "colab": {
          "base_uri": "https://localhost:8080/",
          "height": 309
        },
        "id": "o7pyMWGIOgKy",
        "outputId": "22f92a2e-6b72-471d-de51-a0f27c808bda"
      },
      "source": [
        "#creating a copy of the dataset to be be used on cleaning process\n",
        "hotel_df1=hotel_df.copy()\n",
        "#\n",
        "#getting the irrelevant varaibles\n",
        "columns = ['arrival_date_year','agent','arrival_date_week_number','lead_time', 'market_segment', 'distribution_channel','booking_changes','days_in_waiting_list', 'adr','reservation_status_date']\n",
        "#\n",
        "#dropping the irrelevant colunms\n",
        "drop_colunms= hotel_df1.drop(columns, axis = 1, inplace=True)\n",
        "#\n",
        "#previewing the dataset\n",
        "hotel_df1.head()"
      ],
      "execution_count": 9,
      "outputs": [
        {
          "output_type": "execute_result",
          "data": {
            "text/html": [
              "<div>\n",
              "<style scoped>\n",
              "    .dataframe tbody tr th:only-of-type {\n",
              "        vertical-align: middle;\n",
              "    }\n",
              "\n",
              "    .dataframe tbody tr th {\n",
              "        vertical-align: top;\n",
              "    }\n",
              "\n",
              "    .dataframe thead th {\n",
              "        text-align: right;\n",
              "    }\n",
              "</style>\n",
              "<table border=\"1\" class=\"dataframe\">\n",
              "  <thead>\n",
              "    <tr style=\"text-align: right;\">\n",
              "      <th></th>\n",
              "      <th>hotel</th>\n",
              "      <th>is_canceled</th>\n",
              "      <th>arrival_date_month</th>\n",
              "      <th>arrival_date_day_of_month</th>\n",
              "      <th>stays_in_weekend_nights</th>\n",
              "      <th>stays_in_week_nights</th>\n",
              "      <th>adults</th>\n",
              "      <th>children</th>\n",
              "      <th>babies</th>\n",
              "      <th>meal</th>\n",
              "      <th>country</th>\n",
              "      <th>is_repeated_guest</th>\n",
              "      <th>previous_cancellations</th>\n",
              "      <th>previous_bookings_not_canceled</th>\n",
              "      <th>reserved_room_type</th>\n",
              "      <th>assigned_room_type</th>\n",
              "      <th>deposit_type</th>\n",
              "      <th>company</th>\n",
              "      <th>customer_type</th>\n",
              "      <th>required_car_parking_spaces</th>\n",
              "      <th>total_of_special_requests</th>\n",
              "      <th>reservation_status</th>\n",
              "    </tr>\n",
              "  </thead>\n",
              "  <tbody>\n",
              "    <tr>\n",
              "      <th>0</th>\n",
              "      <td>Resort Hotel</td>\n",
              "      <td>0</td>\n",
              "      <td>July</td>\n",
              "      <td>1</td>\n",
              "      <td>0</td>\n",
              "      <td>0</td>\n",
              "      <td>2</td>\n",
              "      <td>0</td>\n",
              "      <td>0</td>\n",
              "      <td>BB</td>\n",
              "      <td>PRT</td>\n",
              "      <td>0</td>\n",
              "      <td>0</td>\n",
              "      <td>0</td>\n",
              "      <td>C</td>\n",
              "      <td>C</td>\n",
              "      <td>No Deposit</td>\n",
              "      <td>NaN</td>\n",
              "      <td>Transient</td>\n",
              "      <td>0</td>\n",
              "      <td>0</td>\n",
              "      <td>Check-Out</td>\n",
              "    </tr>\n",
              "    <tr>\n",
              "      <th>1</th>\n",
              "      <td>Resort Hotel</td>\n",
              "      <td>0</td>\n",
              "      <td>July</td>\n",
              "      <td>1</td>\n",
              "      <td>0</td>\n",
              "      <td>0</td>\n",
              "      <td>2</td>\n",
              "      <td>0</td>\n",
              "      <td>0</td>\n",
              "      <td>BB</td>\n",
              "      <td>PRT</td>\n",
              "      <td>0</td>\n",
              "      <td>0</td>\n",
              "      <td>0</td>\n",
              "      <td>C</td>\n",
              "      <td>C</td>\n",
              "      <td>No Deposit</td>\n",
              "      <td>NaN</td>\n",
              "      <td>Transient</td>\n",
              "      <td>0</td>\n",
              "      <td>0</td>\n",
              "      <td>Check-Out</td>\n",
              "    </tr>\n",
              "    <tr>\n",
              "      <th>2</th>\n",
              "      <td>Resort Hotel</td>\n",
              "      <td>0</td>\n",
              "      <td>July</td>\n",
              "      <td>1</td>\n",
              "      <td>0</td>\n",
              "      <td>1</td>\n",
              "      <td>1</td>\n",
              "      <td>0</td>\n",
              "      <td>0</td>\n",
              "      <td>BB</td>\n",
              "      <td>GBR</td>\n",
              "      <td>0</td>\n",
              "      <td>0</td>\n",
              "      <td>0</td>\n",
              "      <td>A</td>\n",
              "      <td>C</td>\n",
              "      <td>No Deposit</td>\n",
              "      <td>NaN</td>\n",
              "      <td>Transient</td>\n",
              "      <td>0</td>\n",
              "      <td>0</td>\n",
              "      <td>Check-Out</td>\n",
              "    </tr>\n",
              "    <tr>\n",
              "      <th>3</th>\n",
              "      <td>Resort Hotel</td>\n",
              "      <td>0</td>\n",
              "      <td>July</td>\n",
              "      <td>1</td>\n",
              "      <td>0</td>\n",
              "      <td>1</td>\n",
              "      <td>1</td>\n",
              "      <td>0</td>\n",
              "      <td>0</td>\n",
              "      <td>BB</td>\n",
              "      <td>GBR</td>\n",
              "      <td>0</td>\n",
              "      <td>0</td>\n",
              "      <td>0</td>\n",
              "      <td>A</td>\n",
              "      <td>A</td>\n",
              "      <td>No Deposit</td>\n",
              "      <td>NaN</td>\n",
              "      <td>Transient</td>\n",
              "      <td>0</td>\n",
              "      <td>0</td>\n",
              "      <td>Check-Out</td>\n",
              "    </tr>\n",
              "    <tr>\n",
              "      <th>4</th>\n",
              "      <td>Resort Hotel</td>\n",
              "      <td>0</td>\n",
              "      <td>July</td>\n",
              "      <td>1</td>\n",
              "      <td>0</td>\n",
              "      <td>2</td>\n",
              "      <td>2</td>\n",
              "      <td>0</td>\n",
              "      <td>0</td>\n",
              "      <td>BB</td>\n",
              "      <td>GBR</td>\n",
              "      <td>0</td>\n",
              "      <td>0</td>\n",
              "      <td>0</td>\n",
              "      <td>A</td>\n",
              "      <td>A</td>\n",
              "      <td>No Deposit</td>\n",
              "      <td>NaN</td>\n",
              "      <td>Transient</td>\n",
              "      <td>0</td>\n",
              "      <td>1</td>\n",
              "      <td>Check-Out</td>\n",
              "    </tr>\n",
              "  </tbody>\n",
              "</table>\n",
              "</div>"
            ],
            "text/plain": [
              "          hotel  is_canceled  ... total_of_special_requests  reservation_status\n",
              "0  Resort Hotel            0  ...                         0           Check-Out\n",
              "1  Resort Hotel            0  ...                         0           Check-Out\n",
              "2  Resort Hotel            0  ...                         0           Check-Out\n",
              "3  Resort Hotel            0  ...                         0           Check-Out\n",
              "4  Resort Hotel            0  ...                         1           Check-Out\n",
              "\n",
              "[5 rows x 22 columns]"
            ]
          },
          "metadata": {
            "tags": []
          },
          "execution_count": 9
        }
      ]
    },
    {
      "cell_type": "code",
      "metadata": {
        "colab": {
          "base_uri": "https://localhost:8080/"
        },
        "id": "7Y5-6ftxMehV",
        "outputId": "729ebd01-1ba2-41e3-a914-34079d56106b"
      },
      "source": [
        "# Check for missing values\n",
        "#\n",
        "hotel_df1.isnull().sum()"
      ],
      "execution_count": 10,
      "outputs": [
        {
          "output_type": "execute_result",
          "data": {
            "text/plain": [
              "hotel                                 0\n",
              "is_canceled                           0\n",
              "arrival_date_month                    0\n",
              "arrival_date_day_of_month             0\n",
              "stays_in_weekend_nights               0\n",
              "stays_in_week_nights                  0\n",
              "adults                                0\n",
              "children                              0\n",
              "babies                                0\n",
              "meal                                  0\n",
              "country                             461\n",
              "is_repeated_guest                     0\n",
              "previous_cancellations                0\n",
              "previous_bookings_not_canceled        0\n",
              "reserved_room_type                    0\n",
              "assigned_room_type                    0\n",
              "deposit_type                          0\n",
              "company                           26913\n",
              "customer_type                         0\n",
              "required_car_parking_spaces           0\n",
              "total_of_special_requests             0\n",
              "reservation_status                    0\n",
              "dtype: int64"
            ]
          },
          "metadata": {
            "tags": []
          },
          "execution_count": 10
        }
      ]
    },
    {
      "cell_type": "code",
      "metadata": {
        "colab": {
          "base_uri": "https://localhost:8080/"
        },
        "id": "9q7crEJu-ZVO",
        "outputId": "523840df-32a5-40ef-a5df-371e6c36f1f9"
      },
      "source": [
        "#getting the percentage of missing data in each column\n",
        "#\n",
        "hotel_df1.isnull().sum()/len(hotel_df1)* 100 \n",
        "\n"
      ],
      "execution_count": 11,
      "outputs": [
        {
          "output_type": "execute_result",
          "data": {
            "text/plain": [
              "hotel                              0.000000\n",
              "is_canceled                        0.000000\n",
              "arrival_date_month                 0.000000\n",
              "arrival_date_day_of_month          0.000000\n",
              "stays_in_weekend_nights            0.000000\n",
              "stays_in_week_nights               0.000000\n",
              "adults                             0.000000\n",
              "children                           0.000000\n",
              "babies                             0.000000\n",
              "meal                               0.000000\n",
              "country                            1.575314\n",
              "is_repeated_guest                  0.000000\n",
              "previous_cancellations             0.000000\n",
              "previous_bookings_not_canceled     0.000000\n",
              "reserved_room_type                 0.000000\n",
              "assigned_room_type                 0.000000\n",
              "deposit_type                       0.000000\n",
              "company                           91.966238\n",
              "customer_type                      0.000000\n",
              "required_car_parking_spaces        0.000000\n",
              "total_of_special_requests          0.000000\n",
              "reservation_status                 0.000000\n",
              "dtype: float64"
            ]
          },
          "metadata": {
            "tags": []
          },
          "execution_count": 11
        }
      ]
    },
    {
      "cell_type": "code",
      "metadata": {
        "colab": {
          "base_uri": "https://localhost:8080/"
        },
        "id": "pmbTRkCHRvtx",
        "outputId": "bf12dbe8-296c-455a-f0c8-eaed90c45268"
      },
      "source": [
        "# as a role of thumb, drop any colunm with more than 25% of the missing data.\r\n",
        "#\r\n",
        "hotel_df1 = hotel_df1[hotel_df1.columns[hotel_df1.isnull().mean() < 0.25]]\r\n",
        "hotel_df1.shape"
      ],
      "execution_count": 12,
      "outputs": [
        {
          "output_type": "execute_result",
          "data": {
            "text/plain": [
              "(29264, 21)"
            ]
          },
          "metadata": {
            "tags": []
          },
          "execution_count": 12
        }
      ]
    },
    {
      "cell_type": "code",
      "metadata": {
        "colab": {
          "base_uri": "https://localhost:8080/"
        },
        "id": "p2Na8U-Nibmc",
        "outputId": "27ca9fd8-50b1-429b-9fcd-b13c397533ba"
      },
      "source": [
        "hotel_df1.isnull().sum()"
      ],
      "execution_count": 13,
      "outputs": [
        {
          "output_type": "execute_result",
          "data": {
            "text/plain": [
              "hotel                               0\n",
              "is_canceled                         0\n",
              "arrival_date_month                  0\n",
              "arrival_date_day_of_month           0\n",
              "stays_in_weekend_nights             0\n",
              "stays_in_week_nights                0\n",
              "adults                              0\n",
              "children                            0\n",
              "babies                              0\n",
              "meal                                0\n",
              "country                           461\n",
              "is_repeated_guest                   0\n",
              "previous_cancellations              0\n",
              "previous_bookings_not_canceled      0\n",
              "reserved_room_type                  0\n",
              "assigned_room_type                  0\n",
              "deposit_type                        0\n",
              "customer_type                       0\n",
              "required_car_parking_spaces         0\n",
              "total_of_special_requests           0\n",
              "reservation_status                  0\n",
              "dtype: int64"
            ]
          },
          "metadata": {
            "tags": []
          },
          "execution_count": 13
        }
      ]
    },
    {
      "cell_type": "markdown",
      "metadata": {
        "id": "tqrLfU6KFcpa"
      },
      "source": [
        "**observation**: the data type are appropriate now and there is a clue that we have null values."
      ]
    },
    {
      "cell_type": "code",
      "metadata": {
        "id": "yl3vmAloWEvS"
      },
      "source": [
        "#filling the missing values of children variable with the mean\r\n",
        "#\r\n",
        "hotel_df1['children']= hotel_df1['children'].fillna(hotel_df1['children'].mean(), axis = 0)"
      ],
      "execution_count": 14,
      "outputs": []
    },
    {
      "cell_type": "code",
      "metadata": {
        "id": "FEupuJl0wnoQ"
      },
      "source": [
        "#filling the missing values in the country variable with mode\r\n",
        "#\r\n",
        "hotel_df1.fillna({'country': hotel_df1['country'].mode()[0]}, inplace=True)"
      ],
      "execution_count": 15,
      "outputs": []
    },
    {
      "cell_type": "code",
      "metadata": {
        "colab": {
          "base_uri": "https://localhost:8080/"
        },
        "id": "jnHWKO1b8VVA",
        "outputId": "bef1ab6a-5422-4a0e-cbb7-2771ac63fda8"
      },
      "source": [
        "hotel_df1.columns"
      ],
      "execution_count": 16,
      "outputs": [
        {
          "output_type": "execute_result",
          "data": {
            "text/plain": [
              "Index(['hotel', 'is_canceled', 'arrival_date_month',\n",
              "       'arrival_date_day_of_month', 'stays_in_weekend_nights',\n",
              "       'stays_in_week_nights', 'adults', 'children', 'babies', 'meal',\n",
              "       'country', 'is_repeated_guest', 'previous_cancellations',\n",
              "       'previous_bookings_not_canceled', 'reserved_room_type',\n",
              "       'assigned_room_type', 'deposit_type', 'customer_type',\n",
              "       'required_car_parking_spaces', 'total_of_special_requests',\n",
              "       'reservation_status'],\n",
              "      dtype='object')"
            ]
          },
          "metadata": {
            "tags": []
          },
          "execution_count": 16
        }
      ]
    },
    {
      "cell_type": "code",
      "metadata": {
        "colab": {
          "base_uri": "https://localhost:8080/"
        },
        "id": "YxKam3kmauUf",
        "outputId": "efd8bd6f-a6a6-4167-de2d-808f32983ebf"
      },
      "source": [
        "#confriming no missing values.\r\n",
        "#\r\n",
        "hotel_df1.isnull().sum().any()"
      ],
      "execution_count": 17,
      "outputs": [
        {
          "output_type": "execute_result",
          "data": {
            "text/plain": [
              "False"
            ]
          },
          "metadata": {
            "tags": []
          },
          "execution_count": 17
        }
      ]
    },
    {
      "cell_type": "code",
      "metadata": {
        "colab": {
          "base_uri": "https://localhost:8080/"
        },
        "id": "v8iLOu9v_95A",
        "outputId": "ba46bb9b-0cff-4553-8afb-fbd2c8604840"
      },
      "source": [
        "# Checking if there are duplicates\n",
        "#\n",
        "hotel_df1.duplicated().sum()"
      ],
      "execution_count": 18,
      "outputs": [
        {
          "output_type": "execute_result",
          "data": {
            "text/plain": [
              "6720"
            ]
          },
          "metadata": {
            "tags": []
          },
          "execution_count": 18
        }
      ]
    },
    {
      "cell_type": "code",
      "metadata": {
        "colab": {
          "base_uri": "https://localhost:8080/"
        },
        "id": "j6TQDnf7C_el",
        "outputId": "8bebfc68-b155-4d54-ce78-4fa3e3959a25"
      },
      "source": [
        "# Dropping duplicates\n",
        "hotel_df1.drop_duplicates(inplace=True)\n",
        "#\n",
        "#confirm no duplicates\n",
        "#\n",
        "hotel_df1.duplicated().any()"
      ],
      "execution_count": 19,
      "outputs": [
        {
          "output_type": "execute_result",
          "data": {
            "text/plain": [
              "False"
            ]
          },
          "metadata": {
            "tags": []
          },
          "execution_count": 19
        }
      ]
    },
    {
      "cell_type": "code",
      "metadata": {
        "colab": {
          "base_uri": "https://localhost:8080/"
        },
        "id": "PiIC8lhTD4rR",
        "outputId": "363cac90-0bb5-4a2c-91cd-0aff26832ecd"
      },
      "source": [
        "#To remove white spaces in our columns\n",
        "hotel_df1.columns.str.replace(\" \",\" \")"
      ],
      "execution_count": 20,
      "outputs": [
        {
          "output_type": "execute_result",
          "data": {
            "text/plain": [
              "Index(['hotel', 'is_canceled', 'arrival_date_month',\n",
              "       'arrival_date_day_of_month', 'stays_in_weekend_nights',\n",
              "       'stays_in_week_nights', 'adults', 'children', 'babies', 'meal',\n",
              "       'country', 'is_repeated_guest', 'previous_cancellations',\n",
              "       'previous_bookings_not_canceled', 'reserved_room_type',\n",
              "       'assigned_room_type', 'deposit_type', 'customer_type',\n",
              "       'required_car_parking_spaces', 'total_of_special_requests',\n",
              "       'reservation_status'],\n",
              "      dtype='object')"
            ]
          },
          "metadata": {
            "tags": []
          },
          "execution_count": 20
        }
      ]
    },
    {
      "cell_type": "code",
      "metadata": {
        "colab": {
          "base_uri": "https://localhost:8080/",
          "height": 1000
        },
        "id": "8AACuQOzRfNv",
        "outputId": "5969f039-eeea-4ec7-88b3-dee86f523941"
      },
      "source": [
        "# To check for outliers through boxplots\n",
        "#\n",
        "\n",
        "fig, ((ax1, ax2), (ax3, ax4),(ax5, ax6), (ax7, ax8)) = plt.subplots(4,2, figsize=(15, 15))\n",
        "\n",
        "fig.suptitle('Boxplots')\n",
        "sns.boxplot(hotel_df1['stays_in_weekend_nights'], ax=ax1)\n",
        "sns.boxplot(hotel_df1['stays_in_week_nights'], ax=ax2)\n",
        "sns.boxplot(hotel_df1['adults'], ax=ax3)\n",
        "sns.boxplot(hotel_df1['babies'], ax=ax4)\n",
        "sns.boxplot(hotel_df1['is_repeated_guest'], ax=ax5)\n",
        "sns.boxplot(hotel_df1['previous_cancellations'], ax=ax6)\n",
        "sns.boxplot(hotel_df1['previous_bookings_not_canceled'], ax=ax7)\n",
        "plt.show()"
      ],
      "execution_count": 21,
      "outputs": [
        {
          "output_type": "stream",
          "text": [
            "/usr/local/lib/python3.6/dist-packages/seaborn/_decorators.py:43: FutureWarning: Pass the following variable as a keyword arg: x. From version 0.12, the only valid positional argument will be `data`, and passing other arguments without an explicit keyword will result in an error or misinterpretation.\n",
            "  FutureWarning\n",
            "/usr/local/lib/python3.6/dist-packages/seaborn/_decorators.py:43: FutureWarning: Pass the following variable as a keyword arg: x. From version 0.12, the only valid positional argument will be `data`, and passing other arguments without an explicit keyword will result in an error or misinterpretation.\n",
            "  FutureWarning\n",
            "/usr/local/lib/python3.6/dist-packages/seaborn/_decorators.py:43: FutureWarning: Pass the following variable as a keyword arg: x. From version 0.12, the only valid positional argument will be `data`, and passing other arguments without an explicit keyword will result in an error or misinterpretation.\n",
            "  FutureWarning\n",
            "/usr/local/lib/python3.6/dist-packages/seaborn/_decorators.py:43: FutureWarning: Pass the following variable as a keyword arg: x. From version 0.12, the only valid positional argument will be `data`, and passing other arguments without an explicit keyword will result in an error or misinterpretation.\n",
            "  FutureWarning\n",
            "/usr/local/lib/python3.6/dist-packages/seaborn/_decorators.py:43: FutureWarning: Pass the following variable as a keyword arg: x. From version 0.12, the only valid positional argument will be `data`, and passing other arguments without an explicit keyword will result in an error or misinterpretation.\n",
            "  FutureWarning\n",
            "/usr/local/lib/python3.6/dist-packages/seaborn/_decorators.py:43: FutureWarning: Pass the following variable as a keyword arg: x. From version 0.12, the only valid positional argument will be `data`, and passing other arguments without an explicit keyword will result in an error or misinterpretation.\n",
            "  FutureWarning\n",
            "/usr/local/lib/python3.6/dist-packages/seaborn/_decorators.py:43: FutureWarning: Pass the following variable as a keyword arg: x. From version 0.12, the only valid positional argument will be `data`, and passing other arguments without an explicit keyword will result in an error or misinterpretation.\n",
            "  FutureWarning\n"
          ],
          "name": "stderr"
        },
        {
          "output_type": "display_data",
          "data": {
            "image/png": "[encoded data removed]",
            "text/plain": [
              "<Figure size 1080x1080 with 8 Axes>"
            ]
          },
          "metadata": {
            "tags": [],
            "needs_background": "light"
          }
        }
      ]
    },
    {
      "cell_type": "code",
      "metadata": {
        "colab": {
          "base_uri": "https://localhost:8080/"
        },
        "id": "axYlnoU2PMIL",
        "outputId": "eabef785-09a6-4b46-9624-6efda4db6c2f"
      },
      "source": [
        "# Check for outliers through IQR Score\n",
        "\n",
        "# we first get the interquantile range for each column\n",
        "Q1 = hotel_df1.quantile(0.25)\n",
        "Q3 = hotel_df1.quantile(0.75)\n",
        "IQR = Q3 - Q1\n",
        "print(IQR)"
      ],
      "execution_count": 22,
      "outputs": [
        {
          "output_type": "stream",
          "text": [
            "is_canceled                        1.0\n",
            "arrival_date_day_of_month         15.0\n",
            "stays_in_weekend_nights            2.0\n",
            "stays_in_week_nights               4.0\n",
            "adults                             0.0\n",
            "children                           0.0\n",
            "babies                             0.0\n",
            "is_repeated_guest                  0.0\n",
            "previous_cancellations             0.0\n",
            "previous_bookings_not_canceled     0.0\n",
            "required_car_parking_spaces        0.0\n",
            "total_of_special_requests          1.0\n",
            "dtype: float64\n"
          ],
          "name": "stdout"
        }
      ]
    },
    {
      "cell_type": "code",
      "metadata": {
        "colab": {
          "base_uri": "https://localhost:8080/",
          "height": 439
        },
        "id": "i1k9hHIBP-e1",
        "outputId": "042070dc-5170-4351-a00e-6026068c54e7"
      },
      "source": [
        "# We then get the outliers as follows:\n",
        "# True means presence of outliers\n",
        "\n",
        "(hotel_df1 < (Q1 - 1.5 * IQR)) |(hotel_df1 > (Q3 + 1.5 * IQR))"
      ],
      "execution_count": 23,
      "outputs": [
        {
          "output_type": "execute_result",
          "data": {
            "text/html": [
              "<div>\n",
              "<style scoped>\n",
              "    .dataframe tbody tr th:only-of-type {\n",
              "        vertical-align: middle;\n",
              "    }\n",
              "\n",
              "    .dataframe tbody tr th {\n",
              "        vertical-align: top;\n",
              "    }\n",
              "\n",
              "    .dataframe thead th {\n",
              "        text-align: right;\n",
              "    }\n",
              "</style>\n",
              "<table border=\"1\" class=\"dataframe\">\n",
              "  <thead>\n",
              "    <tr style=\"text-align: right;\">\n",
              "      <th></th>\n",
              "      <th>adults</th>\n",
              "      <th>arrival_date_day_of_month</th>\n",
              "      <th>arrival_date_month</th>\n",
              "      <th>assigned_room_type</th>\n",
              "      <th>babies</th>\n",
              "      <th>children</th>\n",
              "      <th>country</th>\n",
              "      <th>customer_type</th>\n",
              "      <th>deposit_type</th>\n",
              "      <th>hotel</th>\n",
              "      <th>is_canceled</th>\n",
              "      <th>is_repeated_guest</th>\n",
              "      <th>meal</th>\n",
              "      <th>previous_bookings_not_canceled</th>\n",
              "      <th>previous_cancellations</th>\n",
              "      <th>required_car_parking_spaces</th>\n",
              "      <th>reservation_status</th>\n",
              "      <th>reserved_room_type</th>\n",
              "      <th>stays_in_week_nights</th>\n",
              "      <th>stays_in_weekend_nights</th>\n",
              "      <th>total_of_special_requests</th>\n",
              "    </tr>\n",
              "  </thead>\n",
              "  <tbody>\n",
              "    <tr>\n",
              "      <th>0</th>\n",
              "      <td>False</td>\n",
              "      <td>False</td>\n",
              "      <td>False</td>\n",
              "      <td>False</td>\n",
              "      <td>False</td>\n",
              "      <td>False</td>\n",
              "      <td>False</td>\n",
              "      <td>False</td>\n",
              "      <td>False</td>\n",
              "      <td>False</td>\n",
              "      <td>False</td>\n",
              "      <td>False</td>\n",
              "      <td>False</td>\n",
              "      <td>False</td>\n",
              "      <td>False</td>\n",
              "      <td>False</td>\n",
              "      <td>False</td>\n",
              "      <td>False</td>\n",
              "      <td>False</td>\n",
              "      <td>False</td>\n",
              "      <td>False</td>\n",
              "    </tr>\n",
              "    <tr>\n",
              "      <th>2</th>\n",
              "      <td>True</td>\n",
              "      <td>False</td>\n",
              "      <td>False</td>\n",
              "      <td>False</td>\n",
              "      <td>False</td>\n",
              "      <td>False</td>\n",
              "      <td>False</td>\n",
              "      <td>False</td>\n",
              "      <td>False</td>\n",
              "      <td>False</td>\n",
              "      <td>False</td>\n",
              "      <td>False</td>\n",
              "      <td>False</td>\n",
              "      <td>False</td>\n",
              "      <td>False</td>\n",
              "      <td>False</td>\n",
              "      <td>False</td>\n",
              "      <td>False</td>\n",
              "      <td>False</td>\n",
              "      <td>False</td>\n",
              "      <td>False</td>\n",
              "    </tr>\n",
              "    <tr>\n",
              "      <th>3</th>\n",
              "      <td>True</td>\n",
              "      <td>False</td>\n",
              "      <td>False</td>\n",
              "      <td>False</td>\n",
              "      <td>False</td>\n",
              "      <td>False</td>\n",
              "      <td>False</td>\n",
              "      <td>False</td>\n",
              "      <td>False</td>\n",
              "      <td>False</td>\n",
              "      <td>False</td>\n",
              "      <td>False</td>\n",
              "      <td>False</td>\n",
              "      <td>False</td>\n",
              "      <td>False</td>\n",
              "      <td>False</td>\n",
              "      <td>False</td>\n",
              "      <td>False</td>\n",
              "      <td>False</td>\n",
              "      <td>False</td>\n",
              "      <td>False</td>\n",
              "    </tr>\n",
              "    <tr>\n",
              "      <th>4</th>\n",
              "      <td>False</td>\n",
              "      <td>False</td>\n",
              "      <td>False</td>\n",
              "      <td>False</td>\n",
              "      <td>False</td>\n",
              "      <td>False</td>\n",
              "      <td>False</td>\n",
              "      <td>False</td>\n",
              "      <td>False</td>\n",
              "      <td>False</td>\n",
              "      <td>False</td>\n",
              "      <td>False</td>\n",
              "      <td>False</td>\n",
              "      <td>False</td>\n",
              "      <td>False</td>\n",
              "      <td>False</td>\n",
              "      <td>False</td>\n",
              "      <td>False</td>\n",
              "      <td>False</td>\n",
              "      <td>False</td>\n",
              "      <td>False</td>\n",
              "    </tr>\n",
              "    <tr>\n",
              "      <th>6</th>\n",
              "      <td>False</td>\n",
              "      <td>False</td>\n",
              "      <td>False</td>\n",
              "      <td>False</td>\n",
              "      <td>False</td>\n",
              "      <td>False</td>\n",
              "      <td>False</td>\n",
              "      <td>False</td>\n",
              "      <td>False</td>\n",
              "      <td>False</td>\n",
              "      <td>False</td>\n",
              "      <td>False</td>\n",
              "      <td>False</td>\n",
              "      <td>False</td>\n",
              "      <td>False</td>\n",
              "      <td>False</td>\n",
              "      <td>False</td>\n",
              "      <td>False</td>\n",
              "      <td>False</td>\n",
              "      <td>False</td>\n",
              "      <td>False</td>\n",
              "    </tr>\n",
              "    <tr>\n",
              "      <th>...</th>\n",
              "      <td>...</td>\n",
              "      <td>...</td>\n",
              "      <td>...</td>\n",
              "      <td>...</td>\n",
              "      <td>...</td>\n",
              "      <td>...</td>\n",
              "      <td>...</td>\n",
              "      <td>...</td>\n",
              "      <td>...</td>\n",
              "      <td>...</td>\n",
              "      <td>...</td>\n",
              "      <td>...</td>\n",
              "      <td>...</td>\n",
              "      <td>...</td>\n",
              "      <td>...</td>\n",
              "      <td>...</td>\n",
              "      <td>...</td>\n",
              "      <td>...</td>\n",
              "      <td>...</td>\n",
              "      <td>...</td>\n",
              "      <td>...</td>\n",
              "    </tr>\n",
              "    <tr>\n",
              "      <th>29258</th>\n",
              "      <td>False</td>\n",
              "      <td>False</td>\n",
              "      <td>False</td>\n",
              "      <td>False</td>\n",
              "      <td>False</td>\n",
              "      <td>False</td>\n",
              "      <td>False</td>\n",
              "      <td>False</td>\n",
              "      <td>False</td>\n",
              "      <td>False</td>\n",
              "      <td>False</td>\n",
              "      <td>False</td>\n",
              "      <td>False</td>\n",
              "      <td>False</td>\n",
              "      <td>False</td>\n",
              "      <td>True</td>\n",
              "      <td>False</td>\n",
              "      <td>False</td>\n",
              "      <td>False</td>\n",
              "      <td>False</td>\n",
              "      <td>False</td>\n",
              "    </tr>\n",
              "    <tr>\n",
              "      <th>29260</th>\n",
              "      <td>False</td>\n",
              "      <td>False</td>\n",
              "      <td>False</td>\n",
              "      <td>False</td>\n",
              "      <td>False</td>\n",
              "      <td>False</td>\n",
              "      <td>False</td>\n",
              "      <td>False</td>\n",
              "      <td>False</td>\n",
              "      <td>False</td>\n",
              "      <td>False</td>\n",
              "      <td>False</td>\n",
              "      <td>False</td>\n",
              "      <td>False</td>\n",
              "      <td>False</td>\n",
              "      <td>False</td>\n",
              "      <td>False</td>\n",
              "      <td>False</td>\n",
              "      <td>False</td>\n",
              "      <td>False</td>\n",
              "      <td>False</td>\n",
              "    </tr>\n",
              "    <tr>\n",
              "      <th>29261</th>\n",
              "      <td>False</td>\n",
              "      <td>False</td>\n",
              "      <td>False</td>\n",
              "      <td>False</td>\n",
              "      <td>False</td>\n",
              "      <td>False</td>\n",
              "      <td>False</td>\n",
              "      <td>False</td>\n",
              "      <td>False</td>\n",
              "      <td>False</td>\n",
              "      <td>False</td>\n",
              "      <td>False</td>\n",
              "      <td>False</td>\n",
              "      <td>False</td>\n",
              "      <td>False</td>\n",
              "      <td>False</td>\n",
              "      <td>False</td>\n",
              "      <td>False</td>\n",
              "      <td>False</td>\n",
              "      <td>False</td>\n",
              "      <td>False</td>\n",
              "    </tr>\n",
              "    <tr>\n",
              "      <th>29262</th>\n",
              "      <td>False</td>\n",
              "      <td>False</td>\n",
              "      <td>False</td>\n",
              "      <td>False</td>\n",
              "      <td>False</td>\n",
              "      <td>False</td>\n",
              "      <td>False</td>\n",
              "      <td>False</td>\n",
              "      <td>False</td>\n",
              "      <td>False</td>\n",
              "      <td>False</td>\n",
              "      <td>False</td>\n",
              "      <td>False</td>\n",
              "      <td>False</td>\n",
              "      <td>False</td>\n",
              "      <td>False</td>\n",
              "      <td>False</td>\n",
              "      <td>False</td>\n",
              "      <td>False</td>\n",
              "      <td>False</td>\n",
              "      <td>False</td>\n",
              "    </tr>\n",
              "    <tr>\n",
              "      <th>29263</th>\n",
              "      <td>True</td>\n",
              "      <td>False</td>\n",
              "      <td>False</td>\n",
              "      <td>False</td>\n",
              "      <td>False</td>\n",
              "      <td>False</td>\n",
              "      <td>False</td>\n",
              "      <td>False</td>\n",
              "      <td>False</td>\n",
              "      <td>False</td>\n",
              "      <td>False</td>\n",
              "      <td>False</td>\n",
              "      <td>False</td>\n",
              "      <td>False</td>\n",
              "      <td>False</td>\n",
              "      <td>False</td>\n",
              "      <td>False</td>\n",
              "      <td>False</td>\n",
              "      <td>False</td>\n",
              "      <td>False</td>\n",
              "      <td>False</td>\n",
              "    </tr>\n",
              "  </tbody>\n",
              "</table>\n",
              "<p>22544 rows × 21 columns</p>\n",
              "</div>"
            ],
            "text/plain": [
              "       adults  ...  total_of_special_requests\n",
              "0       False  ...                      False\n",
              "2        True  ...                      False\n",
              "3        True  ...                      False\n",
              "4       False  ...                      False\n",
              "6       False  ...                      False\n",
              "...       ...  ...                        ...\n",
              "29258   False  ...                      False\n",
              "29260   False  ...                      False\n",
              "29261   False  ...                      False\n",
              "29262   False  ...                      False\n",
              "29263    True  ...                      False\n",
              "\n",
              "[22544 rows x 21 columns]"
            ]
          },
          "metadata": {
            "tags": []
          },
          "execution_count": 23
        }
      ]
    },
    {
      "cell_type": "code",
      "metadata": {
        "colab": {
          "base_uri": "https://localhost:8080/"
        },
        "id": "Ij1NdDpyRGTR",
        "outputId": "0b9b35c9-ee87-4ee4-a2c6-538074c0f4db"
      },
      "source": [
        "# We then filter out outliers and remain with valid values as follows\n",
        "\n",
        "df_clean = hotel_df1[~((hotel_df1 < (Q1 - 1.5 * IQR)) |(hotel_df1 > (Q3 + 1.5 * IQR))).any(axis=1)]\n",
        "df_clean.shape"
      ],
      "execution_count": 24,
      "outputs": [
        {
          "output_type": "execute_result",
          "data": {
            "text/plain": [
              "(12025, 21)"
            ]
          },
          "metadata": {
            "tags": []
          },
          "execution_count": 24
        }
      ]
    },
    {
      "cell_type": "markdown",
      "metadata": {
        "id": "4rKTmfSanKl0"
      },
      "source": [
        "**observation**: clean dataset has 43962 records and 21 variables."
      ]
    },
    {
      "cell_type": "code",
      "metadata": {
        "colab": {
          "base_uri": "https://localhost:8080/"
        },
        "id": "LsIWJfgaGIEN",
        "outputId": "9dede939-e2f7-41b2-dba7-378fd6dadfbe"
      },
      "source": [
        "#converting the data to the correct datatype- float\r\n",
        "#\r\n",
        "df_clean[[\"is_canceled\", \"arrival_date_day_of_month\", \"stays_in_weekend_nights\", \"adults\", \"adults\", \"previous_cancellations\",\"previous_cancellations\", \"previous_bookings_not_canceled\",\"required_car_parking_spaces\", \"total_of_special_requests\" ]] = df_clean[[\"is_canceled\", \"arrival_date_day_of_month\", \"stays_in_weekend_nights\", \"adults\", \"adults\", \"previous_cancellations\",\"previous_cancellations\", \"previous_bookings_not_canceled\",\"required_car_parking_spaces\", \"total_of_special_requests\"]].astype(float)\r\n",
        "#\r\n",
        "\r\n",
        "#converting categorical variables to the correct datatype-category\r\n",
        "#\r\n",
        "df_clean[[\"hotel\",\"arrival_date_month\",\"meal\", \"country\", \"reserved_room_type\",\"assigned_room_type\", \"deposit_type\", \"customer_type\", \"reservation_status\" ]] = df_clean[[\"hotel\",\"arrival_date_month\",\"meal\", \"country\", \"reserved_room_type\",\"assigned_room_type\", \"deposit_type\", \"customer_type\", \"reservation_status\"]].astype('category')"
      ],
      "execution_count": 25,
      "outputs": [
        {
          "output_type": "stream",
          "text": [
            "/usr/local/lib/python3.6/dist-packages/pandas/core/frame.py:3069: SettingWithCopyWarning: \n",
            "A value is trying to be set on a copy of a slice from a DataFrame.\n",
            "Try using .loc[row_indexer,col_indexer] = value instead\n",
            "\n",
            "See the caveats in the documentation: https://pandas.pydata.org/pandas-docs/stable/user_guide/indexing.html#returning-a-view-versus-a-copy\n",
            "  self[k1] = value[k2]\n"
          ],
          "name": "stderr"
        }
      ]
    },
    {
      "cell_type": "code",
      "metadata": {
        "colab": {
          "base_uri": "https://localhost:8080/"
        },
        "id": "PhJTTxDGGLPp",
        "outputId": "64987c07-9a71-4529-aec3-53efe0a6bd94"
      },
      "source": [
        "df_clean.info()"
      ],
      "execution_count": 26,
      "outputs": [
        {
          "output_type": "stream",
          "text": [
            "<class 'pandas.core.frame.DataFrame'>\n",
            "Int64Index: 12025 entries, 0 to 29262\n",
            "Data columns (total 21 columns):\n",
            " #   Column                          Non-Null Count  Dtype   \n",
            "---  ------                          --------------  -----   \n",
            " 0   hotel                           12025 non-null  category\n",
            " 1   is_canceled                     12025 non-null  float64 \n",
            " 2   arrival_date_month              12025 non-null  category\n",
            " 3   arrival_date_day_of_month       12025 non-null  float64 \n",
            " 4   stays_in_weekend_nights         12025 non-null  float64 \n",
            " 5   stays_in_week_nights            12025 non-null  int64   \n",
            " 6   adults                          12025 non-null  float64 \n",
            " 7   children                        12025 non-null  int64   \n",
            " 8   babies                          12025 non-null  int64   \n",
            " 9   meal                            12025 non-null  category\n",
            " 10  country                         12025 non-null  category\n",
            " 11  is_repeated_guest               12025 non-null  int64   \n",
            " 12  previous_cancellations          12025 non-null  float64 \n",
            " 13  previous_bookings_not_canceled  12025 non-null  float64 \n",
            " 14  reserved_room_type              12025 non-null  category\n",
            " 15  assigned_room_type              12025 non-null  category\n",
            " 16  deposit_type                    12025 non-null  category\n",
            " 17  customer_type                   12025 non-null  category\n",
            " 18  required_car_parking_spaces     12025 non-null  float64 \n",
            " 19  total_of_special_requests       12025 non-null  float64 \n",
            " 20  reservation_status              12025 non-null  category\n",
            "dtypes: category(9), float64(8), int64(4)\n",
            "memory usage: 1.3 MB\n"
          ],
          "name": "stdout"
        }
      ]
    },
    {
      "cell_type": "markdown",
      "metadata": {
        "id": "17-CD9dReEB9"
      },
      "source": [
        "##6. Exploratory Data Analysis"
      ]
    },
    {
      "cell_type": "markdown",
      "metadata": {
        "id": "GLN657i9CLgo"
      },
      "source": [
        "## Univariate analysis\n",
        "\n",
        "We will now perform univariate analysis. This is a type of analysis done only one variable. This type of analysis will be helpful in understanding the characteristics of each variables.\n",
        "\n",
        "\n",
        "\n",
        "\n"
      ]
    },
    {
      "cell_type": "code",
      "metadata": {
        "colab": {
          "base_uri": "https://localhost:8080/",
          "height": 309
        },
        "id": "TqoCnLnOGRb1",
        "outputId": "da59c38a-8ac0-4ea8-9411-eb04b7756ed6"
      },
      "source": [
        "# preview of our dataset\r\n",
        "#\r\n",
        "df_clean.head()"
      ],
      "execution_count": 27,
      "outputs": [
        {
          "output_type": "execute_result",
          "data": {
            "text/html": [
              "<div>\n",
              "<style scoped>\n",
              "    .dataframe tbody tr th:only-of-type {\n",
              "        vertical-align: middle;\n",
              "    }\n",
              "\n",
              "    .dataframe tbody tr th {\n",
              "        vertical-align: top;\n",
              "    }\n",
              "\n",
              "    .dataframe thead th {\n",
              "        text-align: right;\n",
              "    }\n",
              "</style>\n",
              "<table border=\"1\" class=\"dataframe\">\n",
              "  <thead>\n",
              "    <tr style=\"text-align: right;\">\n",
              "      <th></th>\n",
              "      <th>hotel</th>\n",
              "      <th>is_canceled</th>\n",
              "      <th>arrival_date_month</th>\n",
              "      <th>arrival_date_day_of_month</th>\n",
              "      <th>stays_in_weekend_nights</th>\n",
              "      <th>stays_in_week_nights</th>\n",
              "      <th>adults</th>\n",
              "      <th>children</th>\n",
              "      <th>babies</th>\n",
              "      <th>meal</th>\n",
              "      <th>country</th>\n",
              "      <th>is_repeated_guest</th>\n",
              "      <th>previous_cancellations</th>\n",
              "      <th>previous_bookings_not_canceled</th>\n",
              "      <th>reserved_room_type</th>\n",
              "      <th>assigned_room_type</th>\n",
              "      <th>deposit_type</th>\n",
              "      <th>customer_type</th>\n",
              "      <th>required_car_parking_spaces</th>\n",
              "      <th>total_of_special_requests</th>\n",
              "      <th>reservation_status</th>\n",
              "    </tr>\n",
              "  </thead>\n",
              "  <tbody>\n",
              "    <tr>\n",
              "      <th>0</th>\n",
              "      <td>Resort Hotel</td>\n",
              "      <td>0.0</td>\n",
              "      <td>July</td>\n",
              "      <td>1.0</td>\n",
              "      <td>0.0</td>\n",
              "      <td>0</td>\n",
              "      <td>2.0</td>\n",
              "      <td>0</td>\n",
              "      <td>0</td>\n",
              "      <td>BB</td>\n",
              "      <td>PRT</td>\n",
              "      <td>0</td>\n",
              "      <td>0.0</td>\n",
              "      <td>0.0</td>\n",
              "      <td>C</td>\n",
              "      <td>C</td>\n",
              "      <td>No Deposit</td>\n",
              "      <td>Transient</td>\n",
              "      <td>0.0</td>\n",
              "      <td>0.0</td>\n",
              "      <td>Check-Out</td>\n",
              "    </tr>\n",
              "    <tr>\n",
              "      <th>4</th>\n",
              "      <td>Resort Hotel</td>\n",
              "      <td>0.0</td>\n",
              "      <td>July</td>\n",
              "      <td>1.0</td>\n",
              "      <td>0.0</td>\n",
              "      <td>2</td>\n",
              "      <td>2.0</td>\n",
              "      <td>0</td>\n",
              "      <td>0</td>\n",
              "      <td>BB</td>\n",
              "      <td>GBR</td>\n",
              "      <td>0</td>\n",
              "      <td>0.0</td>\n",
              "      <td>0.0</td>\n",
              "      <td>A</td>\n",
              "      <td>A</td>\n",
              "      <td>No Deposit</td>\n",
              "      <td>Transient</td>\n",
              "      <td>0.0</td>\n",
              "      <td>1.0</td>\n",
              "      <td>Check-Out</td>\n",
              "    </tr>\n",
              "    <tr>\n",
              "      <th>6</th>\n",
              "      <td>Resort Hotel</td>\n",
              "      <td>0.0</td>\n",
              "      <td>July</td>\n",
              "      <td>1.0</td>\n",
              "      <td>0.0</td>\n",
              "      <td>2</td>\n",
              "      <td>2.0</td>\n",
              "      <td>0</td>\n",
              "      <td>0</td>\n",
              "      <td>BB</td>\n",
              "      <td>PRT</td>\n",
              "      <td>0</td>\n",
              "      <td>0.0</td>\n",
              "      <td>0.0</td>\n",
              "      <td>C</td>\n",
              "      <td>C</td>\n",
              "      <td>No Deposit</td>\n",
              "      <td>Transient</td>\n",
              "      <td>0.0</td>\n",
              "      <td>0.0</td>\n",
              "      <td>Check-Out</td>\n",
              "    </tr>\n",
              "    <tr>\n",
              "      <th>7</th>\n",
              "      <td>Resort Hotel</td>\n",
              "      <td>0.0</td>\n",
              "      <td>July</td>\n",
              "      <td>1.0</td>\n",
              "      <td>0.0</td>\n",
              "      <td>2</td>\n",
              "      <td>2.0</td>\n",
              "      <td>0</td>\n",
              "      <td>0</td>\n",
              "      <td>FB</td>\n",
              "      <td>PRT</td>\n",
              "      <td>0</td>\n",
              "      <td>0.0</td>\n",
              "      <td>0.0</td>\n",
              "      <td>C</td>\n",
              "      <td>C</td>\n",
              "      <td>No Deposit</td>\n",
              "      <td>Transient</td>\n",
              "      <td>0.0</td>\n",
              "      <td>1.0</td>\n",
              "      <td>Check-Out</td>\n",
              "    </tr>\n",
              "    <tr>\n",
              "      <th>8</th>\n",
              "      <td>Resort Hotel</td>\n",
              "      <td>1.0</td>\n",
              "      <td>July</td>\n",
              "      <td>1.0</td>\n",
              "      <td>0.0</td>\n",
              "      <td>3</td>\n",
              "      <td>2.0</td>\n",
              "      <td>0</td>\n",
              "      <td>0</td>\n",
              "      <td>BB</td>\n",
              "      <td>PRT</td>\n",
              "      <td>0</td>\n",
              "      <td>0.0</td>\n",
              "      <td>0.0</td>\n",
              "      <td>A</td>\n",
              "      <td>A</td>\n",
              "      <td>No Deposit</td>\n",
              "      <td>Transient</td>\n",
              "      <td>0.0</td>\n",
              "      <td>1.0</td>\n",
              "      <td>Canceled</td>\n",
              "    </tr>\n",
              "  </tbody>\n",
              "</table>\n",
              "</div>"
            ],
            "text/plain": [
              "          hotel  is_canceled  ... total_of_special_requests  reservation_status\n",
              "0  Resort Hotel          0.0  ...                       0.0           Check-Out\n",
              "4  Resort Hotel          0.0  ...                       1.0           Check-Out\n",
              "6  Resort Hotel          0.0  ...                       0.0           Check-Out\n",
              "7  Resort Hotel          0.0  ...                       1.0           Check-Out\n",
              "8  Resort Hotel          1.0  ...                       1.0            Canceled\n",
              "\n",
              "[5 rows x 21 columns]"
            ]
          },
          "metadata": {
            "tags": []
          },
          "execution_count": 27
        }
      ]
    },
    {
      "cell_type": "code",
      "metadata": {
        "colab": {
          "base_uri": "https://localhost:8080/",
          "height": 357
        },
        "id": "2gvdZEpgkj83",
        "outputId": "b6c5ea8c-1ea9-41b3-c0ea-9e490f61b8dc"
      },
      "source": [
        "#univariate analysis: hotel variable piechart\r\n",
        "#\r\n",
        "plt.figure(figsize = (6, 6))\r\n",
        "df_clean.hotel.value_counts().plot(kind = 'pie', autopct = '%0.1f%%')\r\n",
        "plt.show()"
      ],
      "execution_count": 28,
      "outputs": [
        {
          "output_type": "display_data",
          "data": {
            "image/png": "[encoded data removed]",
            "text/plain": [
              "<Figure size 432x432 with 1 Axes>"
            ]
          },
          "metadata": {
            "tags": []
          }
        }
      ]
    },
    {
      "cell_type": "markdown",
      "metadata": {
        "id": "Z17Keoj4lPwz"
      },
      "source": [
        "**observation**: city hotel registered a higher reservation of 63.7%"
      ]
    },
    {
      "cell_type": "code",
      "metadata": {
        "colab": {
          "base_uri": "https://localhost:8080/",
          "height": 357
        },
        "id": "zTEV-DE4k7Xn",
        "outputId": "eb1d22d0-f14f-4103-e03f-d86243e8203d"
      },
      "source": [
        "#univariate analysis: is cancelled variable piechart\r\n",
        "#\r\n",
        "plt.figure(figsize = (6, 6))\r\n",
        "df_clean.is_canceled.value_counts().plot(kind = 'pie', autopct = '%0.1f%%')\r\n",
        "plt.show()\r\n",
        "\r\n",
        "#0=> not cancelled\r\n",
        "#1=> cancelled"
      ],
      "execution_count": 29,
      "outputs": [
        {
          "output_type": "display_data",
          "data": {
            "image/png": "[encoded data removed]",
            "text/plain": [
              "<Figure size 432x432 with 1 Axes>"
            ]
          },
          "metadata": {
            "tags": []
          }
        }
      ]
    },
    {
      "cell_type": "markdown",
      "metadata": {
        "id": "0RogISm6lFXy"
      },
      "source": [
        "**observation**: only 31% of reversation was cancelled."
      ]
    },
    {
      "cell_type": "code",
      "metadata": {
        "colab": {
          "base_uri": "https://localhost:8080/",
          "height": 340
        },
        "id": "0UGW0vopk2-D",
        "outputId": "45aad49b-ccd9-4414-cb31-b72a3d3a0b90"
      },
      "source": [
        "# univariate analysis: month of arrival variable histogram\r\n",
        "#\r\n",
        "plt.hist(df_clean['arrival_date_month'], bins=12, histtype='bar', rwidth=0.9)\r\n",
        "plt.xticks(rotation=90)\r\n",
        "plt.xlabel('months')\r\n",
        "plt.ylabel('frequency')\r\n",
        "plt.title('Histogram of months of the year') \r\n",
        "plt.show()"
      ],
      "execution_count": 30,
      "outputs": [
        {
          "output_type": "display_data",
          "data": {
            "image/png": "[encoded data removed]",
            "text/plain": [
              "<Figure size 432x288 with 1 Axes>"
            ]
          },
          "metadata": {
            "tags": [],
            "needs_background": "light"
          }
        }
      ]
    },
    {
      "cell_type": "markdown",
      "metadata": {
        "id": "pJNwB2fJmn2G"
      },
      "source": [
        "**observation**: The most popular months of travel were between May and August with the peak being recorded at August."
      ]
    },
    {
      "cell_type": "code",
      "metadata": {
        "colab": {
          "base_uri": "https://localhost:8080/",
          "height": 265
        },
        "id": "R78f2JdzooBA",
        "outputId": "d0188ce5-9b36-44f6-d9d7-7a5b07eea65f"
      },
      "source": [
        "# univariate analysis: meal variable bar graph\r\n",
        "df_clean.meal.value_counts().plot(kind = 'bar', rot = 0)\r\n",
        "plt.show()"
      ],
      "execution_count": 31,
      "outputs": [
        {
          "output_type": "display_data",
          "data": {
            "image/png": "[encoded data removed]",
            "text/plain": [
              "<Figure size 432x288 with 1 Axes>"
            ]
          },
          "metadata": {
            "tags": [],
            "needs_background": "light"
          }
        }
      ]
    },
    {
      "cell_type": "markdown",
      "metadata": {
        "id": "UzsG95DypXxA"
      },
      "source": [
        "**observation**: many guests went for bed and breakfast option."
      ]
    },
    {
      "cell_type": "code",
      "metadata": {
        "colab": {
          "base_uri": "https://localhost:8080/"
        },
        "id": "GVgXqetQqh3O",
        "outputId": "160b4975-3e51-462d-8834-8219eb039b01"
      },
      "source": [
        "# univariate analysis: month of arrival frequency count\r\n",
        "# \r\n",
        "df_clean.country.value_counts(ascending=False) "
      ],
      "execution_count": 32,
      "outputs": [
        {
          "output_type": "execute_result",
          "data": {
            "text/plain": [
              "PRT    4820\n",
              "GBR    2287\n",
              "ESP    1364\n",
              "IRL     925\n",
              "FRA     413\n",
              "       ... \n",
              "SMR       1\n",
              "CYM       1\n",
              "CUB       1\n",
              "CRI       1\n",
              "ZWE       1\n",
              "Name: country, Length: 98, dtype: int64"
            ]
          },
          "metadata": {
            "tags": []
          },
          "execution_count": 32
        }
      ]
    },
    {
      "cell_type": "markdown",
      "metadata": {
        "id": "BYp2NR83rApy"
      },
      "source": [
        "**observation**: Most of the hotel guests came from Portugal and Great Britain."
      ]
    },
    {
      "cell_type": "code",
      "metadata": {
        "colab": {
          "base_uri": "https://localhost:8080/",
          "height": 265
        },
        "id": "ZDy3xUeNr-_F",
        "outputId": "163d076e-ac18-4627-daae-be7be343b821"
      },
      "source": [
        "# univariate analysis: customer type variable bar graph\r\n",
        "df_clean.customer_type.value_counts().plot(kind = 'bar', rot = 0)\r\n",
        "plt.show()"
      ],
      "execution_count": 33,
      "outputs": [
        {
          "output_type": "display_data",
          "data": {
            "image/png": "[encoded data removed]",
            "text/plain": [
              "<Figure size 432x288 with 1 Axes>"
            ]
          },
          "metadata": {
            "tags": [],
            "needs_background": "light"
          }
        }
      ]
    },
    {
      "cell_type": "markdown",
      "metadata": {
        "id": "yk0frRsssVLN"
      },
      "source": [
        "**observation**:The most frequent type of guest was the transient."
      ]
    },
    {
      "cell_type": "markdown",
      "metadata": {
        "id": "q0vFbvODusLB"
      },
      "source": [
        "**observation**: Most popular arrival dates for customers is 17th and  2nd early of the month mostly because that's when people get their salaries"
      ]
    },
    {
      "cell_type": "code",
      "metadata": {
        "colab": {
          "base_uri": "https://localhost:8080/",
          "height": 266
        },
        "id": "OmBucu9txoy4",
        "outputId": "cda417e7-1b18-4d4a-d9fd-ea17c48676e9"
      },
      "source": [
        "# univariate analysis: room type variable bar graph\r\n",
        "df_clean.assigned_room_type.value_counts().plot(kind = 'bar', rot = 0)\r\n",
        "plt.show()"
      ],
      "execution_count": 34,
      "outputs": [
        {
          "output_type": "display_data",
          "data": {
            "image/png": "[encoded data removed]",
            "text/plain": [
              "<Figure size 432x288 with 1 Axes>"
            ]
          },
          "metadata": {
            "tags": [],
            "needs_background": "light"
          }
        }
      ]
    },
    {
      "cell_type": "markdown",
      "metadata": {
        "id": "rqUCJL1Dx5vF"
      },
      "source": [
        "**observation**: most of the clients went for romm type A"
      ]
    },
    {
      "cell_type": "markdown",
      "metadata": {
        "id": "V7D-LXAyeLFu"
      },
      "source": [
        "## Observations from Univariate Analysis\n",
        "1. Guests preferred the city hotels to the resort hotels\n",
        "2. Most guests went for the Bed and Break fast option while the Full board option had the least customers\n",
        "3.Most of the hotel guests came from Portugal and Great Britain while very few came from Germany\n",
        "4.The most frequent type of guest was the transient type who came for a short term visit while the group type of guests were the least\n",
        "5.The most popular months of travel were between May and August with the peak being recorded at July mainly because it is summer in Europe during these months\n",
        "6.Most popular arrival dates for customers is during end month mostly because that's when people get their salaries \n",
        "7.The most popular room type both for bookings and reservations is Type A while the least popular L"
      ]
    },
    {
      "cell_type": "markdown",
      "metadata": {
        "id": "0BqebItwW5EO"
      },
      "source": [
        "# Bivariate Analysis "
      ]
    },
    {
      "cell_type": "markdown",
      "metadata": {
        "id": "kc9j1QmeHnhh"
      },
      "source": [
        "### Bar Charts to show the relationship between booking cancellation status and other variables"
      ]
    },
    {
      "cell_type": "code",
      "metadata": {
        "colab": {
          "base_uri": "https://localhost:8080/"
        },
        "id": "uo2h_RG6rtQw",
        "outputId": "001f88b2-6e56-4a59-e425-bcc822827b33"
      },
      "source": [
        "df_clean['is_canceled'].value_counts()\n",
        "\n",
        "# 0 = not canceled\n",
        "# 1 = canceled"
      ],
      "execution_count": 35,
      "outputs": [
        {
          "output_type": "execute_result",
          "data": {
            "text/plain": [
              "0.0    7268\n",
              "1.0    4757\n",
              "Name: is_canceled, dtype: int64"
            ]
          },
          "metadata": {
            "tags": []
          },
          "execution_count": 35
        }
      ]
    },
    {
      "cell_type": "code",
      "metadata": {
        "colab": {
          "base_uri": "https://localhost:8080/",
          "height": 1000
        },
        "id": "GNN3QrhXAsjX",
        "outputId": "cb3dff31-c07a-4301-d186-2da1692a46fc"
      },
      "source": [
        "#plotting the target variable against other features.\n",
        "# ignoring the warnings\n",
        "import warnings\n",
        "warnings.filterwarnings('ignore')\n",
        "\n",
        "f, axes = plt.subplots(7, 1, figsize=[5, 25])\n",
        "\n",
        "sns.countplot('hotel', hue= 'is_canceled', data=df_clean, ax=axes[0])\n",
        "sns.countplot('customer_type', hue= 'is_canceled', data=df_clean, ax=axes[1])\n",
        "sns.countplot('deposit_type', hue= 'is_canceled', data=df_clean, ax=axes[2])\n",
        "sns.countplot('is_repeated_guest', hue= 'is_canceled', data=df_clean, ax=axes[3])\n",
        "sns.countplot('previous_cancellations', hue= 'is_canceled', data=df_clean, ax=axes[4])\n",
        "sns.countplot('previous_bookings_not_canceled', hue= 'is_canceled', data=df_clean, ax=axes[5])\n",
        "sns.countplot('required_car_parking_spaces', hue= 'is_canceled', data=df_clean, ax=axes[6])"
      ],
      "execution_count": 36,
      "outputs": [
        {
          "output_type": "execute_result",
          "data": {
            "text/plain": [
              "<matplotlib.axes._subplots.AxesSubplot at 0x7f1e798e99b0>"
            ]
          },
          "metadata": {
            "tags": []
          },
          "execution_count": 36
        },
        {
          "output_type": "display_data",
          "data": {
            "image/png": "[encoded data removed]",
            "text/plain": [
              "<Figure size 360x1800 with 7 Axes>"
            ]
          },
          "metadata": {
            "tags": [],
            "needs_background": "light"
          }
        }
      ]
    },
    {
      "cell_type": "code",
      "metadata": {
        "colab": {
          "base_uri": "https://localhost:8080/",
          "height": 462
        },
        "id": "ynrKApNg78YX",
        "outputId": "a112d8b5-115f-4863-8225-e32afae2c6d5"
      },
      "source": [
        "#Distribution of cancellation and Deposit Type¶\r\n",
        "\r\n",
        "plt.figure(figsize=(7,7))\r\n",
        "sns.barplot(x=df_clean['deposit_type'], y=df_clean['is_canceled'], palette=sns.color_palette(\"icefire\"))\r\n",
        "\r\n",
        "#It Seems more bookings were non refundable and were cancelled more as well"
      ],
      "execution_count": 37,
      "outputs": [
        {
          "output_type": "execute_result",
          "data": {
            "text/plain": [
              "<matplotlib.axes._subplots.AxesSubplot at 0x7f1e79abc780>"
            ]
          },
          "metadata": {
            "tags": []
          },
          "execution_count": 37
        },
        {
          "output_type": "display_data",
          "data": {
            "image/png": "[encoded data removed]",
            "text/plain": [
              "<Figure size 504x504 with 1 Axes>"
            ]
          },
          "metadata": {
            "tags": [],
            "needs_background": "light"
          }
        }
      ]
    },
    {
      "cell_type": "code",
      "metadata": {
        "colab": {
          "base_uri": "https://localhost:8080/",
          "height": 392
        },
        "id": "I68jHxO388HN",
        "outputId": "fb5b6f82-583b-4232-ab7e-71bfc7f85de5"
      },
      "source": [
        "# Special and non Special Request of the guest\r\n",
        "fig, ax = plt.subplots(1, 2, figsize=[25, 6])\r\n",
        "\r\n",
        "special = df_clean[df_clean.total_of_special_requests != 0]\r\n",
        "non_special = df_clean[df_clean.total_of_special_requests == 0]\r\n",
        "special\r\n",
        "\r\n",
        "# Plots\r\n",
        "spec = sns.countplot(special.reservation_status, ax = ax[0], palette = 'winter')\r\n",
        "spec.set(title = 'Guest with special requests', xlabel = 'Reservation_status')\r\n",
        "\r\n",
        "n_spec = sns.countplot(non_special.reservation_status, ax = ax[1], palette = 'winter')\r\n",
        "n_spec.set(title = 'Guest without special requests', ylabel = \"\", xlabel = 'Reservation_status')"
      ],
      "execution_count": 38,
      "outputs": [
        {
          "output_type": "execute_result",
          "data": {
            "text/plain": [
              "[Text(0, 0.5, ''),\n",
              " Text(0.5, 0, 'Reservation_status'),\n",
              " Text(0.5, 1.0, 'Guest without special requests')]"
            ]
          },
          "metadata": {
            "tags": []
          },
          "execution_count": 38
        },
        {
          "output_type": "display_data",
          "data": {
            "image/png": "[encoded data removed]",
            "text/plain": [
              "<Figure size 1800x432 with 2 Axes>"
            ]
          },
          "metadata": {
            "tags": [],
            "needs_background": "light"
          }
        }
      ]
    },
    {
      "cell_type": "code",
      "metadata": {
        "colab": {
          "base_uri": "https://localhost:8080/",
          "height": 515
        },
        "id": "ezsAqTM18_q4",
        "outputId": "e1b9fcdf-de42-4150-938b-d7cd9baabb8d"
      },
      "source": [
        "#Stays in weekend Nights and Week Nights for Cancelled and non cancelled bookings\r\n",
        "\r\n",
        "fig, ax = plt.subplots(1, 2, figsize=[18, 8])\r\n",
        "\r\n",
        "sns.violinplot( x=df_clean[\"is_canceled\"], y=df_clean[\"stays_in_weekend_nights\"], ax = ax[0] )\r\n",
        "sns.violinplot( x=df_clean[\"is_canceled\"], y=df_clean[\"stays_in_week_nights\"], ax = ax[1] )"
      ],
      "execution_count": 39,
      "outputs": [
        {
          "output_type": "execute_result",
          "data": {
            "text/plain": [
              "<matplotlib.axes._subplots.AxesSubplot at 0x7f1e7960c208>"
            ]
          },
          "metadata": {
            "tags": []
          },
          "execution_count": 39
        },
        {
          "output_type": "display_data",
          "data": {
            "image/png": "[encoded data removed]",
            "text/plain": [
              "<Figure size 1296x576 with 2 Axes>"
            ]
          },
          "metadata": {
            "tags": [],
            "needs_background": "light"
          }
        }
      ]
    },
    {
      "cell_type": "code",
      "metadata": {
        "id": "CiJOCzCeKan3"
      },
      "source": [
        "#sns.pairplot(df_clean,kind=\"scatter\", diag_kind=\"kde\", hue=\"is_canceled\")"
      ],
      "execution_count": 40,
      "outputs": []
    },
    {
      "cell_type": "code",
      "metadata": {
        "id": "Oam01mbOKq5-"
      },
      "source": [
        "# Computing the correlation matrix \r\n",
        "#\r\n",
        "# This is the association between numerical variables in the dataset\r\n",
        "#"
      ],
      "execution_count": 41,
      "outputs": []
    },
    {
      "cell_type": "markdown",
      "metadata": {
        "id": "9H7GunOJf3Bl"
      },
      "source": [
        "## Observations from the Bivariate Analysis\n",
        "1. We see that it is more likely for customers from the city hotel to cancel their booking than the ones from the resort hotel\n",
        "\n",
        "2. For customer type, the transient customers were most likely to cancel while groups cancelled least\n",
        "\n",
        "3. We also saw that the guests who put no deposit were very likely to cancel because they had nothing to lose while the ones who put a refundable deposit didn't cancel at all \n",
        "\n",
        "4. The bivariate analysis also shows that it was by far less likely for repeated guests to cancel compared to their new counterparts\n"
      ]
    },
    {
      "cell_type": "code",
      "metadata": {
        "id": "9aqOaTGVnCz5"
      },
      "source": [
        "df_clean2=df_clean.copy()\r\n"
      ],
      "execution_count": 42,
      "outputs": []
    },
    {
      "cell_type": "code",
      "metadata": {
        "colab": {
          "base_uri": "https://localhost:8080/",
          "height": 439
        },
        "id": "7uytij4g72s3",
        "outputId": "54a40f62-b36f-4297-a057-7ad45a2ac691"
      },
      "source": [
        "# Label encoding to change our categorical variables to numerical to be able to create our correlation matrix\n",
        "\n",
        "from sklearn.preprocessing import LabelEncoder\n",
        "en = LabelEncoder()\n",
        "df_clean['hotel'] = en.fit_transform(df_clean['hotel'])\n",
        "df_clean['arrival_date_month'] = en.fit_transform(df_clean['arrival_date_month'])\n",
        "df_clean['country'] = en.fit_transform(df_clean['country'])\n",
        "df_clean['meal'] = en.fit_transform(df_clean['meal'])\n",
        "df_clean['reserved_room_type'] = en.fit_transform(df_clean['reserved_room_type'])\n",
        "df_clean['assigned_room_type'] = en.fit_transform(df_clean['assigned_room_type'])\n",
        "df_clean['deposit_type'] = en.fit_transform(df_clean['deposit_type'])\n",
        "df_clean['customer_type'] = en.fit_transform(df_clean['customer_type'])\n",
        "df_clean['reservation_status'] = en.fit_transform(df_clean['reservation_status'])\n",
        "df_clean"
      ],
      "execution_count": 43,
      "outputs": [
        {
          "output_type": "execute_result",
          "data": {
            "text/html": [
              "<div>\n",
              "<style scoped>\n",
              "    .dataframe tbody tr th:only-of-type {\n",
              "        vertical-align: middle;\n",
              "    }\n",
              "\n",
              "    .dataframe tbody tr th {\n",
              "        vertical-align: top;\n",
              "    }\n",
              "\n",
              "    .dataframe thead th {\n",
              "        text-align: right;\n",
              "    }\n",
              "</style>\n",
              "<table border=\"1\" class=\"dataframe\">\n",
              "  <thead>\n",
              "    <tr style=\"text-align: right;\">\n",
              "      <th></th>\n",
              "      <th>hotel</th>\n",
              "      <th>is_canceled</th>\n",
              "      <th>arrival_date_month</th>\n",
              "      <th>arrival_date_day_of_month</th>\n",
              "      <th>stays_in_weekend_nights</th>\n",
              "      <th>stays_in_week_nights</th>\n",
              "      <th>adults</th>\n",
              "      <th>children</th>\n",
              "      <th>babies</th>\n",
              "      <th>meal</th>\n",
              "      <th>country</th>\n",
              "      <th>is_repeated_guest</th>\n",
              "      <th>previous_cancellations</th>\n",
              "      <th>previous_bookings_not_canceled</th>\n",
              "      <th>reserved_room_type</th>\n",
              "      <th>assigned_room_type</th>\n",
              "      <th>deposit_type</th>\n",
              "      <th>customer_type</th>\n",
              "      <th>required_car_parking_spaces</th>\n",
              "      <th>total_of_special_requests</th>\n",
              "      <th>reservation_status</th>\n",
              "    </tr>\n",
              "  </thead>\n",
              "  <tbody>\n",
              "    <tr>\n",
              "      <th>0</th>\n",
              "      <td>0</td>\n",
              "      <td>0.0</td>\n",
              "      <td>5</td>\n",
              "      <td>1.0</td>\n",
              "      <td>0.0</td>\n",
              "      <td>0</td>\n",
              "      <td>2.0</td>\n",
              "      <td>0</td>\n",
              "      <td>0</td>\n",
              "      <td>0</td>\n",
              "      <td>76</td>\n",
              "      <td>0</td>\n",
              "      <td>0.0</td>\n",
              "      <td>0.0</td>\n",
              "      <td>2</td>\n",
              "      <td>2</td>\n",
              "      <td>0</td>\n",
              "      <td>2</td>\n",
              "      <td>0.0</td>\n",
              "      <td>0.0</td>\n",
              "      <td>1</td>\n",
              "    </tr>\n",
              "    <tr>\n",
              "      <th>4</th>\n",
              "      <td>0</td>\n",
              "      <td>0.0</td>\n",
              "      <td>5</td>\n",
              "      <td>1.0</td>\n",
              "      <td>0.0</td>\n",
              "      <td>2</td>\n",
              "      <td>2.0</td>\n",
              "      <td>0</td>\n",
              "      <td>0</td>\n",
              "      <td>0</td>\n",
              "      <td>37</td>\n",
              "      <td>0</td>\n",
              "      <td>0.0</td>\n",
              "      <td>0.0</td>\n",
              "      <td>0</td>\n",
              "      <td>0</td>\n",
              "      <td>0</td>\n",
              "      <td>2</td>\n",
              "      <td>0.0</td>\n",
              "      <td>1.0</td>\n",
              "      <td>1</td>\n",
              "    </tr>\n",
              "    <tr>\n",
              "      <th>6</th>\n",
              "      <td>0</td>\n",
              "      <td>0.0</td>\n",
              "      <td>5</td>\n",
              "      <td>1.0</td>\n",
              "      <td>0.0</td>\n",
              "      <td>2</td>\n",
              "      <td>2.0</td>\n",
              "      <td>0</td>\n",
              "      <td>0</td>\n",
              "      <td>0</td>\n",
              "      <td>76</td>\n",
              "      <td>0</td>\n",
              "      <td>0.0</td>\n",
              "      <td>0.0</td>\n",
              "      <td>2</td>\n",
              "      <td>2</td>\n",
              "      <td>0</td>\n",
              "      <td>2</td>\n",
              "      <td>0.0</td>\n",
              "      <td>0.0</td>\n",
              "      <td>1</td>\n",
              "    </tr>\n",
              "    <tr>\n",
              "      <th>7</th>\n",
              "      <td>0</td>\n",
              "      <td>0.0</td>\n",
              "      <td>5</td>\n",
              "      <td>1.0</td>\n",
              "      <td>0.0</td>\n",
              "      <td>2</td>\n",
              "      <td>2.0</td>\n",
              "      <td>0</td>\n",
              "      <td>0</td>\n",
              "      <td>1</td>\n",
              "      <td>76</td>\n",
              "      <td>0</td>\n",
              "      <td>0.0</td>\n",
              "      <td>0.0</td>\n",
              "      <td>2</td>\n",
              "      <td>2</td>\n",
              "      <td>0</td>\n",
              "      <td>2</td>\n",
              "      <td>0.0</td>\n",
              "      <td>1.0</td>\n",
              "      <td>1</td>\n",
              "    </tr>\n",
              "    <tr>\n",
              "      <th>8</th>\n",
              "      <td>0</td>\n",
              "      <td>1.0</td>\n",
              "      <td>5</td>\n",
              "      <td>1.0</td>\n",
              "      <td>0.0</td>\n",
              "      <td>3</td>\n",
              "      <td>2.0</td>\n",
              "      <td>0</td>\n",
              "      <td>0</td>\n",
              "      <td>0</td>\n",
              "      <td>76</td>\n",
              "      <td>0</td>\n",
              "      <td>0.0</td>\n",
              "      <td>0.0</td>\n",
              "      <td>0</td>\n",
              "      <td>0</td>\n",
              "      <td>0</td>\n",
              "      <td>2</td>\n",
              "      <td>0.0</td>\n",
              "      <td>1.0</td>\n",
              "      <td>0</td>\n",
              "    </tr>\n",
              "    <tr>\n",
              "      <th>...</th>\n",
              "      <td>...</td>\n",
              "      <td>...</td>\n",
              "      <td>...</td>\n",
              "      <td>...</td>\n",
              "      <td>...</td>\n",
              "      <td>...</td>\n",
              "      <td>...</td>\n",
              "      <td>...</td>\n",
              "      <td>...</td>\n",
              "      <td>...</td>\n",
              "      <td>...</td>\n",
              "      <td>...</td>\n",
              "      <td>...</td>\n",
              "      <td>...</td>\n",
              "      <td>...</td>\n",
              "      <td>...</td>\n",
              "      <td>...</td>\n",
              "      <td>...</td>\n",
              "      <td>...</td>\n",
              "      <td>...</td>\n",
              "      <td>...</td>\n",
              "    </tr>\n",
              "    <tr>\n",
              "      <th>29246</th>\n",
              "      <td>0</td>\n",
              "      <td>0.0</td>\n",
              "      <td>10</td>\n",
              "      <td>23.0</td>\n",
              "      <td>1.0</td>\n",
              "      <td>0</td>\n",
              "      <td>2.0</td>\n",
              "      <td>0</td>\n",
              "      <td>0</td>\n",
              "      <td>0</td>\n",
              "      <td>28</td>\n",
              "      <td>0</td>\n",
              "      <td>0.0</td>\n",
              "      <td>0.0</td>\n",
              "      <td>0</td>\n",
              "      <td>4</td>\n",
              "      <td>0</td>\n",
              "      <td>2</td>\n",
              "      <td>0.0</td>\n",
              "      <td>1.0</td>\n",
              "      <td>1</td>\n",
              "    </tr>\n",
              "    <tr>\n",
              "      <th>29252</th>\n",
              "      <td>0</td>\n",
              "      <td>0.0</td>\n",
              "      <td>10</td>\n",
              "      <td>17.0</td>\n",
              "      <td>2.0</td>\n",
              "      <td>5</td>\n",
              "      <td>2.0</td>\n",
              "      <td>0</td>\n",
              "      <td>0</td>\n",
              "      <td>0</td>\n",
              "      <td>37</td>\n",
              "      <td>0</td>\n",
              "      <td>0.0</td>\n",
              "      <td>0.0</td>\n",
              "      <td>0</td>\n",
              "      <td>0</td>\n",
              "      <td>0</td>\n",
              "      <td>3</td>\n",
              "      <td>0.0</td>\n",
              "      <td>1.0</td>\n",
              "      <td>1</td>\n",
              "    </tr>\n",
              "    <tr>\n",
              "      <th>29260</th>\n",
              "      <td>0</td>\n",
              "      <td>0.0</td>\n",
              "      <td>10</td>\n",
              "      <td>17.0</td>\n",
              "      <td>2.0</td>\n",
              "      <td>5</td>\n",
              "      <td>2.0</td>\n",
              "      <td>0</td>\n",
              "      <td>0</td>\n",
              "      <td>0</td>\n",
              "      <td>46</td>\n",
              "      <td>0</td>\n",
              "      <td>0.0</td>\n",
              "      <td>0.0</td>\n",
              "      <td>5</td>\n",
              "      <td>5</td>\n",
              "      <td>0</td>\n",
              "      <td>2</td>\n",
              "      <td>0.0</td>\n",
              "      <td>0.0</td>\n",
              "      <td>1</td>\n",
              "    </tr>\n",
              "    <tr>\n",
              "      <th>29261</th>\n",
              "      <td>0</td>\n",
              "      <td>0.0</td>\n",
              "      <td>10</td>\n",
              "      <td>17.0</td>\n",
              "      <td>2.0</td>\n",
              "      <td>5</td>\n",
              "      <td>2.0</td>\n",
              "      <td>0</td>\n",
              "      <td>0</td>\n",
              "      <td>2</td>\n",
              "      <td>28</td>\n",
              "      <td>0</td>\n",
              "      <td>0.0</td>\n",
              "      <td>0.0</td>\n",
              "      <td>3</td>\n",
              "      <td>3</td>\n",
              "      <td>0</td>\n",
              "      <td>2</td>\n",
              "      <td>0.0</td>\n",
              "      <td>2.0</td>\n",
              "      <td>1</td>\n",
              "    </tr>\n",
              "    <tr>\n",
              "      <th>29262</th>\n",
              "      <td>0</td>\n",
              "      <td>0.0</td>\n",
              "      <td>10</td>\n",
              "      <td>17.0</td>\n",
              "      <td>2.0</td>\n",
              "      <td>5</td>\n",
              "      <td>2.0</td>\n",
              "      <td>0</td>\n",
              "      <td>0</td>\n",
              "      <td>2</td>\n",
              "      <td>37</td>\n",
              "      <td>0</td>\n",
              "      <td>0.0</td>\n",
              "      <td>0.0</td>\n",
              "      <td>3</td>\n",
              "      <td>3</td>\n",
              "      <td>0</td>\n",
              "      <td>0</td>\n",
              "      <td>0.0</td>\n",
              "      <td>0.0</td>\n",
              "      <td>1</td>\n",
              "    </tr>\n",
              "  </tbody>\n",
              "</table>\n",
              "<p>12025 rows × 21 columns</p>\n",
              "</div>"
            ],
            "text/plain": [
              "       hotel  is_canceled  ...  total_of_special_requests  reservation_status\n",
              "0          0          0.0  ...                        0.0                   1\n",
              "4          0          0.0  ...                        1.0                   1\n",
              "6          0          0.0  ...                        0.0                   1\n",
              "7          0          0.0  ...                        1.0                   1\n",
              "8          0          1.0  ...                        1.0                   0\n",
              "...      ...          ...  ...                        ...                 ...\n",
              "29246      0          0.0  ...                        1.0                   1\n",
              "29252      0          0.0  ...                        1.0                   1\n",
              "29260      0          0.0  ...                        0.0                   1\n",
              "29261      0          0.0  ...                        2.0                   1\n",
              "29262      0          0.0  ...                        0.0                   1\n",
              "\n",
              "[12025 rows x 21 columns]"
            ]
          },
          "metadata": {
            "tags": []
          },
          "execution_count": 43
        }
      ]
    },
    {
      "cell_type": "code",
      "metadata": {
        "id": "W-ADPc5-Qlpy"
      },
      "source": [
        "from sklearn.model_selection import train_test_split"
      ],
      "execution_count": 44,
      "outputs": []
    },
    {
      "cell_type": "code",
      "metadata": {
        "id": "t7pMhVZGPaCB"
      },
      "source": [
        "# Splitting data into Input and Target Variable\r\n",
        "\r\n",
        "y = df_clean[['is_canceled']]  # target variable \r\n",
        "X = df_clean.drop(['is_canceled'], axis=1)  # input variables"
      ],
      "execution_count": 45,
      "outputs": []
    },
    {
      "cell_type": "code",
      "metadata": {
        "id": "Z_dBUnUYQF_Q"
      },
      "source": [
        "# Assign variables to capture train test split output\r\n",
        "X_train, X_test, y_train, y_test = train_test_split(X, y, test_size=0.2, random_state=101)\r\n"
      ],
      "execution_count": 46,
      "outputs": []
    },
    {
      "cell_type": "code",
      "metadata": {
        "id": "8J1K6ff0PZ19"
      },
      "source": [
        "# Standardising the X_train and the X_test to the same scale\r\n",
        "#\r\n",
        "from sklearn.preprocessing import StandardScaler\r\n",
        "scaler = StandardScaler()\r\n",
        "X_train = scaler.fit_transform(X_train)\r\n",
        "X_test = scaler.transform(X_test)"
      ],
      "execution_count": 47,
      "outputs": []
    },
    {
      "cell_type": "code",
      "metadata": {
        "id": "p7qm58wJQy7E"
      },
      "source": [
        "#creating model. creat regressor object and train it using train data\r\n",
        "#\r\n",
        "# Building the Logistic Regression model\r\n",
        "from sklearn.linear_model import LogisticRegression\r\n",
        "\r\n",
        "clf_lr = LogisticRegression(random_state = 1)      \r\n",
        "lr_baseline_model = clf_lr.fit(X_train,y_train)"
      ],
      "execution_count": 48,
      "outputs": []
    },
    {
      "cell_type": "code",
      "metadata": {
        "colab": {
          "base_uri": "https://localhost:8080/"
        },
        "id": "CA2nY-d_Tin1",
        "outputId": "a2bc002f-99e9-4b5b-bb97-843148ad0855"
      },
      "source": [
        "# Noting down accuracy of the baseline model\r\n",
        "from sklearn.metrics import accuracy_score, f1_score\r\n",
        "\r\n",
        "# finding our predicted values\r\n",
        "y_pred = lr_baseline_model.predict(X_test)\r\n",
        "\r\n",
        "# Calculating the accuracy and F1 Score by comparing the actual and predicted values\r\n",
        "ac = accuracy_score(y_test, y_pred)\r\n",
        "f_score = f1_score(y_test ,y_pred)\r\n",
        "\r\n",
        "print(\"Baseline Model Accuracy:\", ac)\r\n",
        "print(\"Baseline Model F1 Score:\", f_score)"
      ],
      "execution_count": 49,
      "outputs": [
        {
          "output_type": "stream",
          "text": [
            "Baseline Model Accuracy: 0.9833679833679834\n",
            "Baseline Model F1 Score: 0.9787234042553191\n"
          ],
          "name": "stdout"
        }
      ]
    },
    {
      "cell_type": "code",
      "metadata": {
        "colab": {
          "base_uri": "https://localhost:8080/"
        },
        "id": "IeN3SzzMTvDj",
        "outputId": "b682b2e5-78b3-41a9-d02a-0fc7594d4ff8"
      },
      "source": [
        "from sklearn.feature_selection import RFE #importing RFE class from sklearn library\r\n",
        "\r\n",
        "rfe = RFE(estimator= clf_lr , step = 1) \r\n",
        "# estimator clf_lr is the baseline model (basic model) that we have created under \"Base line Model\" selection\r\n",
        "# step = 1: removes one feature at a time and then builds a model on the remaining features\r\n",
        "# It uses the model accuracy to identify which features (and combination of features) contribute the most to predicting the target variable.\r\n",
        "# we can even provide no. of features as an argument \r\n",
        "\r\n",
        "# Fit the function for ranking the features\r\n",
        "fit = rfe.fit(X_train, y_train)\r\n",
        "\r\n",
        "print(\"Num Features: %d\" % fit.n_features_)\r\n",
        "print(\"Selected Features: %s\" % fit.support_)\r\n",
        "print(\"Feature Ranking: %s\" % fit.ranking_)"
      ],
      "execution_count": 50,
      "outputs": [
        {
          "output_type": "stream",
          "text": [
            "Num Features: 10\n",
            "Selected Features: [False  True False  True  True False False False  True  True False False\n",
            " False  True  True  True  True False False  True]\n",
            "Feature Ranking: [11  1  3  1  1  9  7  6  1  1 10  8  5  1  1  1  1  4  2  1]\n"
          ],
          "name": "stdout"
        }
      ]
    },
    {
      "cell_type": "code",
      "metadata": {
        "colab": {
          "base_uri": "https://localhost:8080/"
        },
        "id": "iTNNdvIqslYm",
        "outputId": "882ec0f0-b482-430f-df67-63f5da74de11"
      },
      "source": [
        "X.info()#0,1,4,8,9,13,14,15,18,19"
      ],
      "execution_count": 51,
      "outputs": [
        {
          "output_type": "stream",
          "text": [
            "<class 'pandas.core.frame.DataFrame'>\n",
            "Int64Index: 12025 entries, 0 to 29262\n",
            "Data columns (total 20 columns):\n",
            " #   Column                          Non-Null Count  Dtype  \n",
            "---  ------                          --------------  -----  \n",
            " 0   hotel                           12025 non-null  int64  \n",
            " 1   arrival_date_month              12025 non-null  int64  \n",
            " 2   arrival_date_day_of_month       12025 non-null  float64\n",
            " 3   stays_in_weekend_nights         12025 non-null  float64\n",
            " 4   stays_in_week_nights            12025 non-null  int64  \n",
            " 5   adults                          12025 non-null  float64\n",
            " 6   children                        12025 non-null  int64  \n",
            " 7   babies                          12025 non-null  int64  \n",
            " 8   meal                            12025 non-null  int64  \n",
            " 9   country                         12025 non-null  int64  \n",
            " 10  is_repeated_guest               12025 non-null  int64  \n",
            " 11  previous_cancellations          12025 non-null  float64\n",
            " 12  previous_bookings_not_canceled  12025 non-null  float64\n",
            " 13  reserved_room_type              12025 non-null  int64  \n",
            " 14  assigned_room_type              12025 non-null  int64  \n",
            " 15  deposit_type                    12025 non-null  int64  \n",
            " 16  customer_type                   12025 non-null  int64  \n",
            " 17  required_car_parking_spaces     12025 non-null  float64\n",
            " 18  total_of_special_requests       12025 non-null  float64\n",
            " 19  reservation_status              12025 non-null  int64  \n",
            "dtypes: float64(7), int64(13)\n",
            "memory usage: 2.2 MB\n"
          ],
          "name": "stdout"
        }
      ]
    },
    {
      "cell_type": "code",
      "metadata": {
        "colab": {
          "base_uri": "https://localhost:8080/",
          "height": 669
        },
        "id": "0TgrVsPfxIeK",
        "outputId": "39f1ab56-997f-43bb-a64f-7ca8f9fc9af6"
      },
      "source": [
        "selected_rfe_features = pd.DataFrame({'Feature':list(X.iloc[:, 0:]),\n",
        "                                      'Ranking':rfe.ranking_})\n",
        "selected_rfe_features.sort_values(by='Ranking')\n"
      ],
      "execution_count": 52,
      "outputs": [
        {
          "output_type": "execute_result",
          "data": {
            "text/html": [
              "<div>\n",
              "<style scoped>\n",
              "    .dataframe tbody tr th:only-of-type {\n",
              "        vertical-align: middle;\n",
              "    }\n",
              "\n",
              "    .dataframe tbody tr th {\n",
              "        vertical-align: top;\n",
              "    }\n",
              "\n",
              "    .dataframe thead th {\n",
              "        text-align: right;\n",
              "    }\n",
              "</style>\n",
              "<table border=\"1\" class=\"dataframe\">\n",
              "  <thead>\n",
              "    <tr style=\"text-align: right;\">\n",
              "      <th></th>\n",
              "      <th>Feature</th>\n",
              "      <th>Ranking</th>\n",
              "    </tr>\n",
              "  </thead>\n",
              "  <tbody>\n",
              "    <tr>\n",
              "      <th>9</th>\n",
              "      <td>country</td>\n",
              "      <td>1</td>\n",
              "    </tr>\n",
              "    <tr>\n",
              "      <th>16</th>\n",
              "      <td>customer_type</td>\n",
              "      <td>1</td>\n",
              "    </tr>\n",
              "    <tr>\n",
              "      <th>15</th>\n",
              "      <td>deposit_type</td>\n",
              "      <td>1</td>\n",
              "    </tr>\n",
              "    <tr>\n",
              "      <th>14</th>\n",
              "      <td>assigned_room_type</td>\n",
              "      <td>1</td>\n",
              "    </tr>\n",
              "    <tr>\n",
              "      <th>13</th>\n",
              "      <td>reserved_room_type</td>\n",
              "      <td>1</td>\n",
              "    </tr>\n",
              "    <tr>\n",
              "      <th>8</th>\n",
              "      <td>meal</td>\n",
              "      <td>1</td>\n",
              "    </tr>\n",
              "    <tr>\n",
              "      <th>19</th>\n",
              "      <td>reservation_status</td>\n",
              "      <td>1</td>\n",
              "    </tr>\n",
              "    <tr>\n",
              "      <th>4</th>\n",
              "      <td>stays_in_week_nights</td>\n",
              "      <td>1</td>\n",
              "    </tr>\n",
              "    <tr>\n",
              "      <th>3</th>\n",
              "      <td>stays_in_weekend_nights</td>\n",
              "      <td>1</td>\n",
              "    </tr>\n",
              "    <tr>\n",
              "      <th>1</th>\n",
              "      <td>arrival_date_month</td>\n",
              "      <td>1</td>\n",
              "    </tr>\n",
              "    <tr>\n",
              "      <th>18</th>\n",
              "      <td>total_of_special_requests</td>\n",
              "      <td>2</td>\n",
              "    </tr>\n",
              "    <tr>\n",
              "      <th>2</th>\n",
              "      <td>arrival_date_day_of_month</td>\n",
              "      <td>3</td>\n",
              "    </tr>\n",
              "    <tr>\n",
              "      <th>17</th>\n",
              "      <td>required_car_parking_spaces</td>\n",
              "      <td>4</td>\n",
              "    </tr>\n",
              "    <tr>\n",
              "      <th>12</th>\n",
              "      <td>previous_bookings_not_canceled</td>\n",
              "      <td>5</td>\n",
              "    </tr>\n",
              "    <tr>\n",
              "      <th>7</th>\n",
              "      <td>babies</td>\n",
              "      <td>6</td>\n",
              "    </tr>\n",
              "    <tr>\n",
              "      <th>6</th>\n",
              "      <td>children</td>\n",
              "      <td>7</td>\n",
              "    </tr>\n",
              "    <tr>\n",
              "      <th>11</th>\n",
              "      <td>previous_cancellations</td>\n",
              "      <td>8</td>\n",
              "    </tr>\n",
              "    <tr>\n",
              "      <th>5</th>\n",
              "      <td>adults</td>\n",
              "      <td>9</td>\n",
              "    </tr>\n",
              "    <tr>\n",
              "      <th>10</th>\n",
              "      <td>is_repeated_guest</td>\n",
              "      <td>10</td>\n",
              "    </tr>\n",
              "    <tr>\n",
              "      <th>0</th>\n",
              "      <td>hotel</td>\n",
              "      <td>11</td>\n",
              "    </tr>\n",
              "  </tbody>\n",
              "</table>\n",
              "</div>"
            ],
            "text/plain": [
              "                           Feature  Ranking\n",
              "9                          country        1\n",
              "16                   customer_type        1\n",
              "15                    deposit_type        1\n",
              "14              assigned_room_type        1\n",
              "13              reserved_room_type        1\n",
              "8                             meal        1\n",
              "19              reservation_status        1\n",
              "4             stays_in_week_nights        1\n",
              "3          stays_in_weekend_nights        1\n",
              "1               arrival_date_month        1\n",
              "18       total_of_special_requests        2\n",
              "2        arrival_date_day_of_month        3\n",
              "17     required_car_parking_spaces        4\n",
              "12  previous_bookings_not_canceled        5\n",
              "7                           babies        6\n",
              "6                         children        7\n",
              "11          previous_cancellations        8\n",
              "5                           adults        9\n",
              "10               is_repeated_guest       10\n",
              "0                            hotel       11"
            ]
          },
          "metadata": {
            "tags": []
          },
          "execution_count": 52
        }
      ]
    },
    {
      "cell_type": "code",
      "metadata": {
        "colab": {
          "base_uri": "https://localhost:8080/"
        },
        "id": "V8i0oJAkyJxq",
        "outputId": "8ff090b6-4a09-4f9c-f564-12a8f87eb880"
      },
      "source": [
        "df2 = df_clean[['hotel', 'deposit_type','assigned_room_type','reserved_room_type','total_of_special_requests','meal','country','stays_in_week_nights','arrival_date_month','reservation_status']]\r\n",
        "df2.info()"
      ],
      "execution_count": 53,
      "outputs": [
        {
          "output_type": "stream",
          "text": [
            "<class 'pandas.core.frame.DataFrame'>\n",
            "Int64Index: 12025 entries, 0 to 29262\n",
            "Data columns (total 10 columns):\n",
            " #   Column                     Non-Null Count  Dtype  \n",
            "---  ------                     --------------  -----  \n",
            " 0   hotel                      12025 non-null  int64  \n",
            " 1   deposit_type               12025 non-null  int64  \n",
            " 2   assigned_room_type         12025 non-null  int64  \n",
            " 3   reserved_room_type         12025 non-null  int64  \n",
            " 4   total_of_special_requests  12025 non-null  float64\n",
            " 5   meal                       12025 non-null  int64  \n",
            " 6   country                    12025 non-null  int64  \n",
            " 7   stays_in_week_nights       12025 non-null  int64  \n",
            " 8   arrival_date_month         12025 non-null  int64  \n",
            " 9   reservation_status         12025 non-null  int64  \n",
            "dtypes: float64(1), int64(9)\n",
            "memory usage: 1.3 MB\n"
          ],
          "name": "stdout"
        }
      ]
    },
    {
      "cell_type": "code",
      "metadata": {
        "colab": {
          "base_uri": "https://localhost:8080/"
        },
        "id": "9yYgh1-m2MZx",
        "outputId": "c745d0c5-34c5-45dc-99df-205094535fa2"
      },
      "source": [
        "df2.columns"
      ],
      "execution_count": 54,
      "outputs": [
        {
          "output_type": "execute_result",
          "data": {
            "text/plain": [
              "Index(['hotel', 'deposit_type', 'assigned_room_type', 'reserved_room_type',\n",
              "       'total_of_special_requests', 'meal', 'country', 'stays_in_week_nights',\n",
              "       'arrival_date_month', 'reservation_status'],\n",
              "      dtype='object')"
            ]
          },
          "metadata": {
            "tags": []
          },
          "execution_count": 54
        }
      ]
    },
    {
      "cell_type": "code",
      "metadata": {
        "colab": {
          "base_uri": "https://localhost:8080/"
        },
        "id": "vKhQAgoszaxl",
        "outputId": "1d61ed22-4b75-40e3-ea17-d9006669751e"
      },
      "source": [
        "df_clean2=df_clean2[['hotel', 'deposit_type', 'assigned_room_type', 'reserved_room_type',\r\n",
        "       'total_of_special_requests', 'meal', 'country', 'stays_in_week_nights',\r\n",
        "       'arrival_date_month', 'reservation_status']]\r\n",
        "df_clean2.info()"
      ],
      "execution_count": 55,
      "outputs": [
        {
          "output_type": "stream",
          "text": [
            "<class 'pandas.core.frame.DataFrame'>\n",
            "Int64Index: 12025 entries, 0 to 29262\n",
            "Data columns (total 10 columns):\n",
            " #   Column                     Non-Null Count  Dtype   \n",
            "---  ------                     --------------  -----   \n",
            " 0   hotel                      12025 non-null  category\n",
            " 1   deposit_type               12025 non-null  category\n",
            " 2   assigned_room_type         12025 non-null  category\n",
            " 3   reserved_room_type         12025 non-null  category\n",
            " 4   total_of_special_requests  12025 non-null  float64 \n",
            " 5   meal                       12025 non-null  category\n",
            " 6   country                    12025 non-null  category\n",
            " 7   stays_in_week_nights       12025 non-null  int64   \n",
            " 8   arrival_date_month         12025 non-null  category\n",
            " 9   reservation_status         12025 non-null  category\n",
            "dtypes: category(8), float64(1), int64(1)\n",
            "memory usage: 700.7 KB\n"
          ],
          "name": "stdout"
        }
      ]
    },
    {
      "cell_type": "code",
      "metadata": {
        "id": "qn-XU1VbITR0"
      },
      "source": [
        "df_clean2_copy = df_clean2.copy()"
      ],
      "execution_count": 56,
      "outputs": []
    },
    {
      "cell_type": "code",
      "metadata": {
        "colab": {
          "base_uri": "https://localhost:8080/",
          "height": 270
        },
        "id": "3Wn-F1pWHFLr",
        "outputId": "90c304f0-164c-494d-ab00-15842034f859"
      },
      "source": [
        "#creating dummies for the categorical columns\r\n",
        "columns = df_clean2.columns\r\n",
        "df_clean2 = pd.get_dummies(df_clean2, columns=columns, drop_first=True)\r\n",
        "df_clean2.head()"
      ],
      "execution_count": 57,
      "outputs": [
        {
          "output_type": "execute_result",
          "data": {
            "text/html": [
              "<div>\n",
              "<style scoped>\n",
              "    .dataframe tbody tr th:only-of-type {\n",
              "        vertical-align: middle;\n",
              "    }\n",
              "\n",
              "    .dataframe tbody tr th {\n",
              "        vertical-align: top;\n",
              "    }\n",
              "\n",
              "    .dataframe thead th {\n",
              "        text-align: right;\n",
              "    }\n",
              "</style>\n",
              "<table border=\"1\" class=\"dataframe\">\n",
              "  <thead>\n",
              "    <tr style=\"text-align: right;\">\n",
              "      <th></th>\n",
              "      <th>deposit_type_Non Refund</th>\n",
              "      <th>deposit_type_Refundable</th>\n",
              "      <th>assigned_room_type_B</th>\n",
              "      <th>assigned_room_type_C</th>\n",
              "      <th>assigned_room_type_D</th>\n",
              "      <th>assigned_room_type_E</th>\n",
              "      <th>assigned_room_type_F</th>\n",
              "      <th>assigned_room_type_G</th>\n",
              "      <th>assigned_room_type_H</th>\n",
              "      <th>assigned_room_type_I</th>\n",
              "      <th>reserved_room_type_B</th>\n",
              "      <th>reserved_room_type_C</th>\n",
              "      <th>reserved_room_type_D</th>\n",
              "      <th>reserved_room_type_E</th>\n",
              "      <th>reserved_room_type_F</th>\n",
              "      <th>reserved_room_type_G</th>\n",
              "      <th>reserved_room_type_H</th>\n",
              "      <th>reserved_room_type_L</th>\n",
              "      <th>total_of_special_requests_1.0</th>\n",
              "      <th>total_of_special_requests_2.0</th>\n",
              "      <th>meal_FB</th>\n",
              "      <th>meal_HB</th>\n",
              "      <th>meal_SC</th>\n",
              "      <th>meal_Undefined</th>\n",
              "      <th>country_ALB</th>\n",
              "      <th>country_AND</th>\n",
              "      <th>country_ARE</th>\n",
              "      <th>country_ARG</th>\n",
              "      <th>country_ARM</th>\n",
              "      <th>country_AUS</th>\n",
              "      <th>country_AUT</th>\n",
              "      <th>country_BDI</th>\n",
              "      <th>country_BEL</th>\n",
              "      <th>country_BGR</th>\n",
              "      <th>country_BHR</th>\n",
              "      <th>country_BIH</th>\n",
              "      <th>country_BLR</th>\n",
              "      <th>country_BRA</th>\n",
              "      <th>country_CHE</th>\n",
              "      <th>country_CHL</th>\n",
              "      <th>...</th>\n",
              "      <th>country_SUR</th>\n",
              "      <th>country_SVK</th>\n",
              "      <th>country_SVN</th>\n",
              "      <th>country_SWE</th>\n",
              "      <th>country_SYC</th>\n",
              "      <th>country_SYR</th>\n",
              "      <th>country_THA</th>\n",
              "      <th>country_TUN</th>\n",
              "      <th>country_TUR</th>\n",
              "      <th>country_UKR</th>\n",
              "      <th>country_URY</th>\n",
              "      <th>country_USA</th>\n",
              "      <th>country_VEN</th>\n",
              "      <th>country_VNM</th>\n",
              "      <th>country_ZAF</th>\n",
              "      <th>country_ZWE</th>\n",
              "      <th>stays_in_week_nights_1</th>\n",
              "      <th>stays_in_week_nights_2</th>\n",
              "      <th>stays_in_week_nights_3</th>\n",
              "      <th>stays_in_week_nights_4</th>\n",
              "      <th>stays_in_week_nights_5</th>\n",
              "      <th>stays_in_week_nights_6</th>\n",
              "      <th>stays_in_week_nights_7</th>\n",
              "      <th>stays_in_week_nights_8</th>\n",
              "      <th>stays_in_week_nights_9</th>\n",
              "      <th>stays_in_week_nights_10</th>\n",
              "      <th>stays_in_week_nights_11</th>\n",
              "      <th>arrival_date_month_August</th>\n",
              "      <th>arrival_date_month_December</th>\n",
              "      <th>arrival_date_month_February</th>\n",
              "      <th>arrival_date_month_January</th>\n",
              "      <th>arrival_date_month_July</th>\n",
              "      <th>arrival_date_month_June</th>\n",
              "      <th>arrival_date_month_March</th>\n",
              "      <th>arrival_date_month_May</th>\n",
              "      <th>arrival_date_month_November</th>\n",
              "      <th>arrival_date_month_October</th>\n",
              "      <th>arrival_date_month_September</th>\n",
              "      <th>reservation_status_Check-Out</th>\n",
              "      <th>reservation_status_No-Show</th>\n",
              "    </tr>\n",
              "  </thead>\n",
              "  <tbody>\n",
              "    <tr>\n",
              "      <th>0</th>\n",
              "      <td>0</td>\n",
              "      <td>0</td>\n",
              "      <td>0</td>\n",
              "      <td>1</td>\n",
              "      <td>0</td>\n",
              "      <td>0</td>\n",
              "      <td>0</td>\n",
              "      <td>0</td>\n",
              "      <td>0</td>\n",
              "      <td>0</td>\n",
              "      <td>0</td>\n",
              "      <td>1</td>\n",
              "      <td>0</td>\n",
              "      <td>0</td>\n",
              "      <td>0</td>\n",
              "      <td>0</td>\n",
              "      <td>0</td>\n",
              "      <td>0</td>\n",
              "      <td>0</td>\n",
              "      <td>0</td>\n",
              "      <td>0</td>\n",
              "      <td>0</td>\n",
              "      <td>0</td>\n",
              "      <td>0</td>\n",
              "      <td>0</td>\n",
              "      <td>0</td>\n",
              "      <td>0</td>\n",
              "      <td>0</td>\n",
              "      <td>0</td>\n",
              "      <td>0</td>\n",
              "      <td>0</td>\n",
              "      <td>0</td>\n",
              "      <td>0</td>\n",
              "      <td>0</td>\n",
              "      <td>0</td>\n",
              "      <td>0</td>\n",
              "      <td>0</td>\n",
              "      <td>0</td>\n",
              "      <td>0</td>\n",
              "      <td>0</td>\n",
              "      <td>...</td>\n",
              "      <td>0</td>\n",
              "      <td>0</td>\n",
              "      <td>0</td>\n",
              "      <td>0</td>\n",
              "      <td>0</td>\n",
              "      <td>0</td>\n",
              "      <td>0</td>\n",
              "      <td>0</td>\n",
              "      <td>0</td>\n",
              "      <td>0</td>\n",
              "      <td>0</td>\n",
              "      <td>0</td>\n",
              "      <td>0</td>\n",
              "      <td>0</td>\n",
              "      <td>0</td>\n",
              "      <td>0</td>\n",
              "      <td>0</td>\n",
              "      <td>0</td>\n",
              "      <td>0</td>\n",
              "      <td>0</td>\n",
              "      <td>0</td>\n",
              "      <td>0</td>\n",
              "      <td>0</td>\n",
              "      <td>0</td>\n",
              "      <td>0</td>\n",
              "      <td>0</td>\n",
              "      <td>0</td>\n",
              "      <td>0</td>\n",
              "      <td>0</td>\n",
              "      <td>0</td>\n",
              "      <td>0</td>\n",
              "      <td>1</td>\n",
              "      <td>0</td>\n",
              "      <td>0</td>\n",
              "      <td>0</td>\n",
              "      <td>0</td>\n",
              "      <td>0</td>\n",
              "      <td>0</td>\n",
              "      <td>1</td>\n",
              "      <td>0</td>\n",
              "    </tr>\n",
              "    <tr>\n",
              "      <th>4</th>\n",
              "      <td>0</td>\n",
              "      <td>0</td>\n",
              "      <td>0</td>\n",
              "      <td>0</td>\n",
              "      <td>0</td>\n",
              "      <td>0</td>\n",
              "      <td>0</td>\n",
              "      <td>0</td>\n",
              "      <td>0</td>\n",
              "      <td>0</td>\n",
              "      <td>0</td>\n",
              "      <td>0</td>\n",
              "      <td>0</td>\n",
              "      <td>0</td>\n",
              "      <td>0</td>\n",
              "      <td>0</td>\n",
              "      <td>0</td>\n",
              "      <td>0</td>\n",
              "      <td>1</td>\n",
              "      <td>0</td>\n",
              "      <td>0</td>\n",
              "      <td>0</td>\n",
              "      <td>0</td>\n",
              "      <td>0</td>\n",
              "      <td>0</td>\n",
              "      <td>0</td>\n",
              "      <td>0</td>\n",
              "      <td>0</td>\n",
              "      <td>0</td>\n",
              "      <td>0</td>\n",
              "      <td>0</td>\n",
              "      <td>0</td>\n",
              "      <td>0</td>\n",
              "      <td>0</td>\n",
              "      <td>0</td>\n",
              "      <td>0</td>\n",
              "      <td>0</td>\n",
              "      <td>0</td>\n",
              "      <td>0</td>\n",
              "      <td>0</td>\n",
              "      <td>...</td>\n",
              "      <td>0</td>\n",
              "      <td>0</td>\n",
              "      <td>0</td>\n",
              "      <td>0</td>\n",
              "      <td>0</td>\n",
              "      <td>0</td>\n",
              "      <td>0</td>\n",
              "      <td>0</td>\n",
              "      <td>0</td>\n",
              "      <td>0</td>\n",
              "      <td>0</td>\n",
              "      <td>0</td>\n",
              "      <td>0</td>\n",
              "      <td>0</td>\n",
              "      <td>0</td>\n",
              "      <td>0</td>\n",
              "      <td>0</td>\n",
              "      <td>1</td>\n",
              "      <td>0</td>\n",
              "      <td>0</td>\n",
              "      <td>0</td>\n",
              "      <td>0</td>\n",
              "      <td>0</td>\n",
              "      <td>0</td>\n",
              "      <td>0</td>\n",
              "      <td>0</td>\n",
              "      <td>0</td>\n",
              "      <td>0</td>\n",
              "      <td>0</td>\n",
              "      <td>0</td>\n",
              "      <td>0</td>\n",
              "      <td>1</td>\n",
              "      <td>0</td>\n",
              "      <td>0</td>\n",
              "      <td>0</td>\n",
              "      <td>0</td>\n",
              "      <td>0</td>\n",
              "      <td>0</td>\n",
              "      <td>1</td>\n",
              "      <td>0</td>\n",
              "    </tr>\n",
              "    <tr>\n",
              "      <th>6</th>\n",
              "      <td>0</td>\n",
              "      <td>0</td>\n",
              "      <td>0</td>\n",
              "      <td>1</td>\n",
              "      <td>0</td>\n",
              "      <td>0</td>\n",
              "      <td>0</td>\n",
              "      <td>0</td>\n",
              "      <td>0</td>\n",
              "      <td>0</td>\n",
              "      <td>0</td>\n",
              "      <td>1</td>\n",
              "      <td>0</td>\n",
              "      <td>0</td>\n",
              "      <td>0</td>\n",
              "      <td>0</td>\n",
              "      <td>0</td>\n",
              "      <td>0</td>\n",
              "      <td>0</td>\n",
              "      <td>0</td>\n",
              "      <td>0</td>\n",
              "      <td>0</td>\n",
              "      <td>0</td>\n",
              "      <td>0</td>\n",
              "      <td>0</td>\n",
              "      <td>0</td>\n",
              "      <td>0</td>\n",
              "      <td>0</td>\n",
              "      <td>0</td>\n",
              "      <td>0</td>\n",
              "      <td>0</td>\n",
              "      <td>0</td>\n",
              "      <td>0</td>\n",
              "      <td>0</td>\n",
              "      <td>0</td>\n",
              "      <td>0</td>\n",
              "      <td>0</td>\n",
              "      <td>0</td>\n",
              "      <td>0</td>\n",
              "      <td>0</td>\n",
              "      <td>...</td>\n",
              "      <td>0</td>\n",
              "      <td>0</td>\n",
              "      <td>0</td>\n",
              "      <td>0</td>\n",
              "      <td>0</td>\n",
              "      <td>0</td>\n",
              "      <td>0</td>\n",
              "      <td>0</td>\n",
              "      <td>0</td>\n",
              "      <td>0</td>\n",
              "      <td>0</td>\n",
              "      <td>0</td>\n",
              "      <td>0</td>\n",
              "      <td>0</td>\n",
              "      <td>0</td>\n",
              "      <td>0</td>\n",
              "      <td>0</td>\n",
              "      <td>1</td>\n",
              "      <td>0</td>\n",
              "      <td>0</td>\n",
              "      <td>0</td>\n",
              "      <td>0</td>\n",
              "      <td>0</td>\n",
              "      <td>0</td>\n",
              "      <td>0</td>\n",
              "      <td>0</td>\n",
              "      <td>0</td>\n",
              "      <td>0</td>\n",
              "      <td>0</td>\n",
              "      <td>0</td>\n",
              "      <td>0</td>\n",
              "      <td>1</td>\n",
              "      <td>0</td>\n",
              "      <td>0</td>\n",
              "      <td>0</td>\n",
              "      <td>0</td>\n",
              "      <td>0</td>\n",
              "      <td>0</td>\n",
              "      <td>1</td>\n",
              "      <td>0</td>\n",
              "    </tr>\n",
              "    <tr>\n",
              "      <th>7</th>\n",
              "      <td>0</td>\n",
              "      <td>0</td>\n",
              "      <td>0</td>\n",
              "      <td>1</td>\n",
              "      <td>0</td>\n",
              "      <td>0</td>\n",
              "      <td>0</td>\n",
              "      <td>0</td>\n",
              "      <td>0</td>\n",
              "      <td>0</td>\n",
              "      <td>0</td>\n",
              "      <td>1</td>\n",
              "      <td>0</td>\n",
              "      <td>0</td>\n",
              "      <td>0</td>\n",
              "      <td>0</td>\n",
              "      <td>0</td>\n",
              "      <td>0</td>\n",
              "      <td>1</td>\n",
              "      <td>0</td>\n",
              "      <td>1</td>\n",
              "      <td>0</td>\n",
              "      <td>0</td>\n",
              "      <td>0</td>\n",
              "      <td>0</td>\n",
              "      <td>0</td>\n",
              "      <td>0</td>\n",
              "      <td>0</td>\n",
              "      <td>0</td>\n",
              "      <td>0</td>\n",
              "      <td>0</td>\n",
              "      <td>0</td>\n",
              "      <td>0</td>\n",
              "      <td>0</td>\n",
              "      <td>0</td>\n",
              "      <td>0</td>\n",
              "      <td>0</td>\n",
              "      <td>0</td>\n",
              "      <td>0</td>\n",
              "      <td>0</td>\n",
              "      <td>...</td>\n",
              "      <td>0</td>\n",
              "      <td>0</td>\n",
              "      <td>0</td>\n",
              "      <td>0</td>\n",
              "      <td>0</td>\n",
              "      <td>0</td>\n",
              "      <td>0</td>\n",
              "      <td>0</td>\n",
              "      <td>0</td>\n",
              "      <td>0</td>\n",
              "      <td>0</td>\n",
              "      <td>0</td>\n",
              "      <td>0</td>\n",
              "      <td>0</td>\n",
              "      <td>0</td>\n",
              "      <td>0</td>\n",
              "      <td>0</td>\n",
              "      <td>1</td>\n",
              "      <td>0</td>\n",
              "      <td>0</td>\n",
              "      <td>0</td>\n",
              "      <td>0</td>\n",
              "      <td>0</td>\n",
              "      <td>0</td>\n",
              "      <td>0</td>\n",
              "      <td>0</td>\n",
              "      <td>0</td>\n",
              "      <td>0</td>\n",
              "      <td>0</td>\n",
              "      <td>0</td>\n",
              "      <td>0</td>\n",
              "      <td>1</td>\n",
              "      <td>0</td>\n",
              "      <td>0</td>\n",
              "      <td>0</td>\n",
              "      <td>0</td>\n",
              "      <td>0</td>\n",
              "      <td>0</td>\n",
              "      <td>1</td>\n",
              "      <td>0</td>\n",
              "    </tr>\n",
              "    <tr>\n",
              "      <th>8</th>\n",
              "      <td>0</td>\n",
              "      <td>0</td>\n",
              "      <td>0</td>\n",
              "      <td>0</td>\n",
              "      <td>0</td>\n",
              "      <td>0</td>\n",
              "      <td>0</td>\n",
              "      <td>0</td>\n",
              "      <td>0</td>\n",
              "      <td>0</td>\n",
              "      <td>0</td>\n",
              "      <td>0</td>\n",
              "      <td>0</td>\n",
              "      <td>0</td>\n",
              "      <td>0</td>\n",
              "      <td>0</td>\n",
              "      <td>0</td>\n",
              "      <td>0</td>\n",
              "      <td>1</td>\n",
              "      <td>0</td>\n",
              "      <td>0</td>\n",
              "      <td>0</td>\n",
              "      <td>0</td>\n",
              "      <td>0</td>\n",
              "      <td>0</td>\n",
              "      <td>0</td>\n",
              "      <td>0</td>\n",
              "      <td>0</td>\n",
              "      <td>0</td>\n",
              "      <td>0</td>\n",
              "      <td>0</td>\n",
              "      <td>0</td>\n",
              "      <td>0</td>\n",
              "      <td>0</td>\n",
              "      <td>0</td>\n",
              "      <td>0</td>\n",
              "      <td>0</td>\n",
              "      <td>0</td>\n",
              "      <td>0</td>\n",
              "      <td>0</td>\n",
              "      <td>...</td>\n",
              "      <td>0</td>\n",
              "      <td>0</td>\n",
              "      <td>0</td>\n",
              "      <td>0</td>\n",
              "      <td>0</td>\n",
              "      <td>0</td>\n",
              "      <td>0</td>\n",
              "      <td>0</td>\n",
              "      <td>0</td>\n",
              "      <td>0</td>\n",
              "      <td>0</td>\n",
              "      <td>0</td>\n",
              "      <td>0</td>\n",
              "      <td>0</td>\n",
              "      <td>0</td>\n",
              "      <td>0</td>\n",
              "      <td>0</td>\n",
              "      <td>0</td>\n",
              "      <td>1</td>\n",
              "      <td>0</td>\n",
              "      <td>0</td>\n",
              "      <td>0</td>\n",
              "      <td>0</td>\n",
              "      <td>0</td>\n",
              "      <td>0</td>\n",
              "      <td>0</td>\n",
              "      <td>0</td>\n",
              "      <td>0</td>\n",
              "      <td>0</td>\n",
              "      <td>0</td>\n",
              "      <td>0</td>\n",
              "      <td>1</td>\n",
              "      <td>0</td>\n",
              "      <td>0</td>\n",
              "      <td>0</td>\n",
              "      <td>0</td>\n",
              "      <td>0</td>\n",
              "      <td>0</td>\n",
              "      <td>0</td>\n",
              "      <td>0</td>\n",
              "    </tr>\n",
              "  </tbody>\n",
              "</table>\n",
              "<p>5 rows × 145 columns</p>\n",
              "</div>"
            ],
            "text/plain": [
              "   deposit_type_Non Refund  ...  reservation_status_No-Show\n",
              "0                        0  ...                           0\n",
              "4                        0  ...                           0\n",
              "6                        0  ...                           0\n",
              "7                        0  ...                           0\n",
              "8                        0  ...                           0\n",
              "\n",
              "[5 rows x 145 columns]"
            ]
          },
          "metadata": {
            "tags": []
          },
          "execution_count": 57
        }
      ]
    },
    {
      "cell_type": "code",
      "metadata": {
        "id": "bFuto6KtFIt0"
      },
      "source": [
        "##Defining our dependent and Independent Variables\r\n",
        "\r\n",
        "y = df_clean[['is_canceled']]\r\n",
        "X = df_clean2"
      ],
      "execution_count": 58,
      "outputs": []
    },
    {
      "cell_type": "code",
      "metadata": {
        "id": "eQHAXd-b4qdV"
      },
      "source": [
        "# Implementing the Solution\n",
        "import numpy as np\n",
        "from sklearn import metrics\n",
        "from sklearn.neighbors import KNeighborsClassifier, KNeighborsRegressor"
      ],
      "execution_count": 59,
      "outputs": []
    },
    {
      "cell_type": "code",
      "metadata": {
        "id": "hbxE1KSXgXvt"
      },
      "source": [
        "#Scaling the data\n",
        "from sklearn.preprocessing import StandardScaler\n",
        "scaler = StandardScaler()\n",
        "X = scaler.fit_transform(X)\n"
      ],
      "execution_count": 60,
      "outputs": []
    },
    {
      "cell_type": "code",
      "metadata": {
        "colab": {
          "base_uri": "https://localhost:8080/"
        },
        "id": "TL-TtkH5g0Br",
        "outputId": "caced472-8923-42d0-8ef7-29475d62dce6"
      },
      "source": [
        "# Using the 80-20 to train and test the model.\n",
        "from sklearn.model_selection import train_test_split\n",
        "X_train, X_test, y_train, y_test = train_test_split(X, y, test_size=0.2, random_state=0)\n",
        "X_train.shape, y_train.shape\n"
      ],
      "execution_count": 61,
      "outputs": [
        {
          "output_type": "execute_result",
          "data": {
            "text/plain": [
              "((9620, 145), (9620, 1))"
            ]
          },
          "metadata": {
            "tags": []
          },
          "execution_count": 61
        }
      ]
    },
    {
      "cell_type": "code",
      "metadata": {
        "id": "dsR_YFa2vvHV"
      },
      "source": [
        "from sklearn.svm import SVC\r\n",
        "from sklearn import metrics"
      ],
      "execution_count": 62,
      "outputs": []
    },
    {
      "cell_type": "markdown",
      "metadata": {
        "id": "WhVecZJ7OJ9c"
      },
      "source": [
        "#Linear SVM"
      ]
    },
    {
      "cell_type": "code",
      "metadata": {
        "colab": {
          "base_uri": "https://localhost:8080/"
        },
        "id": "HYkUkM5yLWdR",
        "outputId": "0749706e-cd6a-4756-db6d-3007f863d4f6"
      },
      "source": [
        "X_train, X_test, y_train, y_test = train_test_split(X, y, test_size = 0.2, random_state = 42)\r\n",
        "\r\n",
        "# Instance of svm model \r\n",
        "linear = SVC(kernel = 'linear')\r\n",
        "\r\n",
        "# Train the model using the training set\r\n",
        "print(linear.fit(X_train,y_train))"
      ],
      "execution_count": 63,
      "outputs": [
        {
          "output_type": "stream",
          "text": [
            "SVC(C=1.0, break_ties=False, cache_size=200, class_weight=None, coef0=0.0,\n",
            "    decision_function_shape='ovr', degree=3, gamma='scale', kernel='linear',\n",
            "    max_iter=-1, probability=False, random_state=None, shrinking=True,\n",
            "    tol=0.001, verbose=False)\n"
          ],
          "name": "stdout"
        }
      ]
    },
    {
      "cell_type": "code",
      "metadata": {
        "colab": {
          "base_uri": "https://localhost:8080/"
        },
        "id": "DnW3rSvbM97f",
        "outputId": "06a5fcf6-8fa0-4a22-b21d-d9eaad881209"
      },
      "source": [
        "# Predict the response for the test set\r\n",
        "linear.fit(X_train,y_train)\r\n",
        "\r\n",
        "y_pred_linear = linear.predict(X_test)\r\n",
        "\r\n",
        "#Checking performance our model with ROC Score.\r\n",
        "from sklearn.metrics import roc_auc_score\r\n",
        "\r\n",
        "roc_a = roc_auc_score(y_test, y_pred_linear)\r\n",
        "f1_a = f1_score(y_test, y_pred_linear)\r\n",
        "\r\n",
        "print('The roc score for the linear model is:',roc_a)\r\n",
        "print('The f1 score for the linear model is:', f1_a)"
      ],
      "execution_count": 64,
      "outputs": [
        {
          "output_type": "stream",
          "text": [
            "The roc score for the linear model is: 1.0\n",
            "The f1 score for the linear model is: 1.0\n"
          ],
          "name": "stdout"
        }
      ]
    },
    {
      "cell_type": "markdown",
      "metadata": {
        "id": "2b6OIJ6NOOml"
      },
      "source": [
        "#Poly SVM"
      ]
    },
    {
      "cell_type": "code",
      "metadata": {
        "id": "O2su1g1IORbN",
        "colab": {
          "base_uri": "https://localhost:8080/"
        },
        "outputId": "9f15cd2a-9766-4c8d-a236-53ebcc3cb0f1"
      },
      "source": [
        "poly_classifier = SVC(kernel = 'poly')\r\n",
        "\r\n",
        "# Train the model using the training set\r\n",
        "print(poly_classifier.fit(X_train,y_train))\r\n",
        "\r\n",
        "# Predict the response for the test set\r\n",
        "#\r\n",
        "poly_classifier.fit(X_train,y_train)\r\n",
        "\r\n",
        "y_pred_poly = poly_classifier.predict(X_test)\r\n",
        "\r\n",
        "# Calculating the roc_auc scores and F1 Score by comparing the actual and predicted values\r\n",
        "roc_b = roc_auc_score(y_test, y_pred_poly)\r\n",
        "f1_b = f1_score(y_test, y_pred_poly)\r\n",
        "\r\n",
        "print('The roc score for the linear model is:',roc_b)\r\n",
        "print('The f1 score for the linear model is:', f1_b)"
      ],
      "execution_count": 65,
      "outputs": [
        {
          "output_type": "stream",
          "text": [
            "SVC(C=1.0, break_ties=False, cache_size=200, class_weight=None, coef0=0.0,\n",
            "    decision_function_shape='ovr', degree=3, gamma='scale', kernel='poly',\n",
            "    max_iter=-1, probability=False, random_state=None, shrinking=True,\n",
            "    tol=0.001, verbose=False)\n",
            "The roc score for the linear model is: 0.6918261467329464\n",
            "The f1 score for the linear model is: 0.5558194774346794\n"
          ],
          "name": "stdout"
        }
      ]
    },
    {
      "cell_type": "markdown",
      "metadata": {
        "id": "H5hKVZ6JS_YA"
      },
      "source": [
        "#RBF model"
      ]
    },
    {
      "cell_type": "code",
      "metadata": {
        "id": "hzfFP19CSV1j",
        "colab": {
          "base_uri": "https://localhost:8080/"
        },
        "outputId": "4b0d7706-3ccc-4f9f-f7ef-69c406c123fc"
      },
      "source": [
        "# Building and training model \r\n",
        "rbf = SVC(kernel='rbf')\r\n",
        "\r\n",
        "# Train the model using the training set\r\n",
        "print(rbf.fit(X_train, y_train))\r\n",
        "\r\n",
        "rbf.fit(X_train, y_train)\r\n",
        "# y prediction\r\n",
        "y_pred_rbf = rbf.predict(X_test)\r\n",
        "\r\n",
        "#Calculating the roc_auc scores and F1 Score by comparing the actual and predicted values\r\n",
        "roc_c = roc_auc_score(y_test, y_pred_rbf)\r\n",
        "f1_c = f1_score(y_test, y_pred_rbf)\r\n",
        "\r\n",
        "print('The roc score for the rbf model is:',roc_c)\r\n",
        "print('The f1 score for the rbf model is:', f1_c)"
      ],
      "execution_count": 66,
      "outputs": [
        {
          "output_type": "stream",
          "text": [
            "SVC(C=1.0, break_ties=False, cache_size=200, class_weight=None, coef0=0.0,\n",
            "    decision_function_shape='ovr', degree=3, gamma='scale', kernel='rbf',\n",
            "    max_iter=-1, probability=False, random_state=None, shrinking=True,\n",
            "    tol=0.001, verbose=False)\n",
            "The roc score for the rbf model is: 0.9794415339526571\n",
            "The f1 score for the rbf model is: 0.9756097560975611\n"
          ],
          "name": "stdout"
        }
      ]
    },
    {
      "cell_type": "code",
      "metadata": {
        "id": "pk8pGCltRzQN",
        "colab": {
          "base_uri": "https://localhost:8080/"
        },
        "outputId": "7067855e-2ab5-46a9-c026-b1d5f06aedf6"
      },
      "source": [
        "# Reviewing the Solution \r\n",
        "# Models vs f1 score.\r\n",
        "models = ['linear model', 'polynomial model', 'rbf model']\r\n",
        "f1_scores = [f1_a,f1_b,f1_c]\r\n",
        "roc_auc_score = [roc_a,roc_b,roc_c]\r\n",
        "model_results = pd.DataFrame({'SVM models': models, 'f1_scores': f1_scores, 'roc_auc_score':roc_auc_score})\r\n",
        "\r\n",
        "print(model_results)\r\n",
        "print(\"\\n\")\r\n",
        "print(\"**************\")\r\n",
        "print(\"\\n\")\r\n",
        "print(\"The mean f1 scores is:\", model_results.mean())\r\n",
        "#model_results.sort_values(by = 'f1_scores',axis=0,ascending=False)"
      ],
      "execution_count": 67,
      "outputs": [
        {
          "output_type": "stream",
          "text": [
            "         SVM models  f1_scores  roc_auc_score\n",
            "0      linear model   1.000000       1.000000\n",
            "1  polynomial model   0.555819       0.691826\n",
            "2         rbf model   0.975610       0.979442\n",
            "\n",
            "\n",
            "**************\n",
            "\n",
            "\n",
            "The mean f1 scores is: f1_scores        0.843810\n",
            "roc_auc_score    0.890423\n",
            "dtype: float64\n"
          ],
          "name": "stdout"
        }
      ]
    },
    {
      "cell_type": "markdown",
      "metadata": {
        "id": "S4TrK3ny-Sw6"
      },
      "source": [
        "Notice that the liear model tends to overfit and thus the 100% accuracy may not be as accurate as possible.\r\n",
        "Comparing between the polynomial and rbf models, the rbf model outperforms the polynomial model.\r\n",
        "\r\n",
        "I will take the this model and tune the parameters to see how it affects our model's performance.\r\n",
        "\r\n",
        "> We did not need to plot a graph but we were able to get some pretty accurate results. One major resaon behind this is that we were dealing with multiple features so it would have been pretty hard to visualize. \r\n",
        "\r\n"
      ]
    },
    {
      "cell_type": "markdown",
      "metadata": {
        "id": "XT_lJRYfKI61"
      },
      "source": [
        "#Hyperparameter tuning"
      ]
    },
    {
      "cell_type": "markdown",
      "metadata": {
        "id": "D9xS-6_SQpAj"
      },
      "source": [
        "The RBF model is very sensitive to Gamma. \r\n",
        ">If gamma is too large, may lead to overfitting\r\n",
        ">If gamma is too small, the model is too constrained ie underfitted.\r\n",
        ">We'll use the random search cv to get the best parameters."
      ]
    },
    {
      "cell_type": "code",
      "metadata": {
        "id": "okoIfT1PkhP7",
        "colab": {
          "base_uri": "https://localhost:8080/"
        },
        "outputId": "f7d19a2b-c797-41db-8327-421b5e130755"
      },
      "source": [
        "#Grid Search Technique. Create a scorer function by using make_scorer\r\n",
        "from sklearn.metrics import f1_score, make_scorer\r\n",
        "from sklearn.model_selection import GridSearchCV\r\n",
        "\r\n",
        "f1_scorer=metrics.make_scorer(f1_score)\r\n",
        "#create a grid of parameters\r\n",
        "\r\n",
        "param_grid={\r\n",
        "            'kernel': ['rbf'],\r\n",
        "            'C': [0.1, 1.0, 8, 16, 32],\r\n",
        "            'gamma': [0.1,1,10,100,1000,10000]\r\n",
        "             }\r\n",
        "\r\n",
        "classifier=SVC()\r\n",
        "\r\n",
        "model=GridSearchCV(estimator=classifier, param_grid=param_grid, scoring=f1_scorer,\r\n",
        "                  verbose=10, n_jobs=4, cv=5)\r\n",
        "\r\n",
        "model.fit(X_train, y_train)\r\n",
        "\r\n",
        "print(\"Best score: %0.3f\" % model.best_score_)\r\n",
        "print(\"Best Parameters set:\")\r\n",
        "best_parameters=model.best_estimator_.get_params()\r\n",
        "\r\n",
        "for param_name in sorted(param_grid.keys()):\r\n",
        "    print(\"\\t%s: %r\" % (param_name, best_parameters[param_name]))\r\n",
        "\r\n"
      ],
      "execution_count": 69,
      "outputs": [
        {
          "output_type": "stream",
          "text": [
            "Fitting 5 folds for each of 30 candidates, totalling 150 fits\n"
          ],
          "name": "stdout"
        },
        {
          "output_type": "stream",
          "text": [
            "[Parallel(n_jobs=4)]: Using backend LokyBackend with 4 concurrent workers.\n",
            "[Parallel(n_jobs=4)]: Done   5 tasks      | elapsed:  1.4min\n",
            "[Parallel(n_jobs=4)]: Done  10 tasks      | elapsed:  2.2min\n",
            "[Parallel(n_jobs=4)]: Done  17 tasks      | elapsed:  3.6min\n",
            "[Parallel(n_jobs=4)]: Done  24 tasks      | elapsed:  4.4min\n",
            "[Parallel(n_jobs=4)]: Done  33 tasks      | elapsed:  6.3min\n",
            "[Parallel(n_jobs=4)]: Done  42 tasks      | elapsed:  7.7min\n",
            "[Parallel(n_jobs=4)]: Done  53 tasks      | elapsed:  9.8min\n",
            "[Parallel(n_jobs=4)]: Done  64 tasks      | elapsed: 11.3min\n",
            "[Parallel(n_jobs=4)]: Done  77 tasks      | elapsed: 13.6min\n",
            "[Parallel(n_jobs=4)]: Done  90 tasks      | elapsed: 15.7min\n",
            "[Parallel(n_jobs=4)]: Done 105 tasks      | elapsed: 18.2min\n",
            "[Parallel(n_jobs=4)]: Done 120 tasks      | elapsed: 20.3min\n",
            "[Parallel(n_jobs=4)]: Done 137 tasks      | elapsed: 23.2min\n",
            "[Parallel(n_jobs=4)]: Done 150 out of 150 | elapsed: 25.0min finished\n"
          ],
          "name": "stderr"
        },
        {
          "output_type": "stream",
          "text": [
            "Best score: 0.908\n",
            "Best Parameters set:\n",
            "\tC: 8\n",
            "\tgamma: 0.1\n",
            "\tkernel: 'rbf'\n"
          ],
          "name": "stdout"
        }
      ]
    },
    {
      "cell_type": "markdown",
      "metadata": {
        "id": "4KXc-b4Oof2j"
      },
      "source": [
        "Implementing the best parameters"
      ]
    },
    {
      "cell_type": "code",
      "metadata": {
        "id": "uKWC9EyTeP_n",
        "colab": {
          "base_uri": "https://localhost:8080/"
        },
        "outputId": "379229d4-8b5d-40a1-a0bc-5afd74758f97"
      },
      "source": [
        "# Building and training model \r\n",
        "rbf = SVC(kernel='rbf', C=8, gamma=0.1)\r\n",
        "\r\n",
        "# Train the model using the training set\r\n",
        "print(rbf.fit(X_train, y_train))\r\n",
        "\r\n",
        "rbf.fit(X_train, y_train)\r\n",
        "# y prediction\r\n",
        "y_pred_rbf = rbf.predict(X_test)\r\n",
        "f1_rbf_a= f1_score(y_test, y_pred_rbf)\r\n",
        "print('\\n The f1 score for the tuned model is:', f1_rbf_a)"
      ],
      "execution_count": 71,
      "outputs": [
        {
          "output_type": "stream",
          "text": [
            "SVC(C=8, break_ties=False, cache_size=200, class_weight=None, coef0=0.0,\n",
            "    decision_function_shape='ovr', degree=3, gamma=0.1, kernel='rbf',\n",
            "    max_iter=-1, probability=False, random_state=None, shrinking=True,\n",
            "    tol=0.001, verbose=False)\n",
            "\n",
            " The f1 score for the tuned model is: 0.9153936545240894\n"
          ],
          "name": "stdout"
        }
      ]
    },
    {
      "cell_type": "markdown",
      "metadata": {
        "id": "TS3mAyDv0UNX"
      },
      "source": [
        "Interestingly, after hyperparameter tuning the model perfomance improved."
      ]
    },
    {
      "cell_type": "markdown",
      "metadata": {
        "id": "dBZ3kEYdZh5M"
      },
      "source": [
        "#Recommendations\r\n",
        ">After trying a couple of models, we realized most of the models met 80% accuracy threshold.\r\n",
        "Random forest 99.19%\r\n",
        "KNN 89.29%\r\n",
        "Naive Bayes 100%\r\n",
        "logistic 98%\r\n",
        "Neural network 79.4%\r\n",
        "SVM 91.5%\r\n",
        "Therefore we recommend THE SVM model to be adopted"
      ]
    }
  ]
}